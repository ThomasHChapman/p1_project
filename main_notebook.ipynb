{
 "cells": [
  {
   "cell_type": "markdown",
   "metadata": {},
   "source": [
    "# Microsoft Movie Studios Business Plan"
   ]
  },
  {
   "cell_type": "markdown",
   "metadata": {},
   "source": [
    "## Overview"
   ]
  },
  {
   "cell_type": "markdown",
   "metadata": {},
   "source": []
  },
  {
   "cell_type": "markdown",
   "metadata": {},
   "source": [
    "## Business Problem"
   ]
  },
  {
   "cell_type": "markdown",
   "metadata": {},
   "source": [
    "Microsoft sees all the big companies creating original video content and they want to get in on the fun. They have decided to create a new movie studio, but they don’t know anything about creating movies. You are charged with exploring what types of films are currently doing the best at the box office. You must then translate those findings into actionable insights that the head of Microsoft's new movie studio can use to help decide what type of films to create.\n",
    "\n",
    "Movie production has significant up-front costs that will require internal stakeholder support to adequately fund new projects. Further, it will be important to generate engagement with Microsoft's titles both to maximize return on investment and to legitimize Microsoft as a content producer in the future. Therefore, this analysis aims to generate recommendations on how best to deploy the content production budget. \n",
    "\n",
    "We will use data from IMDB, The Numbers and The Movie Database to determine answers to the following questions:\n",
    "\n",
    "- What genres of movie are likely to optimize return on investment?\n",
    "\n",
    "- What is the relationship between movie budget and expected gross revenue? \n",
    "\n",
    "- What season/month should we target releases in order to optimize our return on investment?\n",
    "\n",
    "\n",
    "\n"
   ]
  },
  {
   "cell_type": "markdown",
   "metadata": {},
   "source": [
    "## Data Understanding"
   ]
  },
  {
   "cell_type": "markdown",
   "metadata": {},
   "source": [
    "For this analysis, we will utilize a database from IMDB, and two datasets from The Numbers.com and The Movie Database. The IMDB database contains robust information for each title--most notably the title, release date and relevant genres. The dataset from TheNumbers.com will primarily be used for return on investment data, including worldwide gross revenue and movie production budget. The Movie Database contains a proprietary popularity score which is calculated based on a number of factors to measure engagement. Documentation for TMDB's popularity score can be found [here.](https://developers.themoviedb.org/3/getting-started/popularity)."
   ]
  },
  {
   "cell_type": "code",
   "execution_count": 2,
   "metadata": {},
   "outputs": [],
   "source": [
    "# import necessary packages\n",
    "import pandas as pd\n",
    "import sqlite3\n",
    "import matplotlib.pyplot as plt\n",
    "import zipfile\n",
    "import numpy as np\n",
    "%matplotlib inline"
   ]
  },
  {
   "cell_type": "markdown",
   "metadata": {},
   "source": [
    "**The IMDB** dataset includes information on movies spanning nearly a century. Given the changing appetites over time, we elect to limit our dataset to movies released in 2010 or later."
   ]
  },
  {
   "cell_type": "code",
   "execution_count": 3,
   "metadata": {},
   "outputs": [],
   "source": [
    "# Extract IMDb SQL .db file\n",
    "with zipfile.ZipFile('./data/im.db.zip') as zipObj:\n",
    "    # Extract all contents of .zip file into current directory\n",
    "    zipObj.extractall(path='./data/')\n",
    "    \n",
    "# Create connection to IMDb DB\n",
    "conn = sqlite3.connect('./data/im.db')"
   ]
  },
  {
   "cell_type": "code",
   "execution_count": 4,
   "metadata": {},
   "outputs": [],
   "source": [
    "# CLEAN UP SQL QUERY"
   ]
  },
  {
   "cell_type": "code",
   "execution_count": 5,
   "metadata": {
    "scrolled": true
   },
   "outputs": [],
   "source": [
    "imdbq = \"\"\"\n",
    "SELECT\n",
    "    movie_id,\n",
    "    primary_title,\n",
    "    start_year,\n",
    "    genres\n",
    "    --,\n",
    "   -- movie_ratings.averagerating,\n",
    "   -- movie_ratings.numvotes\n",
    "    \n",
    "FROM\n",
    "    movie_basics\n",
    "    -- JOIN\n",
    "      --  movie_ratings\n",
    "          --  USING(movie_id)\n",
    " WHERE\n",
    "    start_year >= 2010 AND\n",
    "    start_year <= 2022\n",
    "    \n",
    "GROUP BY\n",
    "    movie_basics.movie_id\n",
    ";\n",
    "\"\"\"\n",
    "imdbq_df = pd.read_sql(imdbq, conn)"
   ]
  },
  {
   "cell_type": "code",
   "execution_count": 6,
   "metadata": {},
   "outputs": [],
   "source": [
    "conn.close()"
   ]
  },
  {
   "cell_type": "code",
   "execution_count": 7,
   "metadata": {},
   "outputs": [
    {
     "name": "stdout",
     "output_type": "stream",
     "text": [
      "(146133, 4)\n"
     ]
    },
    {
     "data": {
      "text/html": [
       "<div>\n",
       "<style scoped>\n",
       "    .dataframe tbody tr th:only-of-type {\n",
       "        vertical-align: middle;\n",
       "    }\n",
       "\n",
       "    .dataframe tbody tr th {\n",
       "        vertical-align: top;\n",
       "    }\n",
       "\n",
       "    .dataframe thead th {\n",
       "        text-align: right;\n",
       "    }\n",
       "</style>\n",
       "<table border=\"1\" class=\"dataframe\">\n",
       "  <thead>\n",
       "    <tr style=\"text-align: right;\">\n",
       "      <th></th>\n",
       "      <th>movie_id</th>\n",
       "      <th>primary_title</th>\n",
       "      <th>start_year</th>\n",
       "      <th>genres</th>\n",
       "    </tr>\n",
       "  </thead>\n",
       "  <tbody>\n",
       "    <tr>\n",
       "      <th>0</th>\n",
       "      <td>tt0063540</td>\n",
       "      <td>Sunghursh</td>\n",
       "      <td>2013</td>\n",
       "      <td>Action,Crime,Drama</td>\n",
       "    </tr>\n",
       "    <tr>\n",
       "      <th>1</th>\n",
       "      <td>tt0066787</td>\n",
       "      <td>One Day Before the Rainy Season</td>\n",
       "      <td>2019</td>\n",
       "      <td>Biography,Drama</td>\n",
       "    </tr>\n",
       "    <tr>\n",
       "      <th>2</th>\n",
       "      <td>tt0069049</td>\n",
       "      <td>The Other Side of the Wind</td>\n",
       "      <td>2018</td>\n",
       "      <td>Drama</td>\n",
       "    </tr>\n",
       "  </tbody>\n",
       "</table>\n",
       "</div>"
      ],
      "text/plain": [
       "    movie_id                    primary_title  start_year              genres\n",
       "0  tt0063540                        Sunghursh        2013  Action,Crime,Drama\n",
       "1  tt0066787  One Day Before the Rainy Season        2019     Biography,Drama\n",
       "2  tt0069049       The Other Side of the Wind        2018               Drama"
      ]
     },
     "execution_count": 7,
     "metadata": {},
     "output_type": "execute_result"
    }
   ],
   "source": [
    "print(imdbq_df.shape) \n",
    "imdbq_df.head(3)"
   ]
  },
  {
   "cell_type": "markdown",
   "metadata": {},
   "source": [
    "**The Numbers** contains budget, revenue and release date data for 5782 movies"
   ]
  },
  {
   "cell_type": "code",
   "execution_count": 8,
   "metadata": {},
   "outputs": [
    {
     "name": "stdout",
     "output_type": "stream",
     "text": [
      "(5782, 5)\n"
     ]
    },
    {
     "data": {
      "text/html": [
       "<div>\n",
       "<style scoped>\n",
       "    .dataframe tbody tr th:only-of-type {\n",
       "        vertical-align: middle;\n",
       "    }\n",
       "\n",
       "    .dataframe tbody tr th {\n",
       "        vertical-align: top;\n",
       "    }\n",
       "\n",
       "    .dataframe thead th {\n",
       "        text-align: right;\n",
       "    }\n",
       "</style>\n",
       "<table border=\"1\" class=\"dataframe\">\n",
       "  <thead>\n",
       "    <tr style=\"text-align: right;\">\n",
       "      <th></th>\n",
       "      <th>release_date</th>\n",
       "      <th>movie</th>\n",
       "      <th>production_budget</th>\n",
       "      <th>domestic_gross</th>\n",
       "      <th>worldwide_gross</th>\n",
       "    </tr>\n",
       "    <tr>\n",
       "      <th>id</th>\n",
       "      <th></th>\n",
       "      <th></th>\n",
       "      <th></th>\n",
       "      <th></th>\n",
       "      <th></th>\n",
       "    </tr>\n",
       "  </thead>\n",
       "  <tbody>\n",
       "    <tr>\n",
       "      <th>1</th>\n",
       "      <td>Dec 18, 2009</td>\n",
       "      <td>Avatar</td>\n",
       "      <td>$425,000,000</td>\n",
       "      <td>$760,507,625</td>\n",
       "      <td>$2,776,345,279</td>\n",
       "    </tr>\n",
       "    <tr>\n",
       "      <th>2</th>\n",
       "      <td>May 20, 2011</td>\n",
       "      <td>Pirates of the Caribbean: On Stranger Tides</td>\n",
       "      <td>$410,600,000</td>\n",
       "      <td>$241,063,875</td>\n",
       "      <td>$1,045,663,875</td>\n",
       "    </tr>\n",
       "    <tr>\n",
       "      <th>3</th>\n",
       "      <td>Jun 7, 2019</td>\n",
       "      <td>Dark Phoenix</td>\n",
       "      <td>$350,000,000</td>\n",
       "      <td>$42,762,350</td>\n",
       "      <td>$149,762,350</td>\n",
       "    </tr>\n",
       "  </tbody>\n",
       "</table>\n",
       "</div>"
      ],
      "text/plain": [
       "    release_date                                        movie  \\\n",
       "id                                                              \n",
       "1   Dec 18, 2009                                       Avatar   \n",
       "2   May 20, 2011  Pirates of the Caribbean: On Stranger Tides   \n",
       "3    Jun 7, 2019                                 Dark Phoenix   \n",
       "\n",
       "   production_budget domestic_gross worldwide_gross  \n",
       "id                                                   \n",
       "1       $425,000,000   $760,507,625  $2,776,345,279  \n",
       "2       $410,600,000   $241,063,875  $1,045,663,875  \n",
       "3       $350,000,000    $42,762,350    $149,762,350  "
      ]
     },
     "execution_count": 8,
     "metadata": {},
     "output_type": "execute_result"
    }
   ],
   "source": [
    "df_budget = pd.read_csv('./data/tn.movie_budgets.csv.gz', index_col=0)\n",
    "print(df_budget.shape)\n",
    "df_budget.head(3)"
   ]
  },
  {
   "cell_type": "markdown",
   "metadata": {},
   "source": [
    "**The Movie Database** contains genre, release date, title and popularity score data for 26517 movies.\n"
   ]
  },
  {
   "cell_type": "code",
   "execution_count": 9,
   "metadata": {
    "scrolled": false
   },
   "outputs": [
    {
     "name": "stdout",
     "output_type": "stream",
     "text": [
      "(26517, 9)\n"
     ]
    },
    {
     "data": {
      "text/html": [
       "<div>\n",
       "<style scoped>\n",
       "    .dataframe tbody tr th:only-of-type {\n",
       "        vertical-align: middle;\n",
       "    }\n",
       "\n",
       "    .dataframe tbody tr th {\n",
       "        vertical-align: top;\n",
       "    }\n",
       "\n",
       "    .dataframe thead th {\n",
       "        text-align: right;\n",
       "    }\n",
       "</style>\n",
       "<table border=\"1\" class=\"dataframe\">\n",
       "  <thead>\n",
       "    <tr style=\"text-align: right;\">\n",
       "      <th></th>\n",
       "      <th>genre_ids</th>\n",
       "      <th>id</th>\n",
       "      <th>original_language</th>\n",
       "      <th>original_title</th>\n",
       "      <th>popularity</th>\n",
       "      <th>release_date</th>\n",
       "      <th>title</th>\n",
       "      <th>vote_average</th>\n",
       "      <th>vote_count</th>\n",
       "    </tr>\n",
       "  </thead>\n",
       "  <tbody>\n",
       "    <tr>\n",
       "      <th>0</th>\n",
       "      <td>[12, 14, 10751]</td>\n",
       "      <td>12444</td>\n",
       "      <td>en</td>\n",
       "      <td>Harry Potter and the Deathly Hallows: Part 1</td>\n",
       "      <td>33.533</td>\n",
       "      <td>2010-11-19</td>\n",
       "      <td>Harry Potter and the Deathly Hallows: Part 1</td>\n",
       "      <td>7.7</td>\n",
       "      <td>10788</td>\n",
       "    </tr>\n",
       "    <tr>\n",
       "      <th>1</th>\n",
       "      <td>[14, 12, 16, 10751]</td>\n",
       "      <td>10191</td>\n",
       "      <td>en</td>\n",
       "      <td>How to Train Your Dragon</td>\n",
       "      <td>28.734</td>\n",
       "      <td>2010-03-26</td>\n",
       "      <td>How to Train Your Dragon</td>\n",
       "      <td>7.7</td>\n",
       "      <td>7610</td>\n",
       "    </tr>\n",
       "    <tr>\n",
       "      <th>2</th>\n",
       "      <td>[12, 28, 878]</td>\n",
       "      <td>10138</td>\n",
       "      <td>en</td>\n",
       "      <td>Iron Man 2</td>\n",
       "      <td>28.515</td>\n",
       "      <td>2010-05-07</td>\n",
       "      <td>Iron Man 2</td>\n",
       "      <td>6.8</td>\n",
       "      <td>12368</td>\n",
       "    </tr>\n",
       "  </tbody>\n",
       "</table>\n",
       "</div>"
      ],
      "text/plain": [
       "             genre_ids     id original_language  \\\n",
       "0      [12, 14, 10751]  12444                en   \n",
       "1  [14, 12, 16, 10751]  10191                en   \n",
       "2        [12, 28, 878]  10138                en   \n",
       "\n",
       "                                 original_title  popularity release_date  \\\n",
       "0  Harry Potter and the Deathly Hallows: Part 1      33.533   2010-11-19   \n",
       "1                      How to Train Your Dragon      28.734   2010-03-26   \n",
       "2                                    Iron Man 2      28.515   2010-05-07   \n",
       "\n",
       "                                          title  vote_average  vote_count  \n",
       "0  Harry Potter and the Deathly Hallows: Part 1           7.7       10788  \n",
       "1                      How to Train Your Dragon           7.7        7610  \n",
       "2                                    Iron Man 2           6.8       12368  "
      ]
     },
     "execution_count": 9,
     "metadata": {},
     "output_type": "execute_result"
    }
   ],
   "source": [
    "df_movies = pd.read_csv('./data/tmdb.movies.csv.gz', index_col=0)\n",
    "print(df_movies.shape)\n",
    "df_movies.head(3)\n"
   ]
  },
  {
   "cell_type": "markdown",
   "metadata": {},
   "source": [
    "## Data Preparation"
   ]
  },
  {
   "cell_type": "markdown",
   "metadata": {},
   "source": [
    "Our goal was to combine IMDB's expansive list of movies with TMDB's popularity score and budget data from The Numbers."
   ]
  },
  {
   "cell_type": "markdown",
   "metadata": {},
   "source": [
    "### Data Cleaning"
   ]
  },
  {
   "cell_type": "markdown",
   "metadata": {},
   "source": [
    "#### The Movie Database\n",
    "\n",
    "We checked TMD's data for instances where both title and release date were duplicated, and dropped those rows. Based on the other data in the table we did not have an easy way to sort out which of the duplicated records was accurate. Since the dropped data was a small subset, the impact on our overall analysis should be minimal.\n",
    "\n",
    "There were also instances where title was duplicated but original title was not--primarily in movies that were translated to another language. To avoid duplicating records, we dropped the records with duplicated titles as well."
   ]
  },
  {
   "cell_type": "code",
   "execution_count": 10,
   "metadata": {},
   "outputs": [
    {
     "data": {
      "text/plain": [
       "1026"
      ]
     },
     "execution_count": 10,
     "metadata": {},
     "output_type": "execute_result"
    }
   ],
   "source": [
    "df_movies[['original_title', 'release_date']].duplicated().sum()"
   ]
  },
  {
   "cell_type": "code",
   "execution_count": 11,
   "metadata": {},
   "outputs": [],
   "source": [
    "df_movies.drop_duplicates(subset=['original_title', 'release_date'], inplace=True)"
   ]
  },
  {
   "cell_type": "code",
   "execution_count": 12,
   "metadata": {},
   "outputs": [],
   "source": [
    "# May drop this, think it's ok\n",
    "\n",
    "df_movies.drop(df_movies[df_movies['genre_ids'] == '[]'].index, inplace=True)"
   ]
  },
  {
   "cell_type": "code",
   "execution_count": 13,
   "metadata": {},
   "outputs": [
    {
     "data": {
      "text/plain": [
       "686"
      ]
     },
     "execution_count": 13,
     "metadata": {},
     "output_type": "execute_result"
    }
   ],
   "source": [
    "df_movies['title'].duplicated().sum()"
   ]
  },
  {
   "cell_type": "code",
   "execution_count": 14,
   "metadata": {},
   "outputs": [
    {
     "data": {
      "text/html": [
       "<div>\n",
       "<style scoped>\n",
       "    .dataframe tbody tr th:only-of-type {\n",
       "        vertical-align: middle;\n",
       "    }\n",
       "\n",
       "    .dataframe tbody tr th {\n",
       "        vertical-align: top;\n",
       "    }\n",
       "\n",
       "    .dataframe thead th {\n",
       "        text-align: right;\n",
       "    }\n",
       "</style>\n",
       "<table border=\"1\" class=\"dataframe\">\n",
       "  <thead>\n",
       "    <tr style=\"text-align: right;\">\n",
       "      <th></th>\n",
       "      <th>genre_ids</th>\n",
       "      <th>id</th>\n",
       "      <th>original_language</th>\n",
       "      <th>original_title</th>\n",
       "      <th>popularity</th>\n",
       "      <th>release_date</th>\n",
       "      <th>title</th>\n",
       "      <th>vote_average</th>\n",
       "      <th>vote_count</th>\n",
       "    </tr>\n",
       "  </thead>\n",
       "  <tbody>\n",
       "    <tr>\n",
       "      <th>14</th>\n",
       "      <td>[27, 80]</td>\n",
       "      <td>41439</td>\n",
       "      <td>en</td>\n",
       "      <td>Saw 3D</td>\n",
       "      <td>20.370</td>\n",
       "      <td>2010-10-28</td>\n",
       "      <td>Saw: The Final Chapter</td>\n",
       "      <td>6.0</td>\n",
       "      <td>1488</td>\n",
       "    </tr>\n",
       "    <tr>\n",
       "      <th>49</th>\n",
       "      <td>[10749, 18]</td>\n",
       "      <td>61979</td>\n",
       "      <td>es</td>\n",
       "      <td>Tres metros sobre el cielo</td>\n",
       "      <td>13.721</td>\n",
       "      <td>2010-12-20</td>\n",
       "      <td>Three Steps Above Heaven</td>\n",
       "      <td>7.5</td>\n",
       "      <td>960</td>\n",
       "    </tr>\n",
       "    <tr>\n",
       "      <th>67</th>\n",
       "      <td>[16, 12, 14, 10751]</td>\n",
       "      <td>42949</td>\n",
       "      <td>en</td>\n",
       "      <td>Arthur 3: la guerre des deux mondes</td>\n",
       "      <td>12.679</td>\n",
       "      <td>2010-08-22</td>\n",
       "      <td>Arthur 3: The War of the Two Worlds</td>\n",
       "      <td>5.6</td>\n",
       "      <td>865</td>\n",
       "    </tr>\n",
       "    <tr>\n",
       "      <th>70</th>\n",
       "      <td>[80, 18, 9648, 10749]</td>\n",
       "      <td>25376</td>\n",
       "      <td>es</td>\n",
       "      <td>El secreto de sus ojos</td>\n",
       "      <td>12.531</td>\n",
       "      <td>2010-04-16</td>\n",
       "      <td>The Secret in Their Eyes</td>\n",
       "      <td>7.9</td>\n",
       "      <td>1141</td>\n",
       "    </tr>\n",
       "    <tr>\n",
       "      <th>75</th>\n",
       "      <td>[16]</td>\n",
       "      <td>28874</td>\n",
       "      <td>ja</td>\n",
       "      <td>サマーウォーズ</td>\n",
       "      <td>12.275</td>\n",
       "      <td>2010-10-13</td>\n",
       "      <td>Summer Wars</td>\n",
       "      <td>7.5</td>\n",
       "      <td>447</td>\n",
       "    </tr>\n",
       "    <tr>\n",
       "      <th>79</th>\n",
       "      <td>[28, 53, 80, 9648]</td>\n",
       "      <td>33613</td>\n",
       "      <td>sv</td>\n",
       "      <td>Luftslottet som sprängdes</td>\n",
       "      <td>12.235</td>\n",
       "      <td>2010-10-29</td>\n",
       "      <td>The Girl Who Kicked the Hornet's Nest</td>\n",
       "      <td>7.0</td>\n",
       "      <td>705</td>\n",
       "    </tr>\n",
       "    <tr>\n",
       "      <th>84</th>\n",
       "      <td>[12, 14, 16, 878]</td>\n",
       "      <td>37933</td>\n",
       "      <td>ja</td>\n",
       "      <td>ゲド戦記</td>\n",
       "      <td>12.005</td>\n",
       "      <td>2010-08-13</td>\n",
       "      <td>Tales from Earthsea</td>\n",
       "      <td>6.6</td>\n",
       "      <td>502</td>\n",
       "    </tr>\n",
       "    <tr>\n",
       "      <th>87</th>\n",
       "      <td>[18, 28, 53, 80, 9648]</td>\n",
       "      <td>24253</td>\n",
       "      <td>sv</td>\n",
       "      <td>Flickan som lekte med elden</td>\n",
       "      <td>11.655</td>\n",
       "      <td>2010-07-09</td>\n",
       "      <td>The Girl Who Played with Fire</td>\n",
       "      <td>7.0</td>\n",
       "      <td>881</td>\n",
       "    </tr>\n",
       "    <tr>\n",
       "      <th>98</th>\n",
       "      <td>[14, 12, 28, 9648]</td>\n",
       "      <td>35552</td>\n",
       "      <td>fr</td>\n",
       "      <td>Les Aventures extraordinaires d'Adèle Blanc-Sec</td>\n",
       "      <td>11.221</td>\n",
       "      <td>2010-04-14</td>\n",
       "      <td>The Extraordinary Adventures of Adèle Blanc-Sec</td>\n",
       "      <td>6.0</td>\n",
       "      <td>671</td>\n",
       "    </tr>\n",
       "    <tr>\n",
       "      <th>103</th>\n",
       "      <td>[28, 18, 36]</td>\n",
       "      <td>11645</td>\n",
       "      <td>ja</td>\n",
       "      <td>乱</td>\n",
       "      <td>10.885</td>\n",
       "      <td>1985-09-26</td>\n",
       "      <td>Ran</td>\n",
       "      <td>8.1</td>\n",
       "      <td>600</td>\n",
       "    </tr>\n",
       "  </tbody>\n",
       "</table>\n",
       "</div>"
      ],
      "text/plain": [
       "                  genre_ids     id original_language  \\\n",
       "14                 [27, 80]  41439                en   \n",
       "49              [10749, 18]  61979                es   \n",
       "67      [16, 12, 14, 10751]  42949                en   \n",
       "70    [80, 18, 9648, 10749]  25376                es   \n",
       "75                     [16]  28874                ja   \n",
       "79       [28, 53, 80, 9648]  33613                sv   \n",
       "84        [12, 14, 16, 878]  37933                ja   \n",
       "87   [18, 28, 53, 80, 9648]  24253                sv   \n",
       "98       [14, 12, 28, 9648]  35552                fr   \n",
       "103            [28, 18, 36]  11645                ja   \n",
       "\n",
       "                                      original_title  popularity release_date  \\\n",
       "14                                            Saw 3D      20.370   2010-10-28   \n",
       "49                        Tres metros sobre el cielo      13.721   2010-12-20   \n",
       "67               Arthur 3: la guerre des deux mondes      12.679   2010-08-22   \n",
       "70                            El secreto de sus ojos      12.531   2010-04-16   \n",
       "75                                           サマーウォーズ      12.275   2010-10-13   \n",
       "79                         Luftslottet som sprängdes      12.235   2010-10-29   \n",
       "84                                              ゲド戦記      12.005   2010-08-13   \n",
       "87                       Flickan som lekte med elden      11.655   2010-07-09   \n",
       "98   Les Aventures extraordinaires d'Adèle Blanc-Sec      11.221   2010-04-14   \n",
       "103                                                乱      10.885   1985-09-26   \n",
       "\n",
       "                                               title  vote_average  vote_count  \n",
       "14                            Saw: The Final Chapter           6.0        1488  \n",
       "49                          Three Steps Above Heaven           7.5         960  \n",
       "67               Arthur 3: The War of the Two Worlds           5.6         865  \n",
       "70                          The Secret in Their Eyes           7.9        1141  \n",
       "75                                       Summer Wars           7.5         447  \n",
       "79             The Girl Who Kicked the Hornet's Nest           7.0         705  \n",
       "84                               Tales from Earthsea           6.6         502  \n",
       "87                     The Girl Who Played with Fire           7.0         881  \n",
       "98   The Extraordinary Adventures of Adèle Blanc-Sec           6.0         671  \n",
       "103                                              Ran           8.1         600  "
      ]
     },
     "execution_count": 14,
     "metadata": {},
     "output_type": "execute_result"
    }
   ],
   "source": [
    "# examine instances where 'title' is duplicated but 'original_title' is not\n",
    "df_duplicated_titles = df_movies[df_movies['original_title'] != df_movies['title']]\n",
    "df_duplicated_titles.head(10)\n"
   ]
  },
  {
   "cell_type": "code",
   "execution_count": 15,
   "metadata": {},
   "outputs": [],
   "source": [
    "df_movies.drop_duplicates(subset='original_title', inplace=True)"
   ]
  },
  {
   "cell_type": "markdown",
   "metadata": {},
   "source": [
    "#### The Numbers"
   ]
  },
  {
   "cell_type": "markdown",
   "metadata": {},
   "source": [
    "Description"
   ]
  },
  {
   "cell_type": "code",
   "execution_count": 16,
   "metadata": {},
   "outputs": [],
   "source": [
    "# Converted release date to a date/time format.\n",
    "\n",
    "df_budget['release_date'] = pd.to_datetime(df_budget['release_date'])"
   ]
  },
  {
   "cell_type": "code",
   "execution_count": 17,
   "metadata": {},
   "outputs": [
    {
     "data": {
      "text/html": [
       "<div>\n",
       "<style scoped>\n",
       "    .dataframe tbody tr th:only-of-type {\n",
       "        vertical-align: middle;\n",
       "    }\n",
       "\n",
       "    .dataframe tbody tr th {\n",
       "        vertical-align: top;\n",
       "    }\n",
       "\n",
       "    .dataframe thead th {\n",
       "        text-align: right;\n",
       "    }\n",
       "</style>\n",
       "<table border=\"1\" class=\"dataframe\">\n",
       "  <thead>\n",
       "    <tr style=\"text-align: right;\">\n",
       "      <th></th>\n",
       "      <th>release_date</th>\n",
       "      <th>movie</th>\n",
       "      <th>production_budget</th>\n",
       "      <th>domestic_gross</th>\n",
       "      <th>worldwide_gross</th>\n",
       "      <th>release_year</th>\n",
       "      <th>release_month</th>\n",
       "    </tr>\n",
       "    <tr>\n",
       "      <th>id</th>\n",
       "      <th></th>\n",
       "      <th></th>\n",
       "      <th></th>\n",
       "      <th></th>\n",
       "      <th></th>\n",
       "      <th></th>\n",
       "      <th></th>\n",
       "    </tr>\n",
       "  </thead>\n",
       "  <tbody>\n",
       "    <tr>\n",
       "      <th>1</th>\n",
       "      <td>2009-12-18</td>\n",
       "      <td>Avatar</td>\n",
       "      <td>$425,000,000</td>\n",
       "      <td>$760,507,625</td>\n",
       "      <td>$2,776,345,279</td>\n",
       "      <td>2009</td>\n",
       "      <td>12</td>\n",
       "    </tr>\n",
       "    <tr>\n",
       "      <th>2</th>\n",
       "      <td>2011-05-20</td>\n",
       "      <td>Pirates of the Caribbean: On Stranger Tides</td>\n",
       "      <td>$410,600,000</td>\n",
       "      <td>$241,063,875</td>\n",
       "      <td>$1,045,663,875</td>\n",
       "      <td>2011</td>\n",
       "      <td>5</td>\n",
       "    </tr>\n",
       "    <tr>\n",
       "      <th>3</th>\n",
       "      <td>2019-06-07</td>\n",
       "      <td>Dark Phoenix</td>\n",
       "      <td>$350,000,000</td>\n",
       "      <td>$42,762,350</td>\n",
       "      <td>$149,762,350</td>\n",
       "      <td>2019</td>\n",
       "      <td>6</td>\n",
       "    </tr>\n",
       "  </tbody>\n",
       "</table>\n",
       "</div>"
      ],
      "text/plain": [
       "   release_date                                        movie  \\\n",
       "id                                                             \n",
       "1    2009-12-18                                       Avatar   \n",
       "2    2011-05-20  Pirates of the Caribbean: On Stranger Tides   \n",
       "3    2019-06-07                                 Dark Phoenix   \n",
       "\n",
       "   production_budget domestic_gross worldwide_gross  release_year  \\\n",
       "id                                                                  \n",
       "1       $425,000,000   $760,507,625  $2,776,345,279          2009   \n",
       "2       $410,600,000   $241,063,875  $1,045,663,875          2011   \n",
       "3       $350,000,000    $42,762,350    $149,762,350          2019   \n",
       "\n",
       "    release_month  \n",
       "id                 \n",
       "1              12  \n",
       "2               5  \n",
       "3               6  "
      ]
     },
     "execution_count": 17,
     "metadata": {},
     "output_type": "execute_result"
    }
   ],
   "source": [
    "# Created release year and release month columns, and converted values to integers.\n",
    "\n",
    "df_budget['release_year'] = df_budget['release_date'].dt.strftime(\"%Y%m%d\").str[:4].astype(int)\n",
    "df_budget['release_month'] = df_budget['release_date'].dt.strftime(\"%Y%m%d\").str[4:6].astype(int)\n",
    "df_budget.head(3)"
   ]
  },
  {
   "cell_type": "code",
   "execution_count": 18,
   "metadata": {},
   "outputs": [],
   "source": [
    "# Removed punctuation from production budget and converted the column values to integers.\n",
    "\n",
    "df_budget['production_budget'] = df_budget['production_budget'].str.replace(',','')\n",
    "df_budget['production_budget'] = df_budget['production_budget'].str.replace('$', '')\n",
    "df_budget['production_budget'] = df_budget['production_budget'].astype(int)"
   ]
  },
  {
   "cell_type": "code",
   "execution_count": 19,
   "metadata": {},
   "outputs": [],
   "source": [
    "# Removed punctuation from worldwide gross and converted the column values to integers.\n",
    "\n",
    "df_budget['worldwide_gross'] = df_budget['worldwide_gross'].str.replace(',','')\n",
    "df_budget['worldwide_gross'] = df_budget['worldwide_gross'].str.replace('$', '')\n",
    "df_budget['worldwide_gross'] = df_budget['worldwide_gross'].astype(int)"
   ]
  },
  {
   "cell_type": "code",
   "execution_count": 20,
   "metadata": {
    "scrolled": true
   },
   "outputs": [
    {
     "data": {
      "text/plain": [
       "84"
      ]
     },
     "execution_count": 20,
     "metadata": {},
     "output_type": "execute_result"
    }
   ],
   "source": [
    "df_budget['movie'].duplicated().sum()"
   ]
  },
  {
   "cell_type": "code",
   "execution_count": 21,
   "metadata": {},
   "outputs": [],
   "source": [
    "# Drop records where movie name is duplicated, and drop unused \"domestic_gross\" column.\n",
    "\n",
    "df_budget = df_budget.drop_duplicates(subset='movie')\n",
    "\n",
    "df_budget = df_budget.drop('domestic_gross', axis=1)"
   ]
  },
  {
   "cell_type": "code",
   "execution_count": 22,
   "metadata": {},
   "outputs": [
    {
     "data": {
      "text/html": [
       "<div>\n",
       "<style scoped>\n",
       "    .dataframe tbody tr th:only-of-type {\n",
       "        vertical-align: middle;\n",
       "    }\n",
       "\n",
       "    .dataframe tbody tr th {\n",
       "        vertical-align: top;\n",
       "    }\n",
       "\n",
       "    .dataframe thead th {\n",
       "        text-align: right;\n",
       "    }\n",
       "</style>\n",
       "<table border=\"1\" class=\"dataframe\">\n",
       "  <thead>\n",
       "    <tr style=\"text-align: right;\">\n",
       "      <th></th>\n",
       "      <th>release_date</th>\n",
       "      <th>movie</th>\n",
       "      <th>production_budget</th>\n",
       "      <th>worldwide_gross</th>\n",
       "      <th>release_year</th>\n",
       "      <th>release_month</th>\n",
       "      <th>return_on_investment</th>\n",
       "    </tr>\n",
       "    <tr>\n",
       "      <th>id</th>\n",
       "      <th></th>\n",
       "      <th></th>\n",
       "      <th></th>\n",
       "      <th></th>\n",
       "      <th></th>\n",
       "      <th></th>\n",
       "      <th></th>\n",
       "    </tr>\n",
       "  </thead>\n",
       "  <tbody>\n",
       "    <tr>\n",
       "      <th>1</th>\n",
       "      <td>2009-12-18</td>\n",
       "      <td>Avatar</td>\n",
       "      <td>425000000</td>\n",
       "      <td>2776345279</td>\n",
       "      <td>2009</td>\n",
       "      <td>12</td>\n",
       "      <td>2351345279</td>\n",
       "    </tr>\n",
       "    <tr>\n",
       "      <th>2</th>\n",
       "      <td>2011-05-20</td>\n",
       "      <td>Pirates of the Caribbean: On Stranger Tides</td>\n",
       "      <td>410600000</td>\n",
       "      <td>1045663875</td>\n",
       "      <td>2011</td>\n",
       "      <td>5</td>\n",
       "      <td>635063875</td>\n",
       "    </tr>\n",
       "    <tr>\n",
       "      <th>3</th>\n",
       "      <td>2019-06-07</td>\n",
       "      <td>Dark Phoenix</td>\n",
       "      <td>350000000</td>\n",
       "      <td>149762350</td>\n",
       "      <td>2019</td>\n",
       "      <td>6</td>\n",
       "      <td>-200237650</td>\n",
       "    </tr>\n",
       "  </tbody>\n",
       "</table>\n",
       "</div>"
      ],
      "text/plain": [
       "   release_date                                        movie  \\\n",
       "id                                                             \n",
       "1    2009-12-18                                       Avatar   \n",
       "2    2011-05-20  Pirates of the Caribbean: On Stranger Tides   \n",
       "3    2019-06-07                                 Dark Phoenix   \n",
       "\n",
       "    production_budget  worldwide_gross  release_year  release_month  \\\n",
       "id                                                                    \n",
       "1           425000000       2776345279          2009             12   \n",
       "2           410600000       1045663875          2011              5   \n",
       "3           350000000        149762350          2019              6   \n",
       "\n",
       "    return_on_investment  \n",
       "id                        \n",
       "1             2351345279  \n",
       "2              635063875  \n",
       "3             -200237650  "
      ]
     },
     "execution_count": 22,
     "metadata": {},
     "output_type": "execute_result"
    }
   ],
   "source": [
    "# Add return on investment column equal to worldwide_gross minus production budget.\n",
    "\n",
    "df_budget['return_on_investment'] = df_budget['worldwide_gross'] - df_budget['production_budget']\n",
    "df_budget.head(3)"
   ]
  },
  {
   "cell_type": "markdown",
   "metadata": {},
   "source": [
    "#### IMDB"
   ]
  },
  {
   "cell_type": "markdown",
   "metadata": {},
   "source": [
    "Data contains 2,072 records where primary title AND start year are duplicated, which is ~1.4% of the dataset. We will drop these records as we have no easy way to correlate them with the other data sets, and they comprise an insignificant portion of the overall population."
   ]
  },
  {
   "cell_type": "code",
   "execution_count": 23,
   "metadata": {},
   "outputs": [
    {
     "data": {
      "text/plain": [
       "False    144061\n",
       "True       2072\n",
       "dtype: int64"
      ]
     },
     "execution_count": 23,
     "metadata": {},
     "output_type": "execute_result"
    }
   ],
   "source": [
    "# Drop rows where primary title and start year are duplicated.\n",
    "\n",
    "imdbq_df.duplicated(['primary_title', 'start_year']).value_counts()"
   ]
  },
  {
   "cell_type": "code",
   "execution_count": 24,
   "metadata": {
    "scrolled": true
   },
   "outputs": [
    {
     "data": {
      "text/plain": [
       "(144061, 4)"
      ]
     },
     "execution_count": 24,
     "metadata": {},
     "output_type": "execute_result"
    }
   ],
   "source": [
    "# Drop rows where primary title and start year are duplicated.\n",
    "\n",
    "imdbq_df = imdbq_df.drop_duplicates(subset=['primary_title', 'start_year'])\n",
    "imdbq_df.shape"
   ]
  },
  {
   "cell_type": "code",
   "execution_count": 25,
   "metadata": {},
   "outputs": [],
   "source": [
    "# Convert genres column from a single string into a list of strings.\n",
    "\n",
    "imdbq_df['genres'] = imdbq_df['genres'].str.split(\",\")"
   ]
  },
  {
   "cell_type": "code",
   "execution_count": 26,
   "metadata": {},
   "outputs": [
    {
     "data": {
      "text/html": [
       "<div>\n",
       "<style scoped>\n",
       "    .dataframe tbody tr th:only-of-type {\n",
       "        vertical-align: middle;\n",
       "    }\n",
       "\n",
       "    .dataframe tbody tr th {\n",
       "        vertical-align: top;\n",
       "    }\n",
       "\n",
       "    .dataframe thead th {\n",
       "        text-align: right;\n",
       "    }\n",
       "</style>\n",
       "<table border=\"1\" class=\"dataframe\">\n",
       "  <thead>\n",
       "    <tr style=\"text-align: right;\">\n",
       "      <th></th>\n",
       "      <th>movie_id</th>\n",
       "      <th>primary_title</th>\n",
       "      <th>start_year</th>\n",
       "      <th>genres</th>\n",
       "    </tr>\n",
       "  </thead>\n",
       "  <tbody>\n",
       "    <tr>\n",
       "      <th>0</th>\n",
       "      <td>tt0063540</td>\n",
       "      <td>Sunghursh</td>\n",
       "      <td>2013</td>\n",
       "      <td>[Action, Crime, Drama]</td>\n",
       "    </tr>\n",
       "    <tr>\n",
       "      <th>1</th>\n",
       "      <td>tt0066787</td>\n",
       "      <td>One Day Before the Rainy Season</td>\n",
       "      <td>2019</td>\n",
       "      <td>[Biography, Drama]</td>\n",
       "    </tr>\n",
       "    <tr>\n",
       "      <th>2</th>\n",
       "      <td>tt0069049</td>\n",
       "      <td>The Other Side of the Wind</td>\n",
       "      <td>2018</td>\n",
       "      <td>[Drama]</td>\n",
       "    </tr>\n",
       "  </tbody>\n",
       "</table>\n",
       "</div>"
      ],
      "text/plain": [
       "    movie_id                    primary_title  start_year  \\\n",
       "0  tt0063540                        Sunghursh        2013   \n",
       "1  tt0066787  One Day Before the Rainy Season        2019   \n",
       "2  tt0069049       The Other Side of the Wind        2018   \n",
       "\n",
       "                   genres  \n",
       "0  [Action, Crime, Drama]  \n",
       "1      [Biography, Drama]  \n",
       "2                 [Drama]  "
      ]
     },
     "execution_count": 26,
     "metadata": {},
     "output_type": "execute_result"
    }
   ],
   "source": [
    "imdbq_df.head(3)"
   ]
  },
  {
   "cell_type": "code",
   "execution_count": null,
   "metadata": {},
   "outputs": [],
   "source": []
  },
  {
   "cell_type": "code",
   "execution_count": null,
   "metadata": {},
   "outputs": [],
   "source": []
  },
  {
   "cell_type": "code",
   "execution_count": null,
   "metadata": {},
   "outputs": [],
   "source": []
  },
  {
   "cell_type": "code",
   "execution_count": null,
   "metadata": {},
   "outputs": [],
   "source": []
  },
  {
   "cell_type": "markdown",
   "metadata": {},
   "source": [
    "### Merging Datasets"
   ]
  },
  {
   "cell_type": "code",
   "execution_count": 27,
   "metadata": {},
   "outputs": [],
   "source": [
    "# inner merge imdb data with tmdb budget data on movie name & year\n",
    "\n",
    "imdb_inner = imdbq_df.merge(df_budget, how='inner', left_on=['primary_title', 'start_year'], right_on=['movie', 'release_year'])"
   ]
  },
  {
   "cell_type": "code",
   "execution_count": 28,
   "metadata": {},
   "outputs": [
    {
     "data": {
      "text/plain": [
       "(1468, 11)"
      ]
     },
     "execution_count": 28,
     "metadata": {},
     "output_type": "execute_result"
    }
   ],
   "source": [
    "imdb_inner.shape"
   ]
  },
  {
   "cell_type": "code",
   "execution_count": 29,
   "metadata": {},
   "outputs": [
    {
     "data": {
      "text/html": [
       "<div>\n",
       "<style scoped>\n",
       "    .dataframe tbody tr th:only-of-type {\n",
       "        vertical-align: middle;\n",
       "    }\n",
       "\n",
       "    .dataframe tbody tr th {\n",
       "        vertical-align: top;\n",
       "    }\n",
       "\n",
       "    .dataframe thead th {\n",
       "        text-align: right;\n",
       "    }\n",
       "</style>\n",
       "<table border=\"1\" class=\"dataframe\">\n",
       "  <thead>\n",
       "    <tr style=\"text-align: right;\">\n",
       "      <th></th>\n",
       "      <th>movie_id</th>\n",
       "      <th>primary_title</th>\n",
       "      <th>start_year</th>\n",
       "      <th>genres</th>\n",
       "      <th>release_date</th>\n",
       "      <th>movie</th>\n",
       "      <th>production_budget</th>\n",
       "      <th>worldwide_gross</th>\n",
       "      <th>release_year</th>\n",
       "      <th>release_month</th>\n",
       "      <th>return_on_investment</th>\n",
       "    </tr>\n",
       "  </thead>\n",
       "  <tbody>\n",
       "    <tr>\n",
       "      <th>0</th>\n",
       "      <td>tt0249516</td>\n",
       "      <td>Foodfight!</td>\n",
       "      <td>2012</td>\n",
       "      <td>[Action, Animation, Comedy]</td>\n",
       "      <td>2012-12-31</td>\n",
       "      <td>Foodfight!</td>\n",
       "      <td>45000000</td>\n",
       "      <td>73706</td>\n",
       "      <td>2012</td>\n",
       "      <td>12</td>\n",
       "      <td>-44926294</td>\n",
       "    </tr>\n",
       "    <tr>\n",
       "      <th>1</th>\n",
       "      <td>tt0359950</td>\n",
       "      <td>The Secret Life of Walter Mitty</td>\n",
       "      <td>2013</td>\n",
       "      <td>[Adventure, Comedy, Drama]</td>\n",
       "      <td>2013-12-25</td>\n",
       "      <td>The Secret Life of Walter Mitty</td>\n",
       "      <td>91000000</td>\n",
       "      <td>187861183</td>\n",
       "      <td>2013</td>\n",
       "      <td>12</td>\n",
       "      <td>96861183</td>\n",
       "    </tr>\n",
       "    <tr>\n",
       "      <th>2</th>\n",
       "      <td>tt0365907</td>\n",
       "      <td>A Walk Among the Tombstones</td>\n",
       "      <td>2014</td>\n",
       "      <td>[Action, Crime, Drama]</td>\n",
       "      <td>2014-09-19</td>\n",
       "      <td>A Walk Among the Tombstones</td>\n",
       "      <td>28000000</td>\n",
       "      <td>62108587</td>\n",
       "      <td>2014</td>\n",
       "      <td>9</td>\n",
       "      <td>34108587</td>\n",
       "    </tr>\n",
       "  </tbody>\n",
       "</table>\n",
       "</div>"
      ],
      "text/plain": [
       "    movie_id                    primary_title  start_year  \\\n",
       "0  tt0249516                       Foodfight!        2012   \n",
       "1  tt0359950  The Secret Life of Walter Mitty        2013   \n",
       "2  tt0365907      A Walk Among the Tombstones        2014   \n",
       "\n",
       "                        genres release_date                            movie  \\\n",
       "0  [Action, Animation, Comedy]   2012-12-31                       Foodfight!   \n",
       "1   [Adventure, Comedy, Drama]   2013-12-25  The Secret Life of Walter Mitty   \n",
       "2       [Action, Crime, Drama]   2014-09-19      A Walk Among the Tombstones   \n",
       "\n",
       "   production_budget  worldwide_gross  release_year  release_month  \\\n",
       "0           45000000            73706          2012             12   \n",
       "1           91000000        187861183          2013             12   \n",
       "2           28000000         62108587          2014              9   \n",
       "\n",
       "   return_on_investment  \n",
       "0             -44926294  \n",
       "1              96861183  \n",
       "2              34108587  "
      ]
     },
     "execution_count": 29,
     "metadata": {},
     "output_type": "execute_result"
    }
   ],
   "source": [
    "imdb_inner.head(3)"
   ]
  },
  {
   "cell_type": "markdown",
   "metadata": {},
   "source": [
    "### Feature Engineering"
   ]
  },
  {
   "cell_type": "markdown",
   "metadata": {},
   "source": [
    "Need a column in our IMDB dataframe to represent the delta between worldwide gross revenue and production budget. Added this column below as 'profit'."
   ]
  },
  {
   "cell_type": "code",
   "execution_count": 30,
   "metadata": {},
   "outputs": [],
   "source": [
    "imdb_inner['return_on_investment'] = imdb_inner['worldwide_gross'] - imdb_inner['production_budget']"
   ]
  },
  {
   "cell_type": "code",
   "execution_count": 31,
   "metadata": {},
   "outputs": [
    {
     "data": {
      "text/html": [
       "<div>\n",
       "<style scoped>\n",
       "    .dataframe tbody tr th:only-of-type {\n",
       "        vertical-align: middle;\n",
       "    }\n",
       "\n",
       "    .dataframe tbody tr th {\n",
       "        vertical-align: top;\n",
       "    }\n",
       "\n",
       "    .dataframe thead th {\n",
       "        text-align: right;\n",
       "    }\n",
       "</style>\n",
       "<table border=\"1\" class=\"dataframe\">\n",
       "  <thead>\n",
       "    <tr style=\"text-align: right;\">\n",
       "      <th></th>\n",
       "      <th>movie_id</th>\n",
       "      <th>primary_title</th>\n",
       "      <th>start_year</th>\n",
       "      <th>genres</th>\n",
       "      <th>release_date</th>\n",
       "      <th>movie</th>\n",
       "      <th>production_budget</th>\n",
       "      <th>worldwide_gross</th>\n",
       "      <th>release_year</th>\n",
       "      <th>release_month</th>\n",
       "      <th>return_on_investment</th>\n",
       "    </tr>\n",
       "  </thead>\n",
       "  <tbody>\n",
       "    <tr>\n",
       "      <th>0</th>\n",
       "      <td>tt0249516</td>\n",
       "      <td>Foodfight!</td>\n",
       "      <td>2012</td>\n",
       "      <td>[Action, Animation, Comedy]</td>\n",
       "      <td>2012-12-31</td>\n",
       "      <td>Foodfight!</td>\n",
       "      <td>45000000</td>\n",
       "      <td>73706</td>\n",
       "      <td>2012</td>\n",
       "      <td>12</td>\n",
       "      <td>-44926294</td>\n",
       "    </tr>\n",
       "    <tr>\n",
       "      <th>1</th>\n",
       "      <td>tt0359950</td>\n",
       "      <td>The Secret Life of Walter Mitty</td>\n",
       "      <td>2013</td>\n",
       "      <td>[Adventure, Comedy, Drama]</td>\n",
       "      <td>2013-12-25</td>\n",
       "      <td>The Secret Life of Walter Mitty</td>\n",
       "      <td>91000000</td>\n",
       "      <td>187861183</td>\n",
       "      <td>2013</td>\n",
       "      <td>12</td>\n",
       "      <td>96861183</td>\n",
       "    </tr>\n",
       "    <tr>\n",
       "      <th>2</th>\n",
       "      <td>tt0365907</td>\n",
       "      <td>A Walk Among the Tombstones</td>\n",
       "      <td>2014</td>\n",
       "      <td>[Action, Crime, Drama]</td>\n",
       "      <td>2014-09-19</td>\n",
       "      <td>A Walk Among the Tombstones</td>\n",
       "      <td>28000000</td>\n",
       "      <td>62108587</td>\n",
       "      <td>2014</td>\n",
       "      <td>9</td>\n",
       "      <td>34108587</td>\n",
       "    </tr>\n",
       "    <tr>\n",
       "      <th>3</th>\n",
       "      <td>tt0369610</td>\n",
       "      <td>Jurassic World</td>\n",
       "      <td>2015</td>\n",
       "      <td>[Action, Adventure, Sci-Fi]</td>\n",
       "      <td>2015-06-12</td>\n",
       "      <td>Jurassic World</td>\n",
       "      <td>215000000</td>\n",
       "      <td>1648854864</td>\n",
       "      <td>2015</td>\n",
       "      <td>6</td>\n",
       "      <td>1433854864</td>\n",
       "    </tr>\n",
       "    <tr>\n",
       "      <th>4</th>\n",
       "      <td>tt0376136</td>\n",
       "      <td>The Rum Diary</td>\n",
       "      <td>2011</td>\n",
       "      <td>[Comedy, Drama]</td>\n",
       "      <td>2011-10-28</td>\n",
       "      <td>The Rum Diary</td>\n",
       "      <td>45000000</td>\n",
       "      <td>21544732</td>\n",
       "      <td>2011</td>\n",
       "      <td>10</td>\n",
       "      <td>-23455268</td>\n",
       "    </tr>\n",
       "  </tbody>\n",
       "</table>\n",
       "</div>"
      ],
      "text/plain": [
       "    movie_id                    primary_title  start_year  \\\n",
       "0  tt0249516                       Foodfight!        2012   \n",
       "1  tt0359950  The Secret Life of Walter Mitty        2013   \n",
       "2  tt0365907      A Walk Among the Tombstones        2014   \n",
       "3  tt0369610                   Jurassic World        2015   \n",
       "4  tt0376136                    The Rum Diary        2011   \n",
       "\n",
       "                        genres release_date                            movie  \\\n",
       "0  [Action, Animation, Comedy]   2012-12-31                       Foodfight!   \n",
       "1   [Adventure, Comedy, Drama]   2013-12-25  The Secret Life of Walter Mitty   \n",
       "2       [Action, Crime, Drama]   2014-09-19      A Walk Among the Tombstones   \n",
       "3  [Action, Adventure, Sci-Fi]   2015-06-12                   Jurassic World   \n",
       "4              [Comedy, Drama]   2011-10-28                    The Rum Diary   \n",
       "\n",
       "   production_budget  worldwide_gross  release_year  release_month  \\\n",
       "0           45000000            73706          2012             12   \n",
       "1           91000000        187861183          2013             12   \n",
       "2           28000000         62108587          2014              9   \n",
       "3          215000000       1648854864          2015              6   \n",
       "4           45000000         21544732          2011             10   \n",
       "\n",
       "   return_on_investment  \n",
       "0             -44926294  \n",
       "1              96861183  \n",
       "2              34108587  \n",
       "3            1433854864  \n",
       "4             -23455268  "
      ]
     },
     "execution_count": 31,
     "metadata": {},
     "output_type": "execute_result"
    }
   ],
   "source": [
    "imdb_inner.head()"
   ]
  },
  {
   "cell_type": "code",
   "execution_count": 32,
   "metadata": {},
   "outputs": [
    {
     "data": {
      "text/plain": [
       "(1468, 11)"
      ]
     },
     "execution_count": 32,
     "metadata": {},
     "output_type": "execute_result"
    }
   ],
   "source": [
    "imdb_inner.shape"
   ]
  },
  {
   "cell_type": "markdown",
   "metadata": {},
   "source": [
    "## Analysis"
   ]
  },
  {
   "cell_type": "markdown",
   "metadata": {},
   "source": [
    "### Return on Investment by Genre\n"
   ]
  },
  {
   "cell_type": "code",
   "execution_count": 33,
   "metadata": {},
   "outputs": [
    {
     "data": {
      "text/plain": [
       "{'Action': 443,\n",
       " 'Animation': 102,\n",
       " 'Comedy': 511,\n",
       " 'Adventure': 350,\n",
       " 'Drama': 708,\n",
       " 'Crime': 228,\n",
       " 'Sci-Fi': 130,\n",
       " 'Family': 93,\n",
       " 'Romance': 183,\n",
       " 'Thriller': 254,\n",
       " 'Horror': 178,\n",
       " 'Mystery': 124,\n",
       " 'Biography': 131,\n",
       " 'History': 39,\n",
       " 'War': 17,\n",
       " 'Fantasy': 119,\n",
       " 'Sport': 32,\n",
       " 'Music': 47,\n",
       " 'Western': 11,\n",
       " 'Documentary': 35,\n",
       " 'Musical': 8}"
      ]
     },
     "execution_count": 33,
     "metadata": {},
     "output_type": "execute_result"
    }
   ],
   "source": [
    "# find genre count for each record that includes profit information.\n",
    "\n",
    "profit_count = {}\n",
    "\n",
    "for movie in imdb_inner['genres']:\n",
    "    for genre in movie:\n",
    "        if genre in profit_count.keys():\n",
    "            profit_count[genre] +=1\n",
    "        else:\n",
    "            profit_count[genre] = 1\n",
    "\n",
    "profit_count"
   ]
  },
  {
   "cell_type": "code",
   "execution_count": 34,
   "metadata": {},
   "outputs": [
    {
     "data": {
      "text/plain": [
       "{'Action': 161500607.59,\n",
       " 'Animation': 276181736.75,\n",
       " 'Comedy': 93472177.71,\n",
       " 'Adventure': 244355272.86,\n",
       " 'Drama': 46841414.12,\n",
       " 'Crime': 49467025.06,\n",
       " 'Sci-Fi': 256383138.27,\n",
       " 'Family': 127403699.34,\n",
       " 'Romance': 46272697.14,\n",
       " 'Thriller': 82551096.91,\n",
       " 'Horror': 47857718.22,\n",
       " 'Mystery': 65151971.06,\n",
       " 'Biography': 55661373.06,\n",
       " 'History': 50741183.97,\n",
       " 'War': 29517132.12,\n",
       " 'Fantasy': 155256305.31,\n",
       " 'Sport': 29033385.66,\n",
       " 'Music': 89967210.87,\n",
       " 'Western': 47218943.0,\n",
       " 'Documentary': 13018228.0,\n",
       " 'Musical': 182863946.38}"
      ]
     },
     "execution_count": 34,
     "metadata": {},
     "output_type": "execute_result"
    }
   ],
   "source": [
    "# create dictionary with genres as keys and mean profit as values.\n",
    "\n",
    "cumulative_profit = []\n",
    "genres = list(profit_count.keys())\n",
    "\n",
    "        \n",
    "for genre in profit_count:\n",
    "    profit = imdb_inner.loc[imdb_inner['genres'].astype(str).str.contains(genre), 'return_on_investment']\n",
    "    profit = profit.cumsum().iloc[-1]       \n",
    "    average_profit = round(profit / profit_count[genre], 2)\n",
    "    cumulative_profit.append(average_profit)\n",
    "\n",
    "genre_profits = dict(zip(genres, cumulative_profit))\n",
    "genre_profits"
   ]
  },
  {
   "cell_type": "code",
   "execution_count": 35,
   "metadata": {},
   "outputs": [
    {
     "data": {
      "text/plain": [
       "{'Action': 54393749.0,\n",
       " 'Animation': 194139928.5,\n",
       " 'Comedy': 29807260.0,\n",
       " 'Adventure': 128795727.0,\n",
       " 'Drama': 12005272.0,\n",
       " 'Crime': 13777055.5,\n",
       " 'Sci-Fi': 123299552.0,\n",
       " 'Family': 39895930.0,\n",
       " 'Romance': 17621449.0,\n",
       " 'Thriller': 26736096.5,\n",
       " 'Horror': 13267321.5,\n",
       " 'Mystery': 33547637.5,\n",
       " 'Biography': 17317872.0,\n",
       " 'History': 20044909.0,\n",
       " 'War': -1973745.0,\n",
       " 'Fantasy': 46788393.0,\n",
       " 'Sport': 14678412.0,\n",
       " 'Music': 11938819.5,\n",
       " 'Western': -2240304.0,\n",
       " 'Documentary': -41626.0,\n",
       " 'Musical': 17276337.5}"
      ]
     },
     "execution_count": 35,
     "metadata": {},
     "output_type": "execute_result"
    }
   ],
   "source": [
    "# create dictionary with genres as keys and median profit as values.\n",
    "\n",
    "median_genres = []\n",
    "genres = list(profit_count.keys())\n",
    "\n",
    "        \n",
    "for genre in profit_count:\n",
    "    profit = imdb_inner.loc[imdb_inner['genres'].astype(str).str.contains(genre), 'return_on_investment']\n",
    "           \n",
    "    median_profit = round(profit.median(), 2)\n",
    "    median_genres.append(median_profit)\n",
    "\n",
    "genre_medians = dict(zip(genres, median_genres))\n",
    "genre_medians"
   ]
  },
  {
   "cell_type": "markdown",
   "metadata": {},
   "source": [
    "Visualizing mean and median profit by genre reveals that mean profit for most genres is much higher than the median. This suggests there are outliers that are skewing profitability higher. Musical, fantasy, and sci-fi are the most dramatic examples of this phenomenon. As a result, we utilize median as a more accurate representation of genre profitability."
   ]
  },
  {
   "cell_type": "code",
   "execution_count": 36,
   "metadata": {
    "scrolled": true
   },
   "outputs": [
    {
     "data": {
      "image/png": "[encoded data removed]",
      "text/plain": [
       "<Figure size 432x288 with 1 Axes>"
      ]
     },
     "metadata": {
      "needs_background": "light"
     },
     "output_type": "display_data"
    }
   ],
   "source": [
    "avg_profit, ax = plt.subplots()\n",
    "ax.bar(x = list(genre_profits.keys()), height = list(genre_profits.values()));\n",
    "ax.tick_params(axis='x', labelrotation = 90);\n",
    "ax.ticklabel_format(axis='y',style='plain')\n",
    "ax.set_ylabel('Mean Return on Investment ($)');\n",
    "ax.set_xlabel('Genre of Movie');\n",
    "ax.set_title('Mean Return on Investment by Genre');"
   ]
  },
  {
   "cell_type": "code",
   "execution_count": 37,
   "metadata": {},
   "outputs": [],
   "source": [
    "# This code is courtesy of datavizpyr at the following URL: https://datavizpyr.com/add-dollar-sign-on-axis-ticks-in-matplotlib/#:~:text=Barplot%20with%20Matplotlib-,Add%20Dollar%20Sign%20to%20Axis%20Ticks%20in%20Matplotlib,the%20argument%20for%20formatting%20string.\n",
    "# Currency function will help label axes appropriately when plotting monetary figures.\n",
    "def currency(x, pos):\n",
    "    \"\"\"The two args are the value and tick position\"\"\"\n",
    "    if x >= 1e6:\n",
    "        s = '${:1.1f}M'.format(x*1e-6)\n",
    "    elif x == 0:\n",
    "        s = '${:1.1f}M'.format(x*1e-6)\n",
    "    else:\n",
    "        s = '${:1.0f}K'.format(x*1e-3)\n",
    "    return s"
   ]
  },
  {
   "cell_type": "code",
   "execution_count": 38,
   "metadata": {},
   "outputs": [
    {
     "data": {
      "image/png": "[encoded data removed]",
      "text/plain": [
       "<Figure size 1080x864 with 1 Axes>"
      ]
     },
     "metadata": {
      "needs_background": "light"
     },
     "output_type": "display_data"
    }
   ],
   "source": [
    "med_profit, ax = plt.subplots(figsize=(15,12))\n",
    "ax.bar(x = list(genre_medians.keys()), height = list(genre_medians.values()));\n",
    "ax.tick_params(axis='x', labelrotation = 90);\n",
    "ax.ticklabel_format(axis='y',style='plain')\n",
    "ax.set_ylabel('Median Return on Investment');\n",
    "ax.set_xlabel('Genre of Movie');\n",
    "ax.set_title('Median Return on Investment by Genre')\n",
    "ax.yaxis.set_major_formatter(currency);\n",
    "\n",
    "plt.savefig('./images/MedianROIbyReleaseMonth', dpi=500)"
   ]
  },
  {
   "cell_type": "markdown",
   "metadata": {},
   "source": [
    "### Return on Investment by Release Month"
   ]
  },
  {
   "cell_type": "code",
   "execution_count": null,
   "metadata": {},
   "outputs": [],
   "source": []
  },
  {
   "cell_type": "code",
   "execution_count": 42,
   "metadata": {},
   "outputs": [],
   "source": [
    "# Calculate mean profit by release_month\n",
    "df_profit_mean = df_budget.groupby('release_month')['return_on_investment'].mean()"
   ]
  },
  {
   "cell_type": "code",
   "execution_count": 43,
   "metadata": {},
   "outputs": [],
   "source": [
    "df_profit_median = df_budget.groupby('release_month')['return_on_investment'].median()"
   ]
  },
  {
   "cell_type": "code",
   "execution_count": 44,
   "metadata": {},
   "outputs": [
    {
     "data": {
      "text/html": [
       "<div>\n",
       "<style scoped>\n",
       "    .dataframe tbody tr th:only-of-type {\n",
       "        vertical-align: middle;\n",
       "    }\n",
       "\n",
       "    .dataframe tbody tr th {\n",
       "        vertical-align: top;\n",
       "    }\n",
       "\n",
       "    .dataframe thead th {\n",
       "        text-align: right;\n",
       "    }\n",
       "</style>\n",
       "<table border=\"1\" class=\"dataframe\">\n",
       "  <thead>\n",
       "    <tr style=\"text-align: right;\">\n",
       "      <th></th>\n",
       "      <th>production_budget</th>\n",
       "      <th>worldwide_gross</th>\n",
       "      <th>release_year</th>\n",
       "      <th>release_month</th>\n",
       "      <th>return_on_investment</th>\n",
       "    </tr>\n",
       "  </thead>\n",
       "  <tbody>\n",
       "    <tr>\n",
       "      <th>count</th>\n",
       "      <td>5.698000e+03</td>\n",
       "      <td>5.698000e+03</td>\n",
       "      <td>5698.000000</td>\n",
       "      <td>5698.000000</td>\n",
       "      <td>5.698000e+03</td>\n",
       "    </tr>\n",
       "    <tr>\n",
       "      <th>mean</th>\n",
       "      <td>3.181423e+07</td>\n",
       "      <td>9.174801e+07</td>\n",
       "      <td>2004.211302</td>\n",
       "      <td>7.051773</td>\n",
       "      <td>5.993378e+07</td>\n",
       "    </tr>\n",
       "    <tr>\n",
       "      <th>std</th>\n",
       "      <td>4.197735e+07</td>\n",
       "      <td>1.754208e+08</td>\n",
       "      <td>12.292994</td>\n",
       "      <td>3.483801</td>\n",
       "      <td>1.466020e+08</td>\n",
       "    </tr>\n",
       "    <tr>\n",
       "      <th>min</th>\n",
       "      <td>1.100000e+03</td>\n",
       "      <td>0.000000e+00</td>\n",
       "      <td>1916.000000</td>\n",
       "      <td>1.000000</td>\n",
       "      <td>-2.002376e+08</td>\n",
       "    </tr>\n",
       "    <tr>\n",
       "      <th>25%</th>\n",
       "      <td>5.000000e+06</td>\n",
       "      <td>4.112890e+06</td>\n",
       "      <td>2000.000000</td>\n",
       "      <td>4.000000</td>\n",
       "      <td>-2.229934e+06</td>\n",
       "    </tr>\n",
       "    <tr>\n",
       "      <th>50%</th>\n",
       "      <td>1.700000e+07</td>\n",
       "      <td>2.792412e+07</td>\n",
       "      <td>2007.000000</td>\n",
       "      <td>7.000000</td>\n",
       "      <td>8.460828e+06</td>\n",
       "    </tr>\n",
       "    <tr>\n",
       "      <th>75%</th>\n",
       "      <td>4.000000e+07</td>\n",
       "      <td>9.808585e+07</td>\n",
       "      <td>2012.000000</td>\n",
       "      <td>10.000000</td>\n",
       "      <td>6.114558e+07</td>\n",
       "    </tr>\n",
       "    <tr>\n",
       "      <th>max</th>\n",
       "      <td>4.250000e+08</td>\n",
       "      <td>2.776345e+09</td>\n",
       "      <td>2020.000000</td>\n",
       "      <td>12.000000</td>\n",
       "      <td>2.351345e+09</td>\n",
       "    </tr>\n",
       "  </tbody>\n",
       "</table>\n",
       "</div>"
      ],
      "text/plain": [
       "       production_budget  worldwide_gross  release_year  release_month  \\\n",
       "count       5.698000e+03     5.698000e+03   5698.000000    5698.000000   \n",
       "mean        3.181423e+07     9.174801e+07   2004.211302       7.051773   \n",
       "std         4.197735e+07     1.754208e+08     12.292994       3.483801   \n",
       "min         1.100000e+03     0.000000e+00   1916.000000       1.000000   \n",
       "25%         5.000000e+06     4.112890e+06   2000.000000       4.000000   \n",
       "50%         1.700000e+07     2.792412e+07   2007.000000       7.000000   \n",
       "75%         4.000000e+07     9.808585e+07   2012.000000      10.000000   \n",
       "max         4.250000e+08     2.776345e+09   2020.000000      12.000000   \n",
       "\n",
       "       return_on_investment  \n",
       "count          5.698000e+03  \n",
       "mean           5.993378e+07  \n",
       "std            1.466020e+08  \n",
       "min           -2.002376e+08  \n",
       "25%           -2.229934e+06  \n",
       "50%            8.460828e+06  \n",
       "75%            6.114558e+07  \n",
       "max            2.351345e+09  "
      ]
     },
     "execution_count": 44,
     "metadata": {},
     "output_type": "execute_result"
    }
   ],
   "source": [
    "df_budget.describe()"
   ]
  },
  {
   "cell_type": "markdown",
   "metadata": {},
   "source": [
    "Because the mean profit is significantly larger than the median profit, large outliars appear to skew the mean. For this reason, we will use the median profit for our analysis.\n"
   ]
  },
  {
   "cell_type": "code",
   "execution_count": 45,
   "metadata": {},
   "outputs": [
    {
     "data": {
      "image/png": "[encoded data removed]",
      "text/plain": [
       "<Figure size 576x432 with 1 Axes>"
      ]
     },
     "metadata": {
      "needs_background": "light"
     },
     "output_type": "display_data"
    }
   ],
   "source": [
    "fig, ax = plt.subplots(figsize=(8,6))\n",
    "\n",
    "ax.bar(x=list(df_profit_mean.index), height=list(df_profit_mean.values));\n",
    "ax.set_ylabel('Return on Investment ($)');\n",
    "ax.set_xlabel('Release Month');\n",
    "ax.set_title('Mean Profit for Movies by Release Month');\n",
    "ax.set_xticks(list(range(13)));\n",
    "ax.ticklabel_format(axis='y',style='plain')"
   ]
  },
  {
   "cell_type": "code",
   "execution_count": 36,
   "metadata": {},
   "outputs": [
    {
     "data": {
      "image/png": "[encoded data removed]",
      "text/plain": [
       "<Figure size 576x432 with 1 Axes>"
      ]
     },
     "metadata": {
      "needs_background": "light"
     },
     "output_type": "display_data"
    }
   ],
   "source": [
    "fig, ax = plt.subplots(figsize=(8,6))\n",
    "\n",
    "ax.bar(x=list(df_profit_median.index), height=list(df_profit_median.values));\n",
    "ax.set_ylabel('Return on Investment ($)');\n",
    "ax.set_xlabel('Release Month');\n",
    "ax.set_title('Median Profit for Movies by Release Month');\n",
    "ax.set_xticks(list(range(13)));\n",
    "ax.ticklabel_format(axis='y',style='plain')"
   ]
  },
  {
   "cell_type": "markdown",
   "metadata": {},
   "source": [
    "### Revenue vs. Production Budget"
   ]
  },
  {
   "cell_type": "code",
   "execution_count": null,
   "metadata": {},
   "outputs": [],
   "source": []
  },
  {
   "cell_type": "code",
   "execution_count": null,
   "metadata": {},
   "outputs": [],
   "source": []
  },
  {
   "cell_type": "code",
   "execution_count": null,
   "metadata": {},
   "outputs": [],
   "source": []
  },
  {
   "cell_type": "code",
   "execution_count": null,
   "metadata": {},
   "outputs": [],
   "source": []
  },
  {
   "cell_type": "markdown",
   "metadata": {},
   "source": [
    "## Conclusions\n"
   ]
  },
  {
   "cell_type": "markdown",
   "metadata": {},
   "source": [
    "- **Movies in the animation, adventure and sci-fi genres tend to produce better return on investment than other genres.** As a result, we recommend prioritizing the creation of content that aligns with these genres. Avoid war and western-themed content as these tend to produce unfavorable ROI.\n",
    "- **Movies released in June, July and November tend to generate better return on investment than other months.** As a result, we recommend targeting new releases for the summer or November months.\n",
    "- **There is a strong correlation between movie production budget and return on investment.** Microsoft should direct its movie-making budget toward a relatively small number of projects in the above genres to avoid diluting ROI.\n"
   ]
  },
  {
   "cell_type": "markdown",
   "metadata": {},
   "source": [
    "### Next Steps"
   ]
  },
  {
   "cell_type": "code",
   "execution_count": null,
   "metadata": {},
   "outputs": [],
   "source": []
  }
 ],
 "metadata": {
  "kernelspec": {
   "display_name": "Python 3",
   "language": "python",
   "name": "python3"
  },
  "language_info": {
   "codemirror_mode": {
    "name": "ipython",
    "version": 3
   },
   "file_extension": ".py",
   "mimetype": "text/x-python",
   "name": "python",
   "nbconvert_exporter": "python",
   "pygments_lexer": "ipython3",
   "version": "3.8.5"
  }
 },
 "nbformat": 4,
 "nbformat_minor": 2
}
