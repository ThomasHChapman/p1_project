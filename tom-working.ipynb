{
 "cells": [
  {
   "cell_type": "code",
   "execution_count": 1,
   "metadata": {},
   "outputs": [],
   "source": [
    "import pandas as pd\n",
    "import sqlite3\n",
    "import matplotlib.pyplot as plt\n",
    "import zipfile\n",
    "import numpy as np\n",
    "%matplotlib inline"
   ]
  },
  {
   "cell_type": "code",
   "execution_count": 2,
   "metadata": {},
   "outputs": [],
   "source": [
    "# Extract IMDb SQL .db file\n",
    "with zipfile.ZipFile('./Data/im.db.zip') as zipObj:\n",
    "    # Extract all contents of .zip file into current directory\n",
    "    zipObj.extractall(path='./Data/')\n",
    "    \n",
    "# Create connection to IMDb DB\n",
    "conn = sqlite3.connect('./data/im.db')"
   ]
  },
  {
   "cell_type": "code",
   "execution_count": 3,
   "metadata": {},
   "outputs": [],
   "source": [
    "conn = sqlite3.Connection(\"./data/im.db\")"
   ]
  },
  {
   "cell_type": "code",
   "execution_count": 4,
   "metadata": {},
   "outputs": [],
   "source": [
    "# Suppress Scientific Notatation\n",
    "\n",
    "pd.set_option('display.float_format', lambda x: '%.2f' % x)"
   ]
  },
  {
   "cell_type": "markdown",
   "metadata": {},
   "source": [
    "# Creating dataframes from im.db.move_basics and im.db.movie_ratings\n",
    "\n"
   ]
  },
  {
   "cell_type": "code",
   "execution_count": 5,
   "metadata": {
    "scrolled": true
   },
   "outputs": [
    {
     "data": {
      "text/html": [
       "<div>\n",
       "<style scoped>\n",
       "    .dataframe tbody tr th:only-of-type {\n",
       "        vertical-align: middle;\n",
       "    }\n",
       "\n",
       "    .dataframe tbody tr th {\n",
       "        vertical-align: top;\n",
       "    }\n",
       "\n",
       "    .dataframe thead th {\n",
       "        text-align: right;\n",
       "    }\n",
       "</style>\n",
       "<table border=\"1\" class=\"dataframe\">\n",
       "  <thead>\n",
       "    <tr style=\"text-align: right;\">\n",
       "      <th></th>\n",
       "      <th>movie_id</th>\n",
       "      <th>primary_title</th>\n",
       "      <th>start_year</th>\n",
       "      <th>genres</th>\n",
       "      <th>director_id</th>\n",
       "      <th>writer_id</th>\n",
       "      <th>averagerating</th>\n",
       "      <th>numvotes</th>\n",
       "    </tr>\n",
       "  </thead>\n",
       "  <tbody>\n",
       "    <tr>\n",
       "      <th>0</th>\n",
       "      <td>tt0063540</td>\n",
       "      <td>Sunghursh</td>\n",
       "      <td>2013</td>\n",
       "      <td>Action,Crime,Drama</td>\n",
       "      <td>nm0712540</td>\n",
       "      <td>nm0023551</td>\n",
       "      <td>7.00</td>\n",
       "      <td>77</td>\n",
       "    </tr>\n",
       "    <tr>\n",
       "      <th>1</th>\n",
       "      <td>tt0069049</td>\n",
       "      <td>The Other Side of the Wind</td>\n",
       "      <td>2018</td>\n",
       "      <td>Drama</td>\n",
       "      <td>nm0000080</td>\n",
       "      <td>nm0000080</td>\n",
       "      <td>6.90</td>\n",
       "      <td>4517</td>\n",
       "    </tr>\n",
       "    <tr>\n",
       "      <th>2</th>\n",
       "      <td>tt0069204</td>\n",
       "      <td>Sabse Bada Sukh</td>\n",
       "      <td>2018</td>\n",
       "      <td>Comedy,Drama</td>\n",
       "      <td>nm0611531</td>\n",
       "      <td>nm0347899</td>\n",
       "      <td>6.10</td>\n",
       "      <td>13</td>\n",
       "    </tr>\n",
       "    <tr>\n",
       "      <th>3</th>\n",
       "      <td>tt0100275</td>\n",
       "      <td>The Wandering Soap Opera</td>\n",
       "      <td>2017</td>\n",
       "      <td>Comedy,Drama,Fantasy</td>\n",
       "      <td>nm0749914</td>\n",
       "      <td>nm0749914</td>\n",
       "      <td>6.50</td>\n",
       "      <td>119</td>\n",
       "    </tr>\n",
       "    <tr>\n",
       "      <th>4</th>\n",
       "      <td>tt0137204</td>\n",
       "      <td>Joe Finds Grace</td>\n",
       "      <td>2017</td>\n",
       "      <td>Adventure,Animation,Comedy</td>\n",
       "      <td>nm0365480</td>\n",
       "      <td>nm0365480</td>\n",
       "      <td>8.10</td>\n",
       "      <td>263</td>\n",
       "    </tr>\n",
       "    <tr>\n",
       "      <th>...</th>\n",
       "      <td>...</td>\n",
       "      <td>...</td>\n",
       "      <td>...</td>\n",
       "      <td>...</td>\n",
       "      <td>...</td>\n",
       "      <td>...</td>\n",
       "      <td>...</td>\n",
       "      <td>...</td>\n",
       "    </tr>\n",
       "    <tr>\n",
       "      <th>63083</th>\n",
       "      <td>tt9911774</td>\n",
       "      <td>Padmavyuhathile Abhimanyu</td>\n",
       "      <td>2019</td>\n",
       "      <td>Drama</td>\n",
       "      <td>nm10536451</td>\n",
       "      <td>nm10536451</td>\n",
       "      <td>8.40</td>\n",
       "      <td>365</td>\n",
       "    </tr>\n",
       "    <tr>\n",
       "      <th>63084</th>\n",
       "      <td>tt9913084</td>\n",
       "      <td>Diabolik sono io</td>\n",
       "      <td>2019</td>\n",
       "      <td>Documentary</td>\n",
       "      <td>nm0812850</td>\n",
       "      <td>nm0812850</td>\n",
       "      <td>6.20</td>\n",
       "      <td>6</td>\n",
       "    </tr>\n",
       "    <tr>\n",
       "      <th>63085</th>\n",
       "      <td>tt9914286</td>\n",
       "      <td>Sokagin Çocuklari</td>\n",
       "      <td>2019</td>\n",
       "      <td>Drama,Family</td>\n",
       "      <td>nm4394529</td>\n",
       "      <td>nm1902682</td>\n",
       "      <td>8.70</td>\n",
       "      <td>136</td>\n",
       "    </tr>\n",
       "    <tr>\n",
       "      <th>63086</th>\n",
       "      <td>tt9914642</td>\n",
       "      <td>Albatross</td>\n",
       "      <td>2017</td>\n",
       "      <td>Documentary</td>\n",
       "      <td>nm5300859</td>\n",
       "      <td>nm5300859</td>\n",
       "      <td>8.50</td>\n",
       "      <td>8</td>\n",
       "    </tr>\n",
       "    <tr>\n",
       "      <th>63087</th>\n",
       "      <td>tt9914942</td>\n",
       "      <td>La vida sense la Sara Amat</td>\n",
       "      <td>2019</td>\n",
       "      <td>None</td>\n",
       "      <td>nm1716653</td>\n",
       "      <td>nm3678448</td>\n",
       "      <td>6.60</td>\n",
       "      <td>5</td>\n",
       "    </tr>\n",
       "  </tbody>\n",
       "</table>\n",
       "<p>63088 rows × 8 columns</p>\n",
       "</div>"
      ],
      "text/plain": [
       "        movie_id               primary_title  start_year  \\\n",
       "0      tt0063540                   Sunghursh        2013   \n",
       "1      tt0069049  The Other Side of the Wind        2018   \n",
       "2      tt0069204             Sabse Bada Sukh        2018   \n",
       "3      tt0100275    The Wandering Soap Opera        2017   \n",
       "4      tt0137204             Joe Finds Grace        2017   \n",
       "...          ...                         ...         ...   \n",
       "63083  tt9911774   Padmavyuhathile Abhimanyu        2019   \n",
       "63084  tt9913084            Diabolik sono io        2019   \n",
       "63085  tt9914286           Sokagin Çocuklari        2019   \n",
       "63086  tt9914642                   Albatross        2017   \n",
       "63087  tt9914942  La vida sense la Sara Amat        2019   \n",
       "\n",
       "                           genres director_id   writer_id  averagerating  \\\n",
       "0              Action,Crime,Drama   nm0712540   nm0023551           7.00   \n",
       "1                           Drama   nm0000080   nm0000080           6.90   \n",
       "2                    Comedy,Drama   nm0611531   nm0347899           6.10   \n",
       "3            Comedy,Drama,Fantasy   nm0749914   nm0749914           6.50   \n",
       "4      Adventure,Animation,Comedy   nm0365480   nm0365480           8.10   \n",
       "...                           ...         ...         ...            ...   \n",
       "63083                       Drama  nm10536451  nm10536451           8.40   \n",
       "63084                 Documentary   nm0812850   nm0812850           6.20   \n",
       "63085                Drama,Family   nm4394529   nm1902682           8.70   \n",
       "63086                 Documentary   nm5300859   nm5300859           8.50   \n",
       "63087                        None   nm1716653   nm3678448           6.60   \n",
       "\n",
       "       numvotes  \n",
       "0            77  \n",
       "1          4517  \n",
       "2            13  \n",
       "3           119  \n",
       "4           263  \n",
       "...         ...  \n",
       "63083       365  \n",
       "63084         6  \n",
       "63085       136  \n",
       "63086         8  \n",
       "63087         5  \n",
       "\n",
       "[63088 rows x 8 columns]"
      ]
     },
     "execution_count": 5,
     "metadata": {},
     "output_type": "execute_result"
    }
   ],
   "source": [
    "# Query to pull relevant data from im.db\n",
    "\n",
    "# I think there's probably a better/more efficient query that would pull everything we need but I was getting stuck.\n",
    "# Instead I decided to do two queries and merge the resulting dataframes.\n",
    "\n",
    "q2 = \"\"\"\n",
    "SELECT\n",
    "    movie_id,\n",
    "    primary_title,\n",
    "    start_year,\n",
    "    genres,\n",
    "    directors.person_id AS director_id,\n",
    "    writers.person_id AS writer_id,  \n",
    "    movie_ratings.averagerating,\n",
    "    movie_ratings.numvotes\n",
    "    \n",
    "FROM\n",
    "    movie_basics\n",
    "    JOIN\n",
    "        movie_ratings\n",
    "            USING(movie_id)\n",
    "    JOIN\n",
    "        directors\n",
    "            USING(movie_id)\n",
    "    JOIN\n",
    "        writers\n",
    "            USING(movie_id)\n",
    "    \n",
    "WHERE\n",
    "    start_year >= 2010 AND\n",
    "    start_year <= 2022\n",
    "\n",
    "\n",
    "GROUP BY\n",
    "    movie_basics.movie_id\n",
    ";\n",
    "\"\"\"\n",
    "q2_result = pd.read_sql(q2, conn)\n",
    "q2_result"
   ]
  },
  {
   "cell_type": "code",
   "execution_count": 100,
   "metadata": {},
   "outputs": [
    {
     "data": {
      "text/plain": [
       "(63088, 8)"
      ]
     },
     "execution_count": 100,
     "metadata": {},
     "output_type": "execute_result"
    }
   ],
   "source": [
    "q2_result.shape"
   ]
  },
  {
   "cell_type": "markdown",
   "metadata": {},
   "source": [
    "   - Movie Title\n",
    "   - Genre(s)\n",
    "   - Release Year\n",
    "   - Rating (R/PG-13/etc)\n",
    "   - Total Gross\n",
    "   - Production Budget\n",
    "   - Associated Actors/Star/TBD\n",
    "   - Writer\n",
    "   - Director\n",
    "   - Run Time\n",
    "   - IMDB Rating\n",
    "   - The Movie Database Popularity (still need to understand what this is)\n",
    "   - The Movie Database Vote Count\n",
    "   \n",
    "   - season of release\n",
    "   - inflation relative to budget/gross -- pull data & correlate with release year\n",
    "   - franchise?"
   ]
  },
  {
   "cell_type": "code",
   "execution_count": 6,
   "metadata": {},
   "outputs": [
    {
     "data": {
      "text/html": [
       "<div>\n",
       "<style scoped>\n",
       "    .dataframe tbody tr th:only-of-type {\n",
       "        vertical-align: middle;\n",
       "    }\n",
       "\n",
       "    .dataframe tbody tr th {\n",
       "        vertical-align: top;\n",
       "    }\n",
       "\n",
       "    .dataframe thead th {\n",
       "        text-align: right;\n",
       "    }\n",
       "</style>\n",
       "<table border=\"1\" class=\"dataframe\">\n",
       "  <thead>\n",
       "    <tr style=\"text-align: right;\">\n",
       "      <th></th>\n",
       "      <th>person_id</th>\n",
       "      <th>primary_name</th>\n",
       "    </tr>\n",
       "  </thead>\n",
       "  <tbody>\n",
       "    <tr>\n",
       "      <th>0</th>\n",
       "      <td>nm0000002</td>\n",
       "      <td>Lauren Bacall</td>\n",
       "    </tr>\n",
       "    <tr>\n",
       "      <th>1</th>\n",
       "      <td>nm0000003</td>\n",
       "      <td>Brigitte Bardot</td>\n",
       "    </tr>\n",
       "    <tr>\n",
       "      <th>2</th>\n",
       "      <td>nm0000005</td>\n",
       "      <td>Ingmar Bergman</td>\n",
       "    </tr>\n",
       "    <tr>\n",
       "      <th>3</th>\n",
       "      <td>nm0000006</td>\n",
       "      <td>Ingrid Bergman</td>\n",
       "    </tr>\n",
       "    <tr>\n",
       "      <th>4</th>\n",
       "      <td>nm0000007</td>\n",
       "      <td>Humphrey Bogart</td>\n",
       "    </tr>\n",
       "    <tr>\n",
       "      <th>...</th>\n",
       "      <td>...</td>\n",
       "      <td>...</td>\n",
       "    </tr>\n",
       "    <tr>\n",
       "      <th>606643</th>\n",
       "      <td>nm9993494</td>\n",
       "      <td>Amjad Ali</td>\n",
       "    </tr>\n",
       "    <tr>\n",
       "      <th>606644</th>\n",
       "      <td>nm9993573</td>\n",
       "      <td>Lakisha Louissaint</td>\n",
       "    </tr>\n",
       "    <tr>\n",
       "      <th>606645</th>\n",
       "      <td>nm9993616</td>\n",
       "      <td>Ryan Mac Lennan</td>\n",
       "    </tr>\n",
       "    <tr>\n",
       "      <th>606646</th>\n",
       "      <td>nm9993650</td>\n",
       "      <td>Marcin Balcerak</td>\n",
       "    </tr>\n",
       "    <tr>\n",
       "      <th>606647</th>\n",
       "      <td>nm9993680</td>\n",
       "      <td>Christopher-Lawson Palmer</td>\n",
       "    </tr>\n",
       "  </tbody>\n",
       "</table>\n",
       "<p>606648 rows × 2 columns</p>\n",
       "</div>"
      ],
      "text/plain": [
       "        person_id               primary_name\n",
       "0       nm0000002              Lauren Bacall\n",
       "1       nm0000003            Brigitte Bardot\n",
       "2       nm0000005             Ingmar Bergman\n",
       "3       nm0000006             Ingrid Bergman\n",
       "4       nm0000007            Humphrey Bogart\n",
       "...           ...                        ...\n",
       "606643  nm9993494                  Amjad Ali\n",
       "606644  nm9993573         Lakisha Louissaint\n",
       "606645  nm9993616            Ryan Mac Lennan\n",
       "606646  nm9993650            Marcin Balcerak\n",
       "606647  nm9993680  Christopher-Lawson Palmer\n",
       "\n",
       "[606648 rows x 2 columns]"
      ]
     },
     "execution_count": 6,
     "metadata": {},
     "output_type": "execute_result"
    }
   ],
   "source": [
    "# query to create a mapping table so that we can replace director/writer ID with real names.\n",
    "\n",
    "q3 = \"\"\"\n",
    "SELECT\n",
    "    person_id,\n",
    "    primary_name\n",
    "        \n",
    "FROM\n",
    "    persons\n",
    "   \n",
    "    \n",
    "GROUP BY\n",
    "    person_id\n",
    ";\n",
    "\"\"\"\n",
    "q3_result = pd.read_sql(q3, conn)\n",
    "q3_result"
   ]
  },
  {
   "cell_type": "code",
   "execution_count": 7,
   "metadata": {},
   "outputs": [
    {
     "data": {
      "text/html": [
       "<div>\n",
       "<style scoped>\n",
       "    .dataframe tbody tr th:only-of-type {\n",
       "        vertical-align: middle;\n",
       "    }\n",
       "\n",
       "    .dataframe tbody tr th {\n",
       "        vertical-align: top;\n",
       "    }\n",
       "\n",
       "    .dataframe thead th {\n",
       "        text-align: right;\n",
       "    }\n",
       "</style>\n",
       "<table border=\"1\" class=\"dataframe\">\n",
       "  <thead>\n",
       "    <tr style=\"text-align: right;\">\n",
       "      <th></th>\n",
       "      <th>person_id</th>\n",
       "      <th>primary_name</th>\n",
       "      <th>group_concat(known_for.movie_id)</th>\n",
       "      <th>group_concat(movie_basics.primary_title)</th>\n",
       "    </tr>\n",
       "  </thead>\n",
       "  <tbody>\n",
       "    <tr>\n",
       "      <th>0</th>\n",
       "      <td>nm6950093</td>\n",
       "      <td>!'aru Ikhuisi Piet Berendse</td>\n",
       "      <td>tt4245110</td>\n",
       "      <td>Origins</td>\n",
       "    </tr>\n",
       "    <tr>\n",
       "      <th>1</th>\n",
       "      <td>nm6750303</td>\n",
       "      <td>$hutter</td>\n",
       "      <td>tt4049298,tt1398426,tt2080374,tt1741273</td>\n",
       "      <td>NVTION: The Star Nation Rapumentary,Straight O...</td>\n",
       "    </tr>\n",
       "    <tr>\n",
       "      <th>2</th>\n",
       "      <td>nm2764095</td>\n",
       "      <td>'Atlas' Ramachandran</td>\n",
       "      <td>tt3433162,tt2333760</td>\n",
       "      <td>Holidays,Three Char Sau Bees</td>\n",
       "    </tr>\n",
       "    <tr>\n",
       "      <th>3</th>\n",
       "      <td>nm5169037</td>\n",
       "      <td>'Atolomake Helu</td>\n",
       "      <td>tt1966622</td>\n",
       "      <td>Tongan Ark</td>\n",
       "    </tr>\n",
       "    <tr>\n",
       "      <th>4</th>\n",
       "      <td>nm5420107</td>\n",
       "      <td>'Bad' Chad Broussard</td>\n",
       "      <td>tt1703232</td>\n",
       "      <td>Fightville</td>\n",
       "    </tr>\n",
       "    <tr>\n",
       "      <th>5</th>\n",
       "      <td>nm3961282</td>\n",
       "      <td>'Big' James Wroblewski</td>\n",
       "      <td>tt2215017</td>\n",
       "      <td>Extinction Event</td>\n",
       "    </tr>\n",
       "    <tr>\n",
       "      <th>6</th>\n",
       "      <td>nm6138665</td>\n",
       "      <td>'Brukup' George Adams</td>\n",
       "      <td>tt3115428</td>\n",
       "      <td>Lords of BSV</td>\n",
       "    </tr>\n",
       "    <tr>\n",
       "      <th>7</th>\n",
       "      <td>nm9141318</td>\n",
       "      <td>'Cicak' Zelimir Altarac</td>\n",
       "      <td>tt7154990</td>\n",
       "      <td>Zarobljeno vreme</td>\n",
       "    </tr>\n",
       "    <tr>\n",
       "      <th>8</th>\n",
       "      <td>nm4963520</td>\n",
       "      <td>'Country' Winston Marshall</td>\n",
       "      <td>tt2948356,tt2622620,tt2073086</td>\n",
       "      <td>Zootopia,Bella Vita,Still Mine</td>\n",
       "    </tr>\n",
       "    <tr>\n",
       "      <th>9</th>\n",
       "      <td>nm6246859</td>\n",
       "      <td>'Cowboy' Matt Hopewell</td>\n",
       "      <td>tt2338351</td>\n",
       "      <td>Trash, a Bucky Jones Video</td>\n",
       "    </tr>\n",
       "    <tr>\n",
       "      <th>10</th>\n",
       "      <td>nm2351724</td>\n",
       "      <td>'Crazy' Bob Cook</td>\n",
       "      <td>tt1121986,tt1447482</td>\n",
       "      <td>Money Fight,Such Great Heights</td>\n",
       "    </tr>\n",
       "    <tr>\n",
       "      <th>11</th>\n",
       "      <td>nm4797875</td>\n",
       "      <td>'Crazy' John Brooks</td>\n",
       "      <td>tt2126378</td>\n",
       "      <td>The Invisible String</td>\n",
       "    </tr>\n",
       "    <tr>\n",
       "      <th>12</th>\n",
       "      <td>nm8018325</td>\n",
       "      <td>'Crazy' Johnny Razo</td>\n",
       "      <td>tt5553470</td>\n",
       "      <td>The Lives of Mecca</td>\n",
       "    </tr>\n",
       "    <tr>\n",
       "      <th>13</th>\n",
       "      <td>nm5006811</td>\n",
       "      <td>'Crazy' Tim Credeur</td>\n",
       "      <td>tt1703232</td>\n",
       "      <td>Fightville</td>\n",
       "    </tr>\n",
       "    <tr>\n",
       "      <th>14</th>\n",
       "      <td>nm5280420</td>\n",
       "      <td>'Dirty Dave' Grimsley</td>\n",
       "      <td>tt2403938</td>\n",
       "      <td>Out of the Woods: Life and Death in Dirty Dave...</td>\n",
       "    </tr>\n",
       "    <tr>\n",
       "      <th>15</th>\n",
       "      <td>nm6138661</td>\n",
       "      <td>'Fatboy' Chris Brown</td>\n",
       "      <td>tt3115428</td>\n",
       "      <td>Lords of BSV</td>\n",
       "    </tr>\n",
       "    <tr>\n",
       "      <th>16</th>\n",
       "      <td>nm4510366</td>\n",
       "      <td>'Fido' Guido De Vincentiis</td>\n",
       "      <td>tt1886595</td>\n",
       "      <td>Le case bianche</td>\n",
       "    </tr>\n",
       "    <tr>\n",
       "      <th>17</th>\n",
       "      <td>nm2660743</td>\n",
       "      <td>'Freeway' Ricky Ross</td>\n",
       "      <td>tt5451640</td>\n",
       "      <td>Secrets of Deception</td>\n",
       "    </tr>\n",
       "    <tr>\n",
       "      <th>18</th>\n",
       "      <td>nm7355173</td>\n",
       "      <td>'Glider' Bob Saunders</td>\n",
       "      <td>tt4717492</td>\n",
       "      <td>CloudStreet: Soaring the American West</td>\n",
       "    </tr>\n",
       "    <tr>\n",
       "      <th>19</th>\n",
       "      <td>nm4719221</td>\n",
       "      <td>'HoodBeatz' Seth Hood</td>\n",
       "      <td>tt3155734</td>\n",
       "      <td>Dark Moon Rising</td>\n",
       "    </tr>\n",
       "    <tr>\n",
       "      <th>20</th>\n",
       "      <td>nm0337571</td>\n",
       "      <td>'Melrose' Larry Green</td>\n",
       "      <td>tt8620078</td>\n",
       "      <td>Red Carpet</td>\n",
       "    </tr>\n",
       "    <tr>\n",
       "      <th>21</th>\n",
       "      <td>nm8335995</td>\n",
       "      <td>'Misschiviss</td>\n",
       "      <td>tt5934902</td>\n",
       "      <td>Portland Hip Hop: Lifting as We Climb</td>\n",
       "    </tr>\n",
       "    <tr>\n",
       "      <th>22</th>\n",
       "      <td>nm7817712</td>\n",
       "      <td>'Om' Rakesh Chaturvedi</td>\n",
       "      <td>tt5288766,tt7218518,tt7476874</td>\n",
       "      <td>BHK Bhalla@Halla.Kom,Padman,Adrishya</td>\n",
       "    </tr>\n",
       "    <tr>\n",
       "      <th>23</th>\n",
       "      <td>nm8814671</td>\n",
       "      <td>'Phenom' Dante Fields</td>\n",
       "      <td>tt6584864</td>\n",
       "      <td>Desert Coffee</td>\n",
       "    </tr>\n",
       "    <tr>\n",
       "      <th>24</th>\n",
       "      <td>nm3710761</td>\n",
       "      <td>'Pimpin' Ken Ivey</td>\n",
       "      <td>tt1553065</td>\n",
       "      <td>Money Makers</td>\n",
       "    </tr>\n",
       "  </tbody>\n",
       "</table>\n",
       "</div>"
      ],
      "text/plain": [
       "    person_id                 primary_name  \\\n",
       "0   nm6950093  !'aru Ikhuisi Piet Berendse   \n",
       "1   nm6750303                      $hutter   \n",
       "2   nm2764095         'Atlas' Ramachandran   \n",
       "3   nm5169037              'Atolomake Helu   \n",
       "4   nm5420107         'Bad' Chad Broussard   \n",
       "5   nm3961282       'Big' James Wroblewski   \n",
       "6   nm6138665        'Brukup' George Adams   \n",
       "7   nm9141318      'Cicak' Zelimir Altarac   \n",
       "8   nm4963520   'Country' Winston Marshall   \n",
       "9   nm6246859       'Cowboy' Matt Hopewell   \n",
       "10  nm2351724             'Crazy' Bob Cook   \n",
       "11  nm4797875          'Crazy' John Brooks   \n",
       "12  nm8018325          'Crazy' Johnny Razo   \n",
       "13  nm5006811          'Crazy' Tim Credeur   \n",
       "14  nm5280420        'Dirty Dave' Grimsley   \n",
       "15  nm6138661         'Fatboy' Chris Brown   \n",
       "16  nm4510366   'Fido' Guido De Vincentiis   \n",
       "17  nm2660743         'Freeway' Ricky Ross   \n",
       "18  nm7355173        'Glider' Bob Saunders   \n",
       "19  nm4719221        'HoodBeatz' Seth Hood   \n",
       "20  nm0337571        'Melrose' Larry Green   \n",
       "21  nm8335995                 'Misschiviss   \n",
       "22  nm7817712       'Om' Rakesh Chaturvedi   \n",
       "23  nm8814671        'Phenom' Dante Fields   \n",
       "24  nm3710761            'Pimpin' Ken Ivey   \n",
       "\n",
       "           group_concat(known_for.movie_id)  \\\n",
       "0                                 tt4245110   \n",
       "1   tt4049298,tt1398426,tt2080374,tt1741273   \n",
       "2                       tt3433162,tt2333760   \n",
       "3                                 tt1966622   \n",
       "4                                 tt1703232   \n",
       "5                                 tt2215017   \n",
       "6                                 tt3115428   \n",
       "7                                 tt7154990   \n",
       "8             tt2948356,tt2622620,tt2073086   \n",
       "9                                 tt2338351   \n",
       "10                      tt1121986,tt1447482   \n",
       "11                                tt2126378   \n",
       "12                                tt5553470   \n",
       "13                                tt1703232   \n",
       "14                                tt2403938   \n",
       "15                                tt3115428   \n",
       "16                                tt1886595   \n",
       "17                                tt5451640   \n",
       "18                                tt4717492   \n",
       "19                                tt3155734   \n",
       "20                                tt8620078   \n",
       "21                                tt5934902   \n",
       "22            tt5288766,tt7218518,tt7476874   \n",
       "23                                tt6584864   \n",
       "24                                tt1553065   \n",
       "\n",
       "             group_concat(movie_basics.primary_title)  \n",
       "0                                             Origins  \n",
       "1   NVTION: The Star Nation Rapumentary,Straight O...  \n",
       "2                        Holidays,Three Char Sau Bees  \n",
       "3                                          Tongan Ark  \n",
       "4                                          Fightville  \n",
       "5                                    Extinction Event  \n",
       "6                                        Lords of BSV  \n",
       "7                                    Zarobljeno vreme  \n",
       "8                      Zootopia,Bella Vita,Still Mine  \n",
       "9                          Trash, a Bucky Jones Video  \n",
       "10                     Money Fight,Such Great Heights  \n",
       "11                               The Invisible String  \n",
       "12                                 The Lives of Mecca  \n",
       "13                                         Fightville  \n",
       "14  Out of the Woods: Life and Death in Dirty Dave...  \n",
       "15                                       Lords of BSV  \n",
       "16                                    Le case bianche  \n",
       "17                               Secrets of Deception  \n",
       "18             CloudStreet: Soaring the American West  \n",
       "19                                   Dark Moon Rising  \n",
       "20                                         Red Carpet  \n",
       "21              Portland Hip Hop: Lifting as We Climb  \n",
       "22               BHK Bhalla@Halla.Kom,Padman,Adrishya  \n",
       "23                                      Desert Coffee  \n",
       "24                                       Money Makers  "
      ]
     },
     "execution_count": 7,
     "metadata": {},
     "output_type": "execute_result"
    }
   ],
   "source": [
    "q4 = \"\"\"\n",
    "SELECT\n",
    "    known_for.person_id\n",
    "    , persons.primary_name\n",
    "    , group_concat(known_for.movie_id)    \n",
    "    , group_concat(movie_basics.primary_title)\n",
    "    \n",
    "FROM\n",
    "    known_for\n",
    "\n",
    "    JOIN\n",
    "        persons\n",
    "            USING(person_id)\n",
    "    JOIN\n",
    "        movie_basics\n",
    "            USING(movie_id)\n",
    "\n",
    "GROUP BY\n",
    "    persons.primary_name\n",
    "\n",
    ";\n",
    "\"\"\"\n",
    "known_for = pd.read_sql(q4, conn)\n",
    "known_for.head(25)"
   ]
  },
  {
   "cell_type": "code",
   "execution_count": 8,
   "metadata": {},
   "outputs": [],
   "source": [
    "# merge primary_name from the persons table onto our dataframe where director_id matches person_id\n",
    "directors = q2_result.merge(q3_result, how='left', left_on='director_id', right_on='person_id')"
   ]
  },
  {
   "cell_type": "code",
   "execution_count": 9,
   "metadata": {},
   "outputs": [],
   "source": [
    "# rename primary_name to director_name\n",
    "directors = directors.rename({\"primary_name\":\"director_name\"}, axis=\"columns\")"
   ]
  },
  {
   "cell_type": "code",
   "execution_count": 10,
   "metadata": {},
   "outputs": [],
   "source": [
    "# merge primary_name from the persons table onto our dataframe where writer_id matches person_id\n",
    "writers = directors.merge(q3_result, how='left', left_on='writer_id', right_on='person_id')"
   ]
  },
  {
   "cell_type": "code",
   "execution_count": 11,
   "metadata": {},
   "outputs": [],
   "source": [
    "# rename primary_name to director_name\n",
    "df = writers.rename({\"primary_name\":\"writer_name\"}, axis=\"columns\")"
   ]
  },
  {
   "cell_type": "code",
   "execution_count": 12,
   "metadata": {},
   "outputs": [],
   "source": [
    "# drop extraneous columns\n",
    "df = df.drop(columns=['director_id', 'writer_id', 'person_id_x', 'person_id_y'])"
   ]
  },
  {
   "cell_type": "code",
   "execution_count": 13,
   "metadata": {
    "scrolled": false
   },
   "outputs": [
    {
     "name": "stdout",
     "output_type": "stream",
     "text": [
      "(63088, 8)\n"
     ]
    },
    {
     "data": {
      "text/html": [
       "<div>\n",
       "<style scoped>\n",
       "    .dataframe tbody tr th:only-of-type {\n",
       "        vertical-align: middle;\n",
       "    }\n",
       "\n",
       "    .dataframe tbody tr th {\n",
       "        vertical-align: top;\n",
       "    }\n",
       "\n",
       "    .dataframe thead th {\n",
       "        text-align: right;\n",
       "    }\n",
       "</style>\n",
       "<table border=\"1\" class=\"dataframe\">\n",
       "  <thead>\n",
       "    <tr style=\"text-align: right;\">\n",
       "      <th></th>\n",
       "      <th>movie_id</th>\n",
       "      <th>primary_title</th>\n",
       "      <th>start_year</th>\n",
       "      <th>genres</th>\n",
       "      <th>averagerating</th>\n",
       "      <th>numvotes</th>\n",
       "      <th>director_name</th>\n",
       "      <th>writer_name</th>\n",
       "    </tr>\n",
       "  </thead>\n",
       "  <tbody>\n",
       "    <tr>\n",
       "      <th>0</th>\n",
       "      <td>tt0063540</td>\n",
       "      <td>Sunghursh</td>\n",
       "      <td>2013</td>\n",
       "      <td>Action,Crime,Drama</td>\n",
       "      <td>7.00</td>\n",
       "      <td>77</td>\n",
       "      <td>Harnam Singh Rawail</td>\n",
       "      <td>Abrar Alvi</td>\n",
       "    </tr>\n",
       "    <tr>\n",
       "      <th>1</th>\n",
       "      <td>tt0069049</td>\n",
       "      <td>The Other Side of the Wind</td>\n",
       "      <td>2018</td>\n",
       "      <td>Drama</td>\n",
       "      <td>6.90</td>\n",
       "      <td>4517</td>\n",
       "      <td>Orson Welles</td>\n",
       "      <td>Orson Welles</td>\n",
       "    </tr>\n",
       "    <tr>\n",
       "      <th>2</th>\n",
       "      <td>tt0069204</td>\n",
       "      <td>Sabse Bada Sukh</td>\n",
       "      <td>2018</td>\n",
       "      <td>Comedy,Drama</td>\n",
       "      <td>6.10</td>\n",
       "      <td>13</td>\n",
       "      <td>Hrishikesh Mukherjee</td>\n",
       "      <td>Gulzar</td>\n",
       "    </tr>\n",
       "    <tr>\n",
       "      <th>3</th>\n",
       "      <td>tt0100275</td>\n",
       "      <td>The Wandering Soap Opera</td>\n",
       "      <td>2017</td>\n",
       "      <td>Comedy,Drama,Fantasy</td>\n",
       "      <td>6.50</td>\n",
       "      <td>119</td>\n",
       "      <td>Raoul Ruiz</td>\n",
       "      <td>Raoul Ruiz</td>\n",
       "    </tr>\n",
       "    <tr>\n",
       "      <th>4</th>\n",
       "      <td>tt0137204</td>\n",
       "      <td>Joe Finds Grace</td>\n",
       "      <td>2017</td>\n",
       "      <td>Adventure,Animation,Comedy</td>\n",
       "      <td>8.10</td>\n",
       "      <td>263</td>\n",
       "      <td>Anthony Harrison</td>\n",
       "      <td>Anthony Harrison</td>\n",
       "    </tr>\n",
       "  </tbody>\n",
       "</table>\n",
       "</div>"
      ],
      "text/plain": [
       "    movie_id               primary_title  start_year  \\\n",
       "0  tt0063540                   Sunghursh        2013   \n",
       "1  tt0069049  The Other Side of the Wind        2018   \n",
       "2  tt0069204             Sabse Bada Sukh        2018   \n",
       "3  tt0100275    The Wandering Soap Opera        2017   \n",
       "4  tt0137204             Joe Finds Grace        2017   \n",
       "\n",
       "                       genres  averagerating  numvotes         director_name  \\\n",
       "0          Action,Crime,Drama           7.00        77   Harnam Singh Rawail   \n",
       "1                       Drama           6.90      4517          Orson Welles   \n",
       "2                Comedy,Drama           6.10        13  Hrishikesh Mukherjee   \n",
       "3        Comedy,Drama,Fantasy           6.50       119            Raoul Ruiz   \n",
       "4  Adventure,Animation,Comedy           8.10       263      Anthony Harrison   \n",
       "\n",
       "        writer_name  \n",
       "0        Abrar Alvi  \n",
       "1      Orson Welles  \n",
       "2            Gulzar  \n",
       "3        Raoul Ruiz  \n",
       "4  Anthony Harrison  "
      ]
     },
     "execution_count": 13,
     "metadata": {},
     "output_type": "execute_result"
    }
   ],
   "source": [
    "# shape matches the length of our original table.\n",
    "print(df.shape) \n",
    "df.head()"
   ]
  },
  {
   "cell_type": "code",
   "execution_count": 14,
   "metadata": {
    "scrolled": true
   },
   "outputs": [
    {
     "data": {
      "text/plain": [
       "movie_id           0\n",
       "primary_title      0\n",
       "start_year         0\n",
       "genres           471\n",
       "averagerating      0\n",
       "numvotes           0\n",
       "director_name      1\n",
       "writer_name        0\n",
       "dtype: int64"
      ]
     },
     "execution_count": 14,
     "metadata": {},
     "output_type": "execute_result"
    }
   ],
   "source": [
    "# some missing values here that we can either deal with or try to fill in from the other sources.\n",
    "df.isna().sum()"
   ]
  },
  {
   "cell_type": "code",
   "execution_count": 15,
   "metadata": {},
   "outputs": [],
   "source": [
    "conn.close()"
   ]
  },
  {
   "cell_type": "code",
   "execution_count": 16,
   "metadata": {},
   "outputs": [
    {
     "data": {
      "text/plain": [
       "3275"
      ]
     },
     "execution_count": 16,
     "metadata": {},
     "output_type": "execute_result"
    }
   ],
   "source": [
    "# some titles were duplicated\n",
    "df['primary_title'].duplicated().sum()"
   ]
  },
  {
   "cell_type": "code",
   "execution_count": null,
   "metadata": {},
   "outputs": [],
   "source": []
  },
  {
   "cell_type": "markdown",
   "metadata": {},
   "source": [
    "### Data contains 903 records where primary title AND start year are duplicated. ~1.4% of dataset\n",
    "\n",
    "#### Drop as we have no easy way to match with budget data when both columns are duplicated.\n"
   ]
  },
  {
   "cell_type": "code",
   "execution_count": 19,
   "metadata": {},
   "outputs": [],
   "source": [
    "# Drop rows where primary title and start year are duplicated.\n",
    "\n",
    "df = df.drop_duplicates(subset=['primary_title', 'start_year'])"
   ]
  },
  {
   "cell_type": "code",
   "execution_count": 91,
   "metadata": {},
   "outputs": [
    {
     "data": {
      "text/plain": [
       "(62622, 8)"
      ]
     },
     "execution_count": 91,
     "metadata": {},
     "output_type": "execute_result"
    }
   ],
   "source": [
    "df.shape"
   ]
  },
  {
   "cell_type": "markdown",
   "metadata": {},
   "source": [
    "# Read in budget data from The Numbers"
   ]
  },
  {
   "cell_type": "code",
   "execution_count": 21,
   "metadata": {},
   "outputs": [],
   "source": [
    "df_budget = pd.read_csv('./data/tn.movie_budgets.csv', index_col=0)"
   ]
  },
  {
   "cell_type": "code",
   "execution_count": 22,
   "metadata": {},
   "outputs": [],
   "source": [
    "# convert release_date to a new release_year column\n",
    "df_budget['release_year'] = df_budget['release_date'].apply(lambda x: int(x[-4:]))"
   ]
  },
  {
   "cell_type": "code",
   "execution_count": 23,
   "metadata": {},
   "outputs": [
    {
     "data": {
      "text/html": [
       "<div>\n",
       "<style scoped>\n",
       "    .dataframe tbody tr th:only-of-type {\n",
       "        vertical-align: middle;\n",
       "    }\n",
       "\n",
       "    .dataframe tbody tr th {\n",
       "        vertical-align: top;\n",
       "    }\n",
       "\n",
       "    .dataframe thead th {\n",
       "        text-align: right;\n",
       "    }\n",
       "</style>\n",
       "<table border=\"1\" class=\"dataframe\">\n",
       "  <thead>\n",
       "    <tr style=\"text-align: right;\">\n",
       "      <th></th>\n",
       "      <th>release_date</th>\n",
       "      <th>movie</th>\n",
       "      <th>production_budget</th>\n",
       "      <th>domestic_gross</th>\n",
       "      <th>worldwide_gross</th>\n",
       "      <th>release_year</th>\n",
       "    </tr>\n",
       "    <tr>\n",
       "      <th>id</th>\n",
       "      <th></th>\n",
       "      <th></th>\n",
       "      <th></th>\n",
       "      <th></th>\n",
       "      <th></th>\n",
       "      <th></th>\n",
       "    </tr>\n",
       "  </thead>\n",
       "  <tbody>\n",
       "    <tr>\n",
       "      <th>1</th>\n",
       "      <td>Dec 18, 2009</td>\n",
       "      <td>Avatar</td>\n",
       "      <td>$425,000,000</td>\n",
       "      <td>$760,507,625</td>\n",
       "      <td>$2,776,345,279</td>\n",
       "      <td>2009</td>\n",
       "    </tr>\n",
       "    <tr>\n",
       "      <th>2</th>\n",
       "      <td>May 20, 2011</td>\n",
       "      <td>Pirates of the Caribbean: On Stranger Tides</td>\n",
       "      <td>$410,600,000</td>\n",
       "      <td>$241,063,875</td>\n",
       "      <td>$1,045,663,875</td>\n",
       "      <td>2011</td>\n",
       "    </tr>\n",
       "    <tr>\n",
       "      <th>3</th>\n",
       "      <td>Jun 7, 2019</td>\n",
       "      <td>Dark Phoenix</td>\n",
       "      <td>$350,000,000</td>\n",
       "      <td>$42,762,350</td>\n",
       "      <td>$149,762,350</td>\n",
       "      <td>2019</td>\n",
       "    </tr>\n",
       "    <tr>\n",
       "      <th>4</th>\n",
       "      <td>May 1, 2015</td>\n",
       "      <td>Avengers: Age of Ultron</td>\n",
       "      <td>$330,600,000</td>\n",
       "      <td>$459,005,868</td>\n",
       "      <td>$1,403,013,963</td>\n",
       "      <td>2015</td>\n",
       "    </tr>\n",
       "    <tr>\n",
       "      <th>5</th>\n",
       "      <td>Dec 15, 2017</td>\n",
       "      <td>Star Wars Ep. VIII: The Last Jedi</td>\n",
       "      <td>$317,000,000</td>\n",
       "      <td>$620,181,382</td>\n",
       "      <td>$1,316,721,747</td>\n",
       "      <td>2017</td>\n",
       "    </tr>\n",
       "  </tbody>\n",
       "</table>\n",
       "</div>"
      ],
      "text/plain": [
       "    release_date                                        movie  \\\n",
       "id                                                              \n",
       "1   Dec 18, 2009                                       Avatar   \n",
       "2   May 20, 2011  Pirates of the Caribbean: On Stranger Tides   \n",
       "3    Jun 7, 2019                                 Dark Phoenix   \n",
       "4    May 1, 2015                      Avengers: Age of Ultron   \n",
       "5   Dec 15, 2017            Star Wars Ep. VIII: The Last Jedi   \n",
       "\n",
       "   production_budget domestic_gross worldwide_gross  release_year  \n",
       "id                                                                 \n",
       "1       $425,000,000   $760,507,625  $2,776,345,279          2009  \n",
       "2       $410,600,000   $241,063,875  $1,045,663,875          2011  \n",
       "3       $350,000,000    $42,762,350    $149,762,350          2019  \n",
       "4       $330,600,000   $459,005,868  $1,403,013,963          2015  \n",
       "5       $317,000,000   $620,181,382  $1,316,721,747          2017  "
      ]
     },
     "execution_count": 23,
     "metadata": {},
     "output_type": "execute_result"
    }
   ],
   "source": [
    "df_budget.head()"
   ]
  },
  {
   "cell_type": "code",
   "execution_count": 105,
   "metadata": {},
   "outputs": [
    {
     "data": {
      "text/plain": [
       "(5782, 6)"
      ]
     },
     "execution_count": 105,
     "metadata": {},
     "output_type": "execute_result"
    }
   ],
   "source": [
    "df_budget.shape"
   ]
  },
  {
   "cell_type": "code",
   "execution_count": 24,
   "metadata": {},
   "outputs": [],
   "source": [
    "# create simple budget df to merge with main df\n",
    "df_budget_simple = df_budget[['movie', 'production_budget', 'worldwide_gross', 'release_year']]"
   ]
  },
  {
   "cell_type": "markdown",
   "metadata": {},
   "source": [
    "# Inner merge on budget data"
   ]
  },
  {
   "cell_type": "code",
   "execution_count": 25,
   "metadata": {},
   "outputs": [],
   "source": [
    "# merge simple budget df to main df on movie name & year\n",
    "df2 = df.merge(df_budget_simple, how='inner', left_on=['primary_title', 'start_year'], right_on=['movie', 'release_year'])"
   ]
  },
  {
   "cell_type": "code",
   "execution_count": 26,
   "metadata": {
    "scrolled": false
   },
   "outputs": [
    {
     "data": {
      "text/plain": [
       "movie_id             0\n",
       "primary_title        0\n",
       "start_year           0\n",
       "genres               0\n",
       "averagerating        0\n",
       "numvotes             0\n",
       "director_name        0\n",
       "writer_name          0\n",
       "movie                0\n",
       "production_budget    0\n",
       "worldwide_gross      0\n",
       "release_year         0\n",
       "dtype: int64"
      ]
     },
     "execution_count": 26,
     "metadata": {},
     "output_type": "execute_result"
    }
   ],
   "source": [
    "df2.isna().sum()"
   ]
  },
  {
   "cell_type": "code",
   "execution_count": 27,
   "metadata": {},
   "outputs": [
    {
     "data": {
      "text/plain": [
       "(1448, 12)"
      ]
     },
     "execution_count": 27,
     "metadata": {},
     "output_type": "execute_result"
    }
   ],
   "source": [
    "df2.shape"
   ]
  },
  {
   "cell_type": "code",
   "execution_count": 28,
   "metadata": {},
   "outputs": [],
   "source": [
    "# create dataframe containing records where inner join created primary_title == duplicated\n",
    "df_dup = df2.loc[df2['primary_title'].duplicated(keep=False) == True]"
   ]
  },
  {
   "cell_type": "code",
   "execution_count": 29,
   "metadata": {
    "scrolled": false
   },
   "outputs": [
    {
     "data": {
      "text/html": [
       "<div>\n",
       "<style scoped>\n",
       "    .dataframe tbody tr th:only-of-type {\n",
       "        vertical-align: middle;\n",
       "    }\n",
       "\n",
       "    .dataframe tbody tr th {\n",
       "        vertical-align: top;\n",
       "    }\n",
       "\n",
       "    .dataframe thead th {\n",
       "        text-align: right;\n",
       "    }\n",
       "</style>\n",
       "<table border=\"1\" class=\"dataframe\">\n",
       "  <thead>\n",
       "    <tr style=\"text-align: right;\">\n",
       "      <th></th>\n",
       "      <th>movie_id</th>\n",
       "      <th>primary_title</th>\n",
       "      <th>start_year</th>\n",
       "      <th>genres</th>\n",
       "      <th>averagerating</th>\n",
       "      <th>numvotes</th>\n",
       "      <th>director_name</th>\n",
       "      <th>writer_name</th>\n",
       "      <th>movie</th>\n",
       "      <th>production_budget</th>\n",
       "      <th>worldwide_gross</th>\n",
       "      <th>release_year</th>\n",
       "    </tr>\n",
       "  </thead>\n",
       "  <tbody>\n",
       "    <tr>\n",
       "      <th>108</th>\n",
       "      <td>tt0955308</td>\n",
       "      <td>Robin Hood</td>\n",
       "      <td>2010</td>\n",
       "      <td>Action,Adventure,Drama</td>\n",
       "      <td>6.60</td>\n",
       "      <td>239480</td>\n",
       "      <td>Ridley Scott</td>\n",
       "      <td>Brian Helgeland</td>\n",
       "      <td>Robin Hood</td>\n",
       "      <td>$210,000,000</td>\n",
       "      <td>$322,459,006</td>\n",
       "      <td>2010</td>\n",
       "    </tr>\n",
       "    <tr>\n",
       "      <th>1290</th>\n",
       "      <td>tt4532826</td>\n",
       "      <td>Robin Hood</td>\n",
       "      <td>2018</td>\n",
       "      <td>Action,Adventure,Thriller</td>\n",
       "      <td>5.30</td>\n",
       "      <td>41588</td>\n",
       "      <td>Otto Bathurst</td>\n",
       "      <td>David James Kelly</td>\n",
       "      <td>Robin Hood</td>\n",
       "      <td>$99,000,000</td>\n",
       "      <td>$84,747,441</td>\n",
       "      <td>2018</td>\n",
       "    </tr>\n",
       "  </tbody>\n",
       "</table>\n",
       "</div>"
      ],
      "text/plain": [
       "       movie_id primary_title  start_year                     genres  \\\n",
       "108   tt0955308    Robin Hood        2010     Action,Adventure,Drama   \n",
       "1290  tt4532826    Robin Hood        2018  Action,Adventure,Thriller   \n",
       "\n",
       "      averagerating  numvotes  director_name        writer_name       movie  \\\n",
       "108            6.60    239480   Ridley Scott    Brian Helgeland  Robin Hood   \n",
       "1290           5.30     41588  Otto Bathurst  David James Kelly  Robin Hood   \n",
       "\n",
       "     production_budget worldwide_gross  release_year  \n",
       "108       $210,000,000    $322,459,006          2010  \n",
       "1290       $99,000,000     $84,747,441          2018  "
      ]
     },
     "execution_count": 29,
     "metadata": {},
     "output_type": "execute_result"
    }
   ],
   "source": [
    "df_dup.sort_values(by='primary_title').head()"
   ]
  },
  {
   "cell_type": "code",
   "execution_count": null,
   "metadata": {},
   "outputs": [],
   "source": []
  },
  {
   "cell_type": "code",
   "execution_count": null,
   "metadata": {},
   "outputs": [],
   "source": []
  },
  {
   "cell_type": "code",
   "execution_count": 30,
   "metadata": {},
   "outputs": [],
   "source": [
    "df2['production_budget'] = df2['production_budget'].str.replace('$','', regex=True)"
   ]
  },
  {
   "cell_type": "code",
   "execution_count": 31,
   "metadata": {},
   "outputs": [],
   "source": [
    "df2['production_budget'] = df2['production_budget'].str.replace(',','', regex=True)"
   ]
  },
  {
   "cell_type": "code",
   "execution_count": 32,
   "metadata": {},
   "outputs": [],
   "source": [
    "df2['production_budget'] = df2['production_budget'].astype(float)"
   ]
  },
  {
   "cell_type": "code",
   "execution_count": 33,
   "metadata": {},
   "outputs": [],
   "source": [
    "df2['worldwide_gross'] = df2['worldwide_gross'].str.replace(',','', regex=True)"
   ]
  },
  {
   "cell_type": "code",
   "execution_count": 34,
   "metadata": {},
   "outputs": [],
   "source": [
    "df2['worldwide_gross'] = df2['worldwide_gross'].str.replace('$','', regex=True)"
   ]
  },
  {
   "cell_type": "code",
   "execution_count": 35,
   "metadata": {},
   "outputs": [],
   "source": [
    "df2['worldwide_gross'] = df2['worldwide_gross'].astype(float)"
   ]
  },
  {
   "cell_type": "code",
   "execution_count": 36,
   "metadata": {},
   "outputs": [],
   "source": [
    "df2['profit'] = (df2['worldwide_gross'] - df2['production_budget'])"
   ]
  },
  {
   "cell_type": "code",
   "execution_count": 37,
   "metadata": {},
   "outputs": [],
   "source": [
    "df2['profit'] = df2['profit'].round()"
   ]
  },
  {
   "cell_type": "code",
   "execution_count": null,
   "metadata": {},
   "outputs": [],
   "source": []
  },
  {
   "cell_type": "code",
   "execution_count": 66,
   "metadata": {},
   "outputs": [],
   "source": [
    "df2['genres'] = df2['genres'].str.split(\",\")"
   ]
  },
  {
   "cell_type": "code",
   "execution_count": null,
   "metadata": {},
   "outputs": [],
   "source": []
  },
  {
   "cell_type": "code",
   "execution_count": 67,
   "metadata": {},
   "outputs": [
    {
     "data": {
      "text/plain": [
       "(1448, 13)"
      ]
     },
     "execution_count": 67,
     "metadata": {},
     "output_type": "execute_result"
    }
   ],
   "source": [
    "df2.shape"
   ]
  },
  {
   "cell_type": "code",
   "execution_count": 68,
   "metadata": {},
   "outputs": [
    {
     "data": {
      "text/html": [
       "<div>\n",
       "<style scoped>\n",
       "    .dataframe tbody tr th:only-of-type {\n",
       "        vertical-align: middle;\n",
       "    }\n",
       "\n",
       "    .dataframe tbody tr th {\n",
       "        vertical-align: top;\n",
       "    }\n",
       "\n",
       "    .dataframe thead th {\n",
       "        text-align: right;\n",
       "    }\n",
       "</style>\n",
       "<table border=\"1\" class=\"dataframe\">\n",
       "  <thead>\n",
       "    <tr style=\"text-align: right;\">\n",
       "      <th></th>\n",
       "      <th>movie_id</th>\n",
       "      <th>primary_title</th>\n",
       "      <th>start_year</th>\n",
       "      <th>genres</th>\n",
       "      <th>averagerating</th>\n",
       "      <th>numvotes</th>\n",
       "      <th>director_name</th>\n",
       "      <th>writer_name</th>\n",
       "      <th>movie</th>\n",
       "      <th>production_budget</th>\n",
       "      <th>worldwide_gross</th>\n",
       "      <th>release_year</th>\n",
       "      <th>profit</th>\n",
       "    </tr>\n",
       "  </thead>\n",
       "  <tbody>\n",
       "    <tr>\n",
       "      <th>0</th>\n",
       "      <td>tt0249516</td>\n",
       "      <td>Foodfight!</td>\n",
       "      <td>2012</td>\n",
       "      <td>[Action, Animation, Comedy]</td>\n",
       "      <td>1.90</td>\n",
       "      <td>8248</td>\n",
       "      <td>Lawrence Kasanoff</td>\n",
       "      <td>Sean Catherine Derek</td>\n",
       "      <td>Foodfight!</td>\n",
       "      <td>45000000.00</td>\n",
       "      <td>73706.00</td>\n",
       "      <td>2012</td>\n",
       "      <td>-44926294.00</td>\n",
       "    </tr>\n",
       "    <tr>\n",
       "      <th>1</th>\n",
       "      <td>tt0359950</td>\n",
       "      <td>The Secret Life of Walter Mitty</td>\n",
       "      <td>2013</td>\n",
       "      <td>[Adventure, Comedy, Drama]</td>\n",
       "      <td>7.30</td>\n",
       "      <td>275300</td>\n",
       "      <td>Ben Stiller</td>\n",
       "      <td>Steve Conrad</td>\n",
       "      <td>The Secret Life of Walter Mitty</td>\n",
       "      <td>91000000.00</td>\n",
       "      <td>187861183.00</td>\n",
       "      <td>2013</td>\n",
       "      <td>96861183.00</td>\n",
       "    </tr>\n",
       "    <tr>\n",
       "      <th>2</th>\n",
       "      <td>tt0365907</td>\n",
       "      <td>A Walk Among the Tombstones</td>\n",
       "      <td>2014</td>\n",
       "      <td>[Action, Crime, Drama]</td>\n",
       "      <td>6.50</td>\n",
       "      <td>105116</td>\n",
       "      <td>Scott Frank</td>\n",
       "      <td>Lawrence Block</td>\n",
       "      <td>A Walk Among the Tombstones</td>\n",
       "      <td>28000000.00</td>\n",
       "      <td>62108587.00</td>\n",
       "      <td>2014</td>\n",
       "      <td>34108587.00</td>\n",
       "    </tr>\n",
       "    <tr>\n",
       "      <th>3</th>\n",
       "      <td>tt0369610</td>\n",
       "      <td>Jurassic World</td>\n",
       "      <td>2015</td>\n",
       "      <td>[Action, Adventure, Sci-Fi]</td>\n",
       "      <td>7.00</td>\n",
       "      <td>539338</td>\n",
       "      <td>Colin Trevorrow</td>\n",
       "      <td>Michael Crichton</td>\n",
       "      <td>Jurassic World</td>\n",
       "      <td>215000000.00</td>\n",
       "      <td>1648854864.00</td>\n",
       "      <td>2015</td>\n",
       "      <td>1433854864.00</td>\n",
       "    </tr>\n",
       "    <tr>\n",
       "      <th>4</th>\n",
       "      <td>tt0376136</td>\n",
       "      <td>The Rum Diary</td>\n",
       "      <td>2011</td>\n",
       "      <td>[Comedy, Drama]</td>\n",
       "      <td>6.20</td>\n",
       "      <td>94787</td>\n",
       "      <td>Bruce Robinson</td>\n",
       "      <td>Bruce Robinson</td>\n",
       "      <td>The Rum Diary</td>\n",
       "      <td>45000000.00</td>\n",
       "      <td>21544732.00</td>\n",
       "      <td>2011</td>\n",
       "      <td>-23455268.00</td>\n",
       "    </tr>\n",
       "  </tbody>\n",
       "</table>\n",
       "</div>"
      ],
      "text/plain": [
       "    movie_id                    primary_title  start_year  \\\n",
       "0  tt0249516                       Foodfight!        2012   \n",
       "1  tt0359950  The Secret Life of Walter Mitty        2013   \n",
       "2  tt0365907      A Walk Among the Tombstones        2014   \n",
       "3  tt0369610                   Jurassic World        2015   \n",
       "4  tt0376136                    The Rum Diary        2011   \n",
       "\n",
       "                        genres  averagerating  numvotes      director_name  \\\n",
       "0  [Action, Animation, Comedy]           1.90      8248  Lawrence Kasanoff   \n",
       "1   [Adventure, Comedy, Drama]           7.30    275300        Ben Stiller   \n",
       "2       [Action, Crime, Drama]           6.50    105116        Scott Frank   \n",
       "3  [Action, Adventure, Sci-Fi]           7.00    539338    Colin Trevorrow   \n",
       "4              [Comedy, Drama]           6.20     94787     Bruce Robinson   \n",
       "\n",
       "            writer_name                            movie  production_budget  \\\n",
       "0  Sean Catherine Derek                       Foodfight!        45000000.00   \n",
       "1          Steve Conrad  The Secret Life of Walter Mitty        91000000.00   \n",
       "2        Lawrence Block      A Walk Among the Tombstones        28000000.00   \n",
       "3      Michael Crichton                   Jurassic World       215000000.00   \n",
       "4        Bruce Robinson                    The Rum Diary        45000000.00   \n",
       "\n",
       "   worldwide_gross  release_year        profit  \n",
       "0         73706.00          2012  -44926294.00  \n",
       "1     187861183.00          2013   96861183.00  \n",
       "2      62108587.00          2014   34108587.00  \n",
       "3    1648854864.00          2015 1433854864.00  \n",
       "4      21544732.00          2011  -23455268.00  "
      ]
     },
     "execution_count": 68,
     "metadata": {},
     "output_type": "execute_result"
    }
   ],
   "source": [
    "df2.head()"
   ]
  },
  {
   "cell_type": "code",
   "execution_count": null,
   "metadata": {},
   "outputs": [],
   "source": []
  },
  {
   "cell_type": "markdown",
   "metadata": {},
   "source": [
    "# LEFT Merge on Budget Data"
   ]
  },
  {
   "cell_type": "code",
   "execution_count": 40,
   "metadata": {},
   "outputs": [],
   "source": [
    "# merge simple budget df to main df on movie name & year\n",
    "df3 = df.merge(df_budget_simple, how='left', left_on=['primary_title', 'start_year'], right_on=['movie', 'release_year'])"
   ]
  },
  {
   "cell_type": "code",
   "execution_count": 41,
   "metadata": {
    "scrolled": false
   },
   "outputs": [
    {
     "name": "stdout",
     "output_type": "stream",
     "text": [
      "<class 'pandas.core.frame.DataFrame'>\n",
      "Int64Index: 62622 entries, 0 to 62621\n",
      "Data columns (total 12 columns):\n",
      " #   Column             Non-Null Count  Dtype  \n",
      "---  ------             --------------  -----  \n",
      " 0   movie_id           62622 non-null  object \n",
      " 1   primary_title      62622 non-null  object \n",
      " 2   start_year         62622 non-null  int64  \n",
      " 3   genres             62155 non-null  object \n",
      " 4   averagerating      62622 non-null  float64\n",
      " 5   numvotes           62622 non-null  int64  \n",
      " 6   director_name      62621 non-null  object \n",
      " 7   writer_name        62622 non-null  object \n",
      " 8   movie              1448 non-null   object \n",
      " 9   production_budget  1448 non-null   object \n",
      " 10  worldwide_gross    1448 non-null   object \n",
      " 11  release_year       1448 non-null   float64\n",
      "dtypes: float64(2), int64(2), object(8)\n",
      "memory usage: 6.2+ MB\n"
     ]
    }
   ],
   "source": [
    "df3.info()"
   ]
  },
  {
   "cell_type": "markdown",
   "metadata": {},
   "source": [
    "# Split Genres by commas"
   ]
  },
  {
   "cell_type": "code",
   "execution_count": 43,
   "metadata": {},
   "outputs": [],
   "source": [
    "df3['genres'] = df3['genres'].str.split(\",\")"
   ]
  },
  {
   "cell_type": "code",
   "execution_count": 44,
   "metadata": {},
   "outputs": [],
   "source": [
    "#drop rows with no genres\n",
    "df3 = df3.dropna(subset=['genres'])"
   ]
  },
  {
   "cell_type": "code",
   "execution_count": null,
   "metadata": {},
   "outputs": [],
   "source": []
  },
  {
   "cell_type": "markdown",
   "metadata": {},
   "source": [
    "# Generate Profit Column"
   ]
  },
  {
   "cell_type": "code",
   "execution_count": 45,
   "metadata": {},
   "outputs": [],
   "source": [
    "df3['production_budget'] = df3['production_budget'].str.replace('$','', regex=True)"
   ]
  },
  {
   "cell_type": "code",
   "execution_count": 46,
   "metadata": {},
   "outputs": [],
   "source": [
    "df3['production_budget'] = df3['production_budget'].str.replace(',','', regex=True)"
   ]
  },
  {
   "cell_type": "code",
   "execution_count": 47,
   "metadata": {},
   "outputs": [],
   "source": [
    "df3['production_budget'] = df3['production_budget'].astype(float)"
   ]
  },
  {
   "cell_type": "code",
   "execution_count": 48,
   "metadata": {},
   "outputs": [],
   "source": [
    "df3['worldwide_gross'] = df3['worldwide_gross'].str.replace(',','', regex=True)"
   ]
  },
  {
   "cell_type": "code",
   "execution_count": 49,
   "metadata": {},
   "outputs": [],
   "source": [
    "df3['worldwide_gross'] = df3['worldwide_gross'].str.replace('$','', regex=True)"
   ]
  },
  {
   "cell_type": "code",
   "execution_count": 50,
   "metadata": {},
   "outputs": [],
   "source": [
    "df3['worldwide_gross'] = df3['worldwide_gross'].astype(float)"
   ]
  },
  {
   "cell_type": "code",
   "execution_count": 51,
   "metadata": {},
   "outputs": [],
   "source": [
    "df3['profit'] = (df3['worldwide_gross'] - df3['production_budget'])"
   ]
  },
  {
   "cell_type": "code",
   "execution_count": 52,
   "metadata": {},
   "outputs": [],
   "source": [
    "df3['profit'] = df3['profit'].round()"
   ]
  },
  {
   "cell_type": "code",
   "execution_count": 53,
   "metadata": {},
   "outputs": [],
   "source": [
    "df4 = df3.replace(np.nan, 0, regex=True)\n"
   ]
  },
  {
   "cell_type": "code",
   "execution_count": 54,
   "metadata": {
    "scrolled": true
   },
   "outputs": [
    {
     "data": {
      "text/plain": [
       "53643   -200237650.00\n",
       "1706    -110450242.00\n",
       "47183    -90000000.00\n",
       "38204    -79448583.00\n",
       "765      -69533984.00\n",
       "Name: profit, dtype: float64"
      ]
     },
     "execution_count": 54,
     "metadata": {},
     "output_type": "execute_result"
    }
   ],
   "source": [
    "df3['profit'].sort_values().head()"
   ]
  },
  {
   "cell_type": "code",
   "execution_count": 98,
   "metadata": {},
   "outputs": [
    {
     "data": {
      "text/html": [
       "<div>\n",
       "<style scoped>\n",
       "    .dataframe tbody tr th:only-of-type {\n",
       "        vertical-align: middle;\n",
       "    }\n",
       "\n",
       "    .dataframe tbody tr th {\n",
       "        vertical-align: top;\n",
       "    }\n",
       "\n",
       "    .dataframe thead th {\n",
       "        text-align: right;\n",
       "    }\n",
       "</style>\n",
       "<table border=\"1\" class=\"dataframe\">\n",
       "  <thead>\n",
       "    <tr style=\"text-align: right;\">\n",
       "      <th></th>\n",
       "      <th>movie_id</th>\n",
       "      <th>primary_title</th>\n",
       "      <th>start_year</th>\n",
       "      <th>genres</th>\n",
       "      <th>averagerating</th>\n",
       "      <th>numvotes</th>\n",
       "      <th>director_name</th>\n",
       "      <th>writer_name</th>\n",
       "      <th>movie</th>\n",
       "      <th>production_budget</th>\n",
       "      <th>worldwide_gross</th>\n",
       "      <th>release_year</th>\n",
       "      <th>profit</th>\n",
       "    </tr>\n",
       "  </thead>\n",
       "  <tbody>\n",
       "    <tr>\n",
       "      <th>53643</th>\n",
       "      <td>tt6565702</td>\n",
       "      <td>Dark Phoenix</td>\n",
       "      <td>2019</td>\n",
       "      <td>[Action, Adventure, Sci-Fi]</td>\n",
       "      <td>6.00</td>\n",
       "      <td>24451</td>\n",
       "      <td>Simon Kinberg</td>\n",
       "      <td>John Byrne</td>\n",
       "      <td>Dark Phoenix</td>\n",
       "      <td>350000000.00</td>\n",
       "      <td>149762350.00</td>\n",
       "      <td>2019.00</td>\n",
       "      <td>-200237650.00</td>\n",
       "    </tr>\n",
       "    <tr>\n",
       "      <th>1706</th>\n",
       "      <td>tt1305591</td>\n",
       "      <td>Mars Needs Moms</td>\n",
       "      <td>2011</td>\n",
       "      <td>[Adventure, Animation, Family]</td>\n",
       "      <td>5.40</td>\n",
       "      <td>19823</td>\n",
       "      <td>Simon Wells</td>\n",
       "      <td>Berkeley Breathed</td>\n",
       "      <td>Mars Needs Moms</td>\n",
       "      <td>150000000.00</td>\n",
       "      <td>39549758.00</td>\n",
       "      <td>2011.00</td>\n",
       "      <td>-110450242.00</td>\n",
       "    </tr>\n",
       "    <tr>\n",
       "      <th>47183</th>\n",
       "      <td>tt5519340</td>\n",
       "      <td>Bright</td>\n",
       "      <td>2017</td>\n",
       "      <td>[Action, Crime, Fantasy]</td>\n",
       "      <td>6.40</td>\n",
       "      <td>147834</td>\n",
       "      <td>David Ayer</td>\n",
       "      <td>Max Landis</td>\n",
       "      <td>Bright</td>\n",
       "      <td>90000000.00</td>\n",
       "      <td>0.00</td>\n",
       "      <td>2017.00</td>\n",
       "      <td>-90000000.00</td>\n",
       "    </tr>\n",
       "    <tr>\n",
       "      <th>38204</th>\n",
       "      <td>tt4192918</td>\n",
       "      <td>The Promise</td>\n",
       "      <td>2017</td>\n",
       "      <td>[Comedy]</td>\n",
       "      <td>8.80</td>\n",
       "      <td>53</td>\n",
       "      <td>Candy J. Beard</td>\n",
       "      <td>Candy J. Beard</td>\n",
       "      <td>The Promise</td>\n",
       "      <td>90000000.00</td>\n",
       "      <td>10551417.00</td>\n",
       "      <td>2017.00</td>\n",
       "      <td>-79448583.00</td>\n",
       "    </tr>\n",
       "    <tr>\n",
       "      <th>765</th>\n",
       "      <td>tt1041804</td>\n",
       "      <td>The Nutcracker in 3D</td>\n",
       "      <td>2010</td>\n",
       "      <td>[Action, Family, Fantasy]</td>\n",
       "      <td>4.30</td>\n",
       "      <td>3119</td>\n",
       "      <td>Andrey Konchalovskiy</td>\n",
       "      <td>Andrey Konchalovskiy</td>\n",
       "      <td>The Nutcracker in 3D</td>\n",
       "      <td>90000000.00</td>\n",
       "      <td>20466016.00</td>\n",
       "      <td>2010.00</td>\n",
       "      <td>-69533984.00</td>\n",
       "    </tr>\n",
       "    <tr>\n",
       "      <th>...</th>\n",
       "      <td>...</td>\n",
       "      <td>...</td>\n",
       "      <td>...</td>\n",
       "      <td>...</td>\n",
       "      <td>...</td>\n",
       "      <td>...</td>\n",
       "      <td>...</td>\n",
       "      <td>...</td>\n",
       "      <td>...</td>\n",
       "      <td>...</td>\n",
       "      <td>...</td>\n",
       "      <td>...</td>\n",
       "      <td>...</td>\n",
       "    </tr>\n",
       "    <tr>\n",
       "      <th>9968</th>\n",
       "      <td>tt1825683</td>\n",
       "      <td>Black Panther</td>\n",
       "      <td>2018</td>\n",
       "      <td>[Action, Adventure, Sci-Fi]</td>\n",
       "      <td>7.30</td>\n",
       "      <td>516148</td>\n",
       "      <td>Ryan Coogler</td>\n",
       "      <td>Jack Kirby</td>\n",
       "      <td>Black Panther</td>\n",
       "      <td>200000000.00</td>\n",
       "      <td>1348258224.00</td>\n",
       "      <td>2018.00</td>\n",
       "      <td>1148258224.00</td>\n",
       "    </tr>\n",
       "    <tr>\n",
       "      <th>307</th>\n",
       "      <td>tt0848228</td>\n",
       "      <td>The Avengers</td>\n",
       "      <td>2012</td>\n",
       "      <td>[Action, Adventure, Sci-Fi]</td>\n",
       "      <td>8.10</td>\n",
       "      <td>1183655</td>\n",
       "      <td>Joss Whedon</td>\n",
       "      <td>Zak Penn</td>\n",
       "      <td>The Avengers</td>\n",
       "      <td>225000000.00</td>\n",
       "      <td>1517935897.00</td>\n",
       "      <td>2012.00</td>\n",
       "      <td>1292935897.00</td>\n",
       "    </tr>\n",
       "    <tr>\n",
       "      <th>25282</th>\n",
       "      <td>tt2820852</td>\n",
       "      <td>Furious 7</td>\n",
       "      <td>2015</td>\n",
       "      <td>[Action, Crime, Thriller]</td>\n",
       "      <td>7.20</td>\n",
       "      <td>335074</td>\n",
       "      <td>James Wan</td>\n",
       "      <td>Chris Morgan</td>\n",
       "      <td>Furious 7</td>\n",
       "      <td>190000000.00</td>\n",
       "      <td>1518722794.00</td>\n",
       "      <td>2015.00</td>\n",
       "      <td>1328722794.00</td>\n",
       "    </tr>\n",
       "    <tr>\n",
       "      <th>44</th>\n",
       "      <td>tt0369610</td>\n",
       "      <td>Jurassic World</td>\n",
       "      <td>2015</td>\n",
       "      <td>[Action, Adventure, Sci-Fi]</td>\n",
       "      <td>7.00</td>\n",
       "      <td>539338</td>\n",
       "      <td>Colin Trevorrow</td>\n",
       "      <td>Michael Crichton</td>\n",
       "      <td>Jurassic World</td>\n",
       "      <td>215000000.00</td>\n",
       "      <td>1648854864.00</td>\n",
       "      <td>2015.00</td>\n",
       "      <td>1433854864.00</td>\n",
       "    </tr>\n",
       "    <tr>\n",
       "      <th>37844</th>\n",
       "      <td>tt4154756</td>\n",
       "      <td>Avengers: Infinity War</td>\n",
       "      <td>2018</td>\n",
       "      <td>[Action, Adventure, Sci-Fi]</td>\n",
       "      <td>8.50</td>\n",
       "      <td>670926</td>\n",
       "      <td>Anthony Russo</td>\n",
       "      <td>Keith Giffen</td>\n",
       "      <td>Avengers: Infinity War</td>\n",
       "      <td>300000000.00</td>\n",
       "      <td>2048134200.00</td>\n",
       "      <td>2018.00</td>\n",
       "      <td>1748134200.00</td>\n",
       "    </tr>\n",
       "  </tbody>\n",
       "</table>\n",
       "<p>62155 rows × 13 columns</p>\n",
       "</div>"
      ],
      "text/plain": [
       "        movie_id           primary_title  start_year  \\\n",
       "53643  tt6565702            Dark Phoenix        2019   \n",
       "1706   tt1305591         Mars Needs Moms        2011   \n",
       "47183  tt5519340                  Bright        2017   \n",
       "38204  tt4192918             The Promise        2017   \n",
       "765    tt1041804    The Nutcracker in 3D        2010   \n",
       "...          ...                     ...         ...   \n",
       "9968   tt1825683           Black Panther        2018   \n",
       "307    tt0848228            The Avengers        2012   \n",
       "25282  tt2820852               Furious 7        2015   \n",
       "44     tt0369610          Jurassic World        2015   \n",
       "37844  tt4154756  Avengers: Infinity War        2018   \n",
       "\n",
       "                               genres  averagerating  numvotes  \\\n",
       "53643     [Action, Adventure, Sci-Fi]           6.00     24451   \n",
       "1706   [Adventure, Animation, Family]           5.40     19823   \n",
       "47183        [Action, Crime, Fantasy]           6.40    147834   \n",
       "38204                        [Comedy]           8.80        53   \n",
       "765         [Action, Family, Fantasy]           4.30      3119   \n",
       "...                               ...            ...       ...   \n",
       "9968      [Action, Adventure, Sci-Fi]           7.30    516148   \n",
       "307       [Action, Adventure, Sci-Fi]           8.10   1183655   \n",
       "25282       [Action, Crime, Thriller]           7.20    335074   \n",
       "44        [Action, Adventure, Sci-Fi]           7.00    539338   \n",
       "37844     [Action, Adventure, Sci-Fi]           8.50    670926   \n",
       "\n",
       "              director_name           writer_name                   movie  \\\n",
       "53643         Simon Kinberg            John Byrne            Dark Phoenix   \n",
       "1706            Simon Wells     Berkeley Breathed         Mars Needs Moms   \n",
       "47183            David Ayer            Max Landis                  Bright   \n",
       "38204        Candy J. Beard        Candy J. Beard             The Promise   \n",
       "765    Andrey Konchalovskiy  Andrey Konchalovskiy    The Nutcracker in 3D   \n",
       "...                     ...                   ...                     ...   \n",
       "9968           Ryan Coogler            Jack Kirby           Black Panther   \n",
       "307             Joss Whedon              Zak Penn            The Avengers   \n",
       "25282             James Wan          Chris Morgan               Furious 7   \n",
       "44          Colin Trevorrow      Michael Crichton          Jurassic World   \n",
       "37844         Anthony Russo          Keith Giffen  Avengers: Infinity War   \n",
       "\n",
       "       production_budget  worldwide_gross  release_year        profit  \n",
       "53643       350000000.00     149762350.00       2019.00 -200237650.00  \n",
       "1706        150000000.00      39549758.00       2011.00 -110450242.00  \n",
       "47183        90000000.00             0.00       2017.00  -90000000.00  \n",
       "38204        90000000.00      10551417.00       2017.00  -79448583.00  \n",
       "765          90000000.00      20466016.00       2010.00  -69533984.00  \n",
       "...                  ...              ...           ...           ...  \n",
       "9968        200000000.00    1348258224.00       2018.00 1148258224.00  \n",
       "307         225000000.00    1517935897.00       2012.00 1292935897.00  \n",
       "25282       190000000.00    1518722794.00       2015.00 1328722794.00  \n",
       "44          215000000.00    1648854864.00       2015.00 1433854864.00  \n",
       "37844       300000000.00    2048134200.00       2018.00 1748134200.00  \n",
       "\n",
       "[62155 rows x 13 columns]"
      ]
     },
     "execution_count": 98,
     "metadata": {},
     "output_type": "execute_result"
    }
   ],
   "source": [
    "df4.sort_values('profit')"
   ]
  },
  {
   "cell_type": "markdown",
   "metadata": {},
   "source": [
    "## Visualizing - Most common genres"
   ]
  },
  {
   "cell_type": "code",
   "execution_count": 56,
   "metadata": {},
   "outputs": [],
   "source": [
    "genre_count = {}\n",
    "\n",
    "for movie in df3['genres']:\n",
    "    for genre in movie:\n",
    "        if genre in genre_count.keys():\n",
    "            genre_count[genre] +=1\n",
    "        else:\n",
    "            genre_count[genre] = 1\n",
    "        "
   ]
  },
  {
   "cell_type": "code",
   "execution_count": 57,
   "metadata": {
    "scrolled": true
   },
   "outputs": [
    {
     "data": {
      "text/plain": [
       "{'Action': 6397,\n",
       " 'Crime': 4304,\n",
       " 'Drama': 28609,\n",
       " 'Comedy': 15926,\n",
       " 'Fantasy': 2015,\n",
       " 'Adventure': 3439,\n",
       " 'Animation': 1504,\n",
       " 'History': 2277,\n",
       " 'Documentary': 11071,\n",
       " 'Mystery': 2910,\n",
       " 'Biography': 2875,\n",
       " 'Sci-Fi': 2117,\n",
       " 'Thriller': 7816,\n",
       " 'Horror': 7203,\n",
       " 'Family': 3002,\n",
       " 'Romance': 6054,\n",
       " 'War': 744,\n",
       " 'Music': 1317,\n",
       " 'Sport': 866,\n",
       " 'Western': 265,\n",
       " 'Musical': 624,\n",
       " 'News': 398,\n",
       " 'Reality-TV': 7,\n",
       " 'Game-Show': 2,\n",
       " 'Adult': 2,\n",
       " 'Short': 1}"
      ]
     },
     "execution_count": 57,
     "metadata": {},
     "output_type": "execute_result"
    }
   ],
   "source": [
    "genre_count"
   ]
  },
  {
   "cell_type": "code",
   "execution_count": 60,
   "metadata": {
    "scrolled": true
   },
   "outputs": [
    {
     "data": {
      "image/png": "[encoded data removed]",
      "text/plain": [
       "<Figure size 432x288 with 1 Axes>"
      ]
     },
     "metadata": {
      "needs_background": "light"
     },
     "output_type": "display_data"
    }
   ],
   "source": [
    "fig, ax = plt.subplots()\n",
    "ax.bar(x = list(genre_count.keys()), height = list(genre_count.values()));\n",
    "ax.tick_params(axis='x', labelrotation = 90);\n",
    "ax.set_ylabel('Number of Movies');\n",
    "ax.set_xlabel('Genre of Movie');\n",
    "ax.set_title('Distribution of Movie Genres');"
   ]
  },
  {
   "cell_type": "markdown",
   "metadata": {},
   "source": [
    "# Finding average IMDB rating per genre"
   ]
  },
  {
   "cell_type": "code",
   "execution_count": 61,
   "metadata": {},
   "outputs": [
    {
     "data": {
      "text/plain": [
       "{'Action': 5.8,\n",
       " 'Crime': 6.1,\n",
       " 'Drama': 6.39,\n",
       " 'Comedy': 6.01,\n",
       " 'Fantasy': 5.91,\n",
       " 'Adventure': 6.12,\n",
       " 'Animation': 6.25,\n",
       " 'History': 6.96,\n",
       " 'Documentary': 7.32,\n",
       " 'Mystery': 5.91,\n",
       " 'Biography': 7.1,\n",
       " 'Sci-Fi': 5.48,\n",
       " 'Thriller': 5.63,\n",
       " 'Horror': 5.0,\n",
       " 'Family': 6.34,\n",
       " 'Romance': 6.15,\n",
       " 'War': 6.49,\n",
       " 'Music': 9.72,\n",
       " 'Sport': 6.83,\n",
       " 'Western': 5.83,\n",
       " 'Musical': 6.44,\n",
       " 'News': 7.24,\n",
       " 'Reality-TV': 6.93,\n",
       " 'Game-Show': 7.3,\n",
       " 'Adult': 2.7,\n",
       " 'Short': 8.8}"
      ]
     },
     "execution_count": 61,
     "metadata": {},
     "output_type": "execute_result"
    }
   ],
   "source": [
    "cumulative_rating = []\n",
    "genres = list(genre_count.keys())\n",
    "        \n",
    "for genre in genre_count:\n",
    "    rating = df3.loc[df3['genres'].astype(str).str.contains(genre), 'averagerating']\n",
    "    rating = rating.cumsum().iloc[-1]\n",
    "    average_rating = round(rating / genre_count[genre], 2)\n",
    "    cumulative_rating.append(average_rating)\n",
    "\n",
    "genre_ratings = dict(zip(genres, cumulative_rating))\n",
    "genre_ratings\n",
    "         "
   ]
  },
  {
   "cell_type": "code",
   "execution_count": null,
   "metadata": {},
   "outputs": [],
   "source": []
  },
  {
   "cell_type": "markdown",
   "metadata": {},
   "source": [
    "# Find average profit by genre"
   ]
  },
  {
   "cell_type": "markdown",
   "metadata": {},
   "source": [
    "In order to correctly compute average profit, we need to calculate a new genre count for movies that include profit data."
   ]
  },
  {
   "cell_type": "code",
   "execution_count": 71,
   "metadata": {},
   "outputs": [],
   "source": [
    "# find genre count for each record that includes profit information.\n",
    "profit_count = {}\n",
    "\n",
    "for movie in df2['genres']:\n",
    "    for genre in movie:\n",
    "        if genre in profit_count.keys():\n",
    "            profit_count[genre] +=1\n",
    "        else:\n",
    "            profit_count[genre] = 1"
   ]
  },
  {
   "cell_type": "code",
   "execution_count": 72,
   "metadata": {},
   "outputs": [
    {
     "data": {
      "text/plain": [
       "{'Action': 444,\n",
       " 'Animation': 101,\n",
       " 'Comedy': 510,\n",
       " 'Adventure': 349,\n",
       " 'Drama': 705,\n",
       " 'Crime': 232,\n",
       " 'Sci-Fi': 132,\n",
       " 'Family': 91,\n",
       " 'Romance': 183,\n",
       " 'Thriller': 257,\n",
       " 'Horror': 177,\n",
       " 'Mystery': 125,\n",
       " 'Biography': 131,\n",
       " 'History': 38,\n",
       " 'War': 17,\n",
       " 'Fantasy': 121,\n",
       " 'Sport': 33,\n",
       " 'Music': 45,\n",
       " 'Western': 11,\n",
       " 'Documentary': 19,\n",
       " 'Musical': 8}"
      ]
     },
     "execution_count": 72,
     "metadata": {},
     "output_type": "execute_result"
    }
   ],
   "source": [
    "profit_count"
   ]
  },
  {
   "cell_type": "code",
   "execution_count": 84,
   "metadata": {},
   "outputs": [
    {
     "data": {
      "text/plain": [
       "{'Action': 161618671.85,\n",
       " 'Animation': 279728090.58,\n",
       " 'Comedy': 93709341.62,\n",
       " 'Adventure': 245671972.59,\n",
       " 'Drama': 47499251.62,\n",
       " 'Crime': 48633093.89,\n",
       " 'Sci-Fi': 252720489.92,\n",
       " 'Family': 131159824.6,\n",
       " 'Romance': 46272697.14,\n",
       " 'Thriller': 83113839.28,\n",
       " 'Horror': 50111344.15,\n",
       " 'Mystery': 65953309.24,\n",
       " 'Biography': 55798194.65,\n",
       " 'History': 53642267.76,\n",
       " 'War': 29517132.12,\n",
       " 'Fantasy': 152652851.51,\n",
       " 'Sport': 28300758.45,\n",
       " 'Music': 91593874.38,\n",
       " 'Western': 47218943.0,\n",
       " 'Documentary': 21558059.47,\n",
       " 'Musical': 182863946.38}"
      ]
     },
     "execution_count": 84,
     "metadata": {},
     "output_type": "execute_result"
    }
   ],
   "source": [
    "# create dictionary with genres as keys and average profit as values.\n",
    "\n",
    "cumulative_profit = []\n",
    "genres = list(profit_count.keys())\n",
    "\n",
    "        \n",
    "for genre in profit_count:\n",
    "    profit = df2.loc[df2['genres'].astype(str).str.contains(genre), 'profit']\n",
    "    profit = profit.cumsum().iloc[-1]       \n",
    "    average_profit = round(profit / profit_count[genre], 2)\n",
    "    cumulative_profit.append(average_profit)\n",
    "\n",
    "genre_profits = dict(zip(genres, cumulative_profit))\n",
    "genre_profits"
   ]
  },
  {
   "cell_type": "markdown",
   "metadata": {},
   "source": [
    "for movies we have budget data--which genres have more flops?"
   ]
  },
  {
   "cell_type": "code",
   "execution_count": 103,
   "metadata": {},
   "outputs": [
    {
     "data": {
      "text/plain": [
       "{'Action': 53927638.0,\n",
       " 'Animation': 196392649.0,\n",
       " 'Comedy': 29817257.5,\n",
       " 'Adventure': 129276941.0,\n",
       " 'Drama': 12341016.0,\n",
       " 'Crime': 13630709.5,\n",
       " 'Sci-Fi': 121888904.0,\n",
       " 'Family': 42150788.0,\n",
       " 'Romance': 17621449.0,\n",
       " 'Thriller': 27666013.0,\n",
       " 'Horror': 15965567.0,\n",
       " 'Mystery': 33735965.0,\n",
       " 'Biography': 17425450.0,\n",
       " 'History': 20889821.0,\n",
       " 'War': -1973745.0,\n",
       " 'Fantasy': 41647574.0,\n",
       " 'Sport': 14217912.0,\n",
       " 'Music': 10439214.0,\n",
       " 'Western': -2240304.0,\n",
       " 'Documentary': 1653715.0,\n",
       " 'Musical': 17276337.5}"
      ]
     },
     "execution_count": 103,
     "metadata": {},
     "output_type": "execute_result"
    }
   ],
   "source": [
    "# create dictionary with genres as keys and median profit as values.\n",
    "\n",
    "median_genres = []\n",
    "genres = list(profit_count.keys())\n",
    "\n",
    "        \n",
    "for genre in profit_count:\n",
    "    profit = df2.loc[df2['genres'].astype(str).str.contains(genre), 'profit']\n",
    "           \n",
    "    median_profit = round(profit.median(), 2)\n",
    "    median_genres.append(median_profit)\n",
    "\n",
    "genre_medians = dict(zip(genres, median_genres))\n",
    "genre_medians"
   ]
  },
  {
   "cell_type": "code",
   "execution_count": 102,
   "metadata": {},
   "outputs": [
    {
     "data": {
      "text/plain": [
       "171      35552675.00\n",
       "295      -5068194.00\n",
       "324      -8968068.00\n",
       "436     302665550.00\n",
       "659      -1997564.00\n",
       "862      42527466.00\n",
       "1024     -1000000.00\n",
       "1047   1099199706.00\n",
       "Name: profit, dtype: float64"
      ]
     },
     "execution_count": 102,
     "metadata": {},
     "output_type": "execute_result"
    }
   ],
   "source": [
    "df2.loc[df2['genres'].astype(str).str.contains(genre), 'profit']"
   ]
  },
  {
   "cell_type": "code",
   "execution_count": 89,
   "metadata": {
    "scrolled": true
   },
   "outputs": [
    {
     "data": {
      "image/png": "[encoded data removed]",
      "text/plain": [
       "<Figure size 432x288 with 1 Axes>"
      ]
     },
     "metadata": {
      "needs_background": "light"
     },
     "output_type": "display_data"
    }
   ],
   "source": [
    "avg_profit, ax = plt.subplots()\n",
    "ax.bar(x = list(genre_profits.keys()), height = list(genre_profits.values()));\n",
    "ax.tick_params(axis='x', labelrotation = 90);\n",
    "ax.ticklabel_format(axis='y',style='plain')\n",
    "ax.set_ylabel('Average Profit');\n",
    "ax.set_xlabel('Genre of Movie');\n",
    "ax.set_title('Average Profit by Genre');"
   ]
  },
  {
   "cell_type": "code",
   "execution_count": 104,
   "metadata": {},
   "outputs": [
    {
     "data": {
      "image/png": "[encoded data removed]",
      "text/plain": [
       "<Figure size 432x288 with 1 Axes>"
      ]
     },
     "metadata": {
      "needs_background": "light"
     },
     "output_type": "display_data"
    }
   ],
   "source": [
    "med_profit, ax = plt.subplots()\n",
    "ax.bar(x = list(genre_medians.keys()), height = list(genre_medians.values()));\n",
    "ax.tick_params(axis='x', labelrotation = 90);\n",
    "ax.ticklabel_format(axis='y',style='plain')\n",
    "ax.set_ylabel('Median Profit');\n",
    "ax.set_xlabel('Genre of Movie');\n",
    "ax.set_title('Median Profit by Genre');"
   ]
  },
  {
   "cell_type": "code",
   "execution_count": 97,
   "metadata": {},
   "outputs": [
    {
     "data": {
      "image/png": "[encoded data removed]",
      "text/plain": [
       "<Figure size 432x288 with 1 Axes>"
      ]
     },
     "metadata": {
      "needs_background": "light"
     },
     "output_type": "display_data"
    }
   ],
   "source": [
    "fig, ax = plt.subplots()\n",
    "ax.bar(x = list(profit_count.keys()), height = list(profit_count.values()));\n",
    "ax.tick_params(axis='x', labelrotation = 90);\n",
    "ax.set_ylabel('Number of Movies');\n",
    "ax.set_xlabel('Genre of Movie');\n",
    "ax.set_title('Distribution of Movie Genres with Profit Data');"
   ]
  },
  {
   "cell_type": "code",
   "execution_count": null,
   "metadata": {},
   "outputs": [],
   "source": []
  },
  {
   "cell_type": "code",
   "execution_count": null,
   "metadata": {},
   "outputs": [],
   "source": []
  },
  {
   "cell_type": "code",
   "execution_count": 57,
   "metadata": {},
   "outputs": [],
   "source": [
    "#Restore default display settings\n",
    "pd.reset_option('display.float_format')"
   ]
  },
  {
   "cell_type": "code",
   "execution_count": null,
   "metadata": {},
   "outputs": [],
   "source": []
  }
 ],
 "metadata": {
  "kernelspec": {
   "display_name": "Python (learn-env)",
   "language": "python",
   "name": "learn-env"
  },
  "language_info": {
   "codemirror_mode": {
    "name": "ipython",
    "version": 3
   },
   "file_extension": ".py",
   "mimetype": "text/x-python",
   "name": "python",
   "nbconvert_exporter": "python",
   "pygments_lexer": "ipython3",
   "version": "3.8.5"
  }
 },
 "nbformat": 4,
 "nbformat_minor": 4
}
