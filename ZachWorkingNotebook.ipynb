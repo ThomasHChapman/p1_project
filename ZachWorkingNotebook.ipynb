{
 "cells": [
  {
   "cell_type": "code",
   "execution_count": 32,
   "metadata": {},
   "outputs": [],
   "source": [
    "import pandas as pd\n",
    "import sqlite3\n",
    "import matplotlib.pyplot as plt\n",
    "import numpy as np\n",
    "import datetime as dt"
   ]
  },
  {
   "cell_type": "markdown",
   "metadata": {},
   "source": [
    "# The Movie Database (tmdb.movies.csv)"
   ]
  },
  {
   "cell_type": "code",
   "execution_count": 2,
   "metadata": {},
   "outputs": [],
   "source": [
    "df_movies = pd.read_csv('./data/tmdb.movies.csv.gz', index_col=0)"
   ]
  },
  {
   "cell_type": "code",
   "execution_count": 3,
   "metadata": {},
   "outputs": [
    {
     "data": {
      "text/html": [
       "<div>\n",
       "<style scoped>\n",
       "    .dataframe tbody tr th:only-of-type {\n",
       "        vertical-align: middle;\n",
       "    }\n",
       "\n",
       "    .dataframe tbody tr th {\n",
       "        vertical-align: top;\n",
       "    }\n",
       "\n",
       "    .dataframe thead th {\n",
       "        text-align: right;\n",
       "    }\n",
       "</style>\n",
       "<table border=\"1\" class=\"dataframe\">\n",
       "  <thead>\n",
       "    <tr style=\"text-align: right;\">\n",
       "      <th></th>\n",
       "      <th>genre_ids</th>\n",
       "      <th>id</th>\n",
       "      <th>original_language</th>\n",
       "      <th>original_title</th>\n",
       "      <th>popularity</th>\n",
       "      <th>release_date</th>\n",
       "      <th>title</th>\n",
       "      <th>vote_average</th>\n",
       "      <th>vote_count</th>\n",
       "    </tr>\n",
       "  </thead>\n",
       "  <tbody>\n",
       "    <tr>\n",
       "      <th>26057</th>\n",
       "      <td>[27, 80, 80, 80, 80, 80, 80]</td>\n",
       "      <td>570704</td>\n",
       "      <td>en</td>\n",
       "      <td>Murdery Christmas</td>\n",
       "      <td>0.840</td>\n",
       "      <td>2020-12-25</td>\n",
       "      <td>Murdery Christmas</td>\n",
       "      <td>0.0</td>\n",
       "      <td>1</td>\n",
       "    </tr>\n",
       "    <tr>\n",
       "      <th>24265</th>\n",
       "      <td>[10749, 18]</td>\n",
       "      <td>428836</td>\n",
       "      <td>en</td>\n",
       "      <td>Ophelia</td>\n",
       "      <td>8.715</td>\n",
       "      <td>2019-06-28</td>\n",
       "      <td>Ophelia</td>\n",
       "      <td>0.0</td>\n",
       "      <td>4</td>\n",
       "    </tr>\n",
       "    <tr>\n",
       "      <th>24892</th>\n",
       "      <td>[99]</td>\n",
       "      <td>541577</td>\n",
       "      <td>en</td>\n",
       "      <td>This Changes Everything</td>\n",
       "      <td>3.955</td>\n",
       "      <td>2019-06-28</td>\n",
       "      <td>This Changes Everything</td>\n",
       "      <td>0.0</td>\n",
       "      <td>1</td>\n",
       "    </tr>\n",
       "    <tr>\n",
       "      <th>24819</th>\n",
       "      <td>[18]</td>\n",
       "      <td>481880</td>\n",
       "      <td>en</td>\n",
       "      <td>Trial by Fire</td>\n",
       "      <td>4.480</td>\n",
       "      <td>2019-05-17</td>\n",
       "      <td>Trial by Fire</td>\n",
       "      <td>7.0</td>\n",
       "      <td>3</td>\n",
       "    </tr>\n",
       "    <tr>\n",
       "      <th>24297</th>\n",
       "      <td>[18]</td>\n",
       "      <td>415085</td>\n",
       "      <td>en</td>\n",
       "      <td>All Creatures Here Below</td>\n",
       "      <td>8.316</td>\n",
       "      <td>2019-05-17</td>\n",
       "      <td>All Creatures Here Below</td>\n",
       "      <td>5.0</td>\n",
       "      <td>5</td>\n",
       "    </tr>\n",
       "    <tr>\n",
       "      <th>24003</th>\n",
       "      <td>[18, 9648, 53]</td>\n",
       "      <td>411144</td>\n",
       "      <td>en</td>\n",
       "      <td>We Have Always Lived in the Castle</td>\n",
       "      <td>14.028</td>\n",
       "      <td>2019-05-17</td>\n",
       "      <td>We Have Always Lived in the Castle</td>\n",
       "      <td>5.2</td>\n",
       "      <td>24</td>\n",
       "    </tr>\n",
       "    <tr>\n",
       "      <th>25006</th>\n",
       "      <td>[99]</td>\n",
       "      <td>500850</td>\n",
       "      <td>es</td>\n",
       "      <td>El silencio de otros</td>\n",
       "      <td>3.299</td>\n",
       "      <td>2019-05-08</td>\n",
       "      <td>The Silence of Others</td>\n",
       "      <td>8.5</td>\n",
       "      <td>15</td>\n",
       "    </tr>\n",
       "    <tr>\n",
       "      <th>24612</th>\n",
       "      <td>[99]</td>\n",
       "      <td>541576</td>\n",
       "      <td>en</td>\n",
       "      <td>Meeting Gorbachev</td>\n",
       "      <td>5.870</td>\n",
       "      <td>2019-05-03</td>\n",
       "      <td>Meeting Gorbachev</td>\n",
       "      <td>10.0</td>\n",
       "      <td>3</td>\n",
       "    </tr>\n",
       "    <tr>\n",
       "      <th>24691</th>\n",
       "      <td>[18, 28, 80]</td>\n",
       "      <td>547590</td>\n",
       "      <td>en</td>\n",
       "      <td>El Chicano</td>\n",
       "      <td>5.274</td>\n",
       "      <td>2019-05-03</td>\n",
       "      <td>El Chicano</td>\n",
       "      <td>9.0</td>\n",
       "      <td>1</td>\n",
       "    </tr>\n",
       "    <tr>\n",
       "      <th>25012</th>\n",
       "      <td>[99]</td>\n",
       "      <td>523994</td>\n",
       "      <td>en</td>\n",
       "      <td>Hesburgh</td>\n",
       "      <td>3.262</td>\n",
       "      <td>2019-04-26</td>\n",
       "      <td>Hesburgh</td>\n",
       "      <td>10.0</td>\n",
       "      <td>1</td>\n",
       "    </tr>\n",
       "  </tbody>\n",
       "</table>\n",
       "</div>"
      ],
      "text/plain": [
       "                          genre_ids      id original_language  \\\n",
       "26057  [27, 80, 80, 80, 80, 80, 80]  570704                en   \n",
       "24265                   [10749, 18]  428836                en   \n",
       "24892                          [99]  541577                en   \n",
       "24819                          [18]  481880                en   \n",
       "24297                          [18]  415085                en   \n",
       "24003                [18, 9648, 53]  411144                en   \n",
       "25006                          [99]  500850                es   \n",
       "24612                          [99]  541576                en   \n",
       "24691                  [18, 28, 80]  547590                en   \n",
       "25012                          [99]  523994                en   \n",
       "\n",
       "                           original_title  popularity release_date  \\\n",
       "26057                   Murdery Christmas       0.840   2020-12-25   \n",
       "24265                             Ophelia       8.715   2019-06-28   \n",
       "24892             This Changes Everything       3.955   2019-06-28   \n",
       "24819                       Trial by Fire       4.480   2019-05-17   \n",
       "24297            All Creatures Here Below       8.316   2019-05-17   \n",
       "24003  We Have Always Lived in the Castle      14.028   2019-05-17   \n",
       "25006                El silencio de otros       3.299   2019-05-08   \n",
       "24612                   Meeting Gorbachev       5.870   2019-05-03   \n",
       "24691                          El Chicano       5.274   2019-05-03   \n",
       "25012                            Hesburgh       3.262   2019-04-26   \n",
       "\n",
       "                                    title  vote_average  vote_count  \n",
       "26057                   Murdery Christmas           0.0           1  \n",
       "24265                             Ophelia           0.0           4  \n",
       "24892             This Changes Everything           0.0           1  \n",
       "24819                       Trial by Fire           7.0           3  \n",
       "24297            All Creatures Here Below           5.0           5  \n",
       "24003  We Have Always Lived in the Castle           5.2          24  \n",
       "25006               The Silence of Others           8.5          15  \n",
       "24612                   Meeting Gorbachev          10.0           3  \n",
       "24691                          El Chicano           9.0           1  \n",
       "25012                            Hesburgh          10.0           1  "
      ]
     },
     "execution_count": 3,
     "metadata": {},
     "output_type": "execute_result"
    }
   ],
   "source": [
    "df_movies.sort_values(by='release_date', ascending = False).head(10)"
   ]
  },
  {
   "cell_type": "code",
   "execution_count": 4,
   "metadata": {},
   "outputs": [
    {
     "data": {
      "text/html": [
       "<div>\n",
       "<style scoped>\n",
       "    .dataframe tbody tr th:only-of-type {\n",
       "        vertical-align: middle;\n",
       "    }\n",
       "\n",
       "    .dataframe tbody tr th {\n",
       "        vertical-align: top;\n",
       "    }\n",
       "\n",
       "    .dataframe thead th {\n",
       "        text-align: right;\n",
       "    }\n",
       "</style>\n",
       "<table border=\"1\" class=\"dataframe\">\n",
       "  <thead>\n",
       "    <tr style=\"text-align: right;\">\n",
       "      <th></th>\n",
       "      <th>genre_ids</th>\n",
       "      <th>id</th>\n",
       "      <th>original_language</th>\n",
       "      <th>original_title</th>\n",
       "      <th>popularity</th>\n",
       "      <th>release_date</th>\n",
       "      <th>title</th>\n",
       "      <th>vote_average</th>\n",
       "      <th>vote_count</th>\n",
       "    </tr>\n",
       "  </thead>\n",
       "  <tbody>\n",
       "    <tr>\n",
       "      <th>0</th>\n",
       "      <td>[12, 14, 10751]</td>\n",
       "      <td>12444</td>\n",
       "      <td>en</td>\n",
       "      <td>Harry Potter and the Deathly Hallows: Part 1</td>\n",
       "      <td>33.533</td>\n",
       "      <td>2010-11-19</td>\n",
       "      <td>Harry Potter and the Deathly Hallows: Part 1</td>\n",
       "      <td>7.7</td>\n",
       "      <td>10788</td>\n",
       "    </tr>\n",
       "    <tr>\n",
       "      <th>1</th>\n",
       "      <td>[14, 12, 16, 10751]</td>\n",
       "      <td>10191</td>\n",
       "      <td>en</td>\n",
       "      <td>How to Train Your Dragon</td>\n",
       "      <td>28.734</td>\n",
       "      <td>2010-03-26</td>\n",
       "      <td>How to Train Your Dragon</td>\n",
       "      <td>7.7</td>\n",
       "      <td>7610</td>\n",
       "    </tr>\n",
       "    <tr>\n",
       "      <th>2</th>\n",
       "      <td>[12, 28, 878]</td>\n",
       "      <td>10138</td>\n",
       "      <td>en</td>\n",
       "      <td>Iron Man 2</td>\n",
       "      <td>28.515</td>\n",
       "      <td>2010-05-07</td>\n",
       "      <td>Iron Man 2</td>\n",
       "      <td>6.8</td>\n",
       "      <td>12368</td>\n",
       "    </tr>\n",
       "    <tr>\n",
       "      <th>3</th>\n",
       "      <td>[16, 35, 10751]</td>\n",
       "      <td>862</td>\n",
       "      <td>en</td>\n",
       "      <td>Toy Story</td>\n",
       "      <td>28.005</td>\n",
       "      <td>1995-11-22</td>\n",
       "      <td>Toy Story</td>\n",
       "      <td>7.9</td>\n",
       "      <td>10174</td>\n",
       "    </tr>\n",
       "    <tr>\n",
       "      <th>4</th>\n",
       "      <td>[28, 878, 12]</td>\n",
       "      <td>27205</td>\n",
       "      <td>en</td>\n",
       "      <td>Inception</td>\n",
       "      <td>27.920</td>\n",
       "      <td>2010-07-16</td>\n",
       "      <td>Inception</td>\n",
       "      <td>8.3</td>\n",
       "      <td>22186</td>\n",
       "    </tr>\n",
       "  </tbody>\n",
       "</table>\n",
       "</div>"
      ],
      "text/plain": [
       "             genre_ids     id original_language  \\\n",
       "0      [12, 14, 10751]  12444                en   \n",
       "1  [14, 12, 16, 10751]  10191                en   \n",
       "2        [12, 28, 878]  10138                en   \n",
       "3      [16, 35, 10751]    862                en   \n",
       "4        [28, 878, 12]  27205                en   \n",
       "\n",
       "                                 original_title  popularity release_date  \\\n",
       "0  Harry Potter and the Deathly Hallows: Part 1      33.533   2010-11-19   \n",
       "1                      How to Train Your Dragon      28.734   2010-03-26   \n",
       "2                                    Iron Man 2      28.515   2010-05-07   \n",
       "3                                     Toy Story      28.005   1995-11-22   \n",
       "4                                     Inception      27.920   2010-07-16   \n",
       "\n",
       "                                          title  vote_average  vote_count  \n",
       "0  Harry Potter and the Deathly Hallows: Part 1           7.7       10788  \n",
       "1                      How to Train Your Dragon           7.7        7610  \n",
       "2                                    Iron Man 2           6.8       12368  \n",
       "3                                     Toy Story           7.9       10174  \n",
       "4                                     Inception           8.3       22186  "
      ]
     },
     "execution_count": 4,
     "metadata": {},
     "output_type": "execute_result"
    }
   ],
   "source": [
    "df_movies.head()"
   ]
  },
  {
   "cell_type": "code",
   "execution_count": 5,
   "metadata": {},
   "outputs": [
    {
     "data": {
      "text/plain": [
       "(26517, 9)"
      ]
     },
     "execution_count": 5,
     "metadata": {},
     "output_type": "execute_result"
    }
   ],
   "source": [
    "df_movies.shape\n"
   ]
  },
  {
   "cell_type": "code",
   "execution_count": 6,
   "metadata": {},
   "outputs": [
    {
     "data": {
      "text/plain": [
       "1026"
      ]
     },
     "execution_count": 6,
     "metadata": {},
     "output_type": "execute_result"
    }
   ],
   "source": [
    "df_movies[['original_title', 'release_date']].duplicated().sum()"
   ]
  },
  {
   "cell_type": "code",
   "execution_count": 7,
   "metadata": {},
   "outputs": [],
   "source": [
    "df_movies.drop_duplicates(subset=['original_title', 'release_date'], inplace=True)"
   ]
  },
  {
   "cell_type": "code",
   "execution_count": 8,
   "metadata": {},
   "outputs": [
    {
     "data": {
      "text/plain": [
       "Index(['genre_ids', 'id', 'original_language', 'original_title', 'popularity',\n",
       "       'release_date', 'title', 'vote_average', 'vote_count'],\n",
       "      dtype='object')"
      ]
     },
     "execution_count": 8,
     "metadata": {},
     "output_type": "execute_result"
    }
   ],
   "source": [
    "df_movies.columns"
   ]
  },
  {
   "cell_type": "code",
   "execution_count": 9,
   "metadata": {},
   "outputs": [
    {
     "name": "stdout",
     "output_type": "stream",
     "text": [
      "<class 'pandas.core.frame.DataFrame'>\n",
      "Int64Index: 25491 entries, 0 to 26516\n",
      "Data columns (total 9 columns):\n",
      " #   Column             Non-Null Count  Dtype  \n",
      "---  ------             --------------  -----  \n",
      " 0   genre_ids          25491 non-null  object \n",
      " 1   id                 25491 non-null  int64  \n",
      " 2   original_language  25491 non-null  object \n",
      " 3   original_title     25491 non-null  object \n",
      " 4   popularity         25491 non-null  float64\n",
      " 5   release_date       25491 non-null  object \n",
      " 6   title              25491 non-null  object \n",
      " 7   vote_average       25491 non-null  float64\n",
      " 8   vote_count         25491 non-null  int64  \n",
      "dtypes: float64(2), int64(2), object(5)\n",
      "memory usage: 1.9+ MB\n"
     ]
    }
   ],
   "source": [
    "df_movies.info()"
   ]
  },
  {
   "cell_type": "code",
   "execution_count": 10,
   "metadata": {
    "scrolled": true
   },
   "outputs": [
    {
     "data": {
      "text/plain": [
       "[99]                         3564\n",
       "[]                           2459\n",
       "[18]                         2118\n",
       "[35]                         1622\n",
       "[27]                         1125\n",
       "                             ... \n",
       "[9648, 99, 27, 80]              1\n",
       "[16, 35, 10751, 80, 9648]       1\n",
       "[10402, 99, 18, 35]             1\n",
       "[12, 35, 18, 10749]             1\n",
       "[12, 878, 28, 27]               1\n",
       "Name: genre_ids, Length: 2477, dtype: int64"
      ]
     },
     "execution_count": 10,
     "metadata": {},
     "output_type": "execute_result"
    }
   ],
   "source": [
    "df_movies['genre_ids'].value_counts()"
   ]
  },
  {
   "cell_type": "markdown",
   "metadata": {},
   "source": [
    "### Genre Keys\n",
    "We can match these with the numbers in \"genre_ids\" column\n",
    "(per https://www.themoviedb.org/talk/5daf6eb0ae36680011d7e6ee)\n",
    "- Action          28\n",
    "- Adventure       12\n",
    "- Animation       16\n",
    "- Comedy          35\n",
    "- Crime           80\n",
    "- Documentary     99\n",
    "- Drama           18\n",
    "- Family          10751\n",
    "- Fantasy         14\n",
    "- History         36\n",
    "- Horror          27\n",
    "- Music           10402\n",
    "- Mystery         9648\n",
    "- Romance         10749\n",
    "- Science Fiction 878\n",
    "- TV Movie        10770\n",
    "- Thriller        53\n",
    "- War             10752\n",
    "- Western         37"
   ]
  },
  {
   "cell_type": "markdown",
   "metadata": {},
   "source": [
    "Adding new column for genre!"
   ]
  },
  {
   "cell_type": "code",
   "execution_count": 11,
   "metadata": {},
   "outputs": [],
   "source": [
    "df_movies.drop(df_movies[df_movies['genre_ids'] == '[]'].index, inplace=True)"
   ]
  },
  {
   "cell_type": "code",
   "execution_count": 12,
   "metadata": {},
   "outputs": [],
   "source": [
    "genre_dict = {28: 'Action', 12: 'Adventure', 16: 'Animation', 35: 'Comedy', 80: 'Crime', 99: 'Documentary', 18: 'Drama', 10751: 'Family', 14: 'Fantasy', 36: 'History', 27: 'Horror', 10402: 'Music', 9648: 'Mystery', 10749: 'Romance', 878: 'Science Fiction', 10770: 'TV Movie', 53: 'Thriller', 10752: 'War', 37: 'Western'}"
   ]
  },
  {
   "cell_type": "code",
   "execution_count": 13,
   "metadata": {
    "scrolled": true
   },
   "outputs": [
    {
     "data": {
      "text/html": [
       "<div>\n",
       "<style scoped>\n",
       "    .dataframe tbody tr th:only-of-type {\n",
       "        vertical-align: middle;\n",
       "    }\n",
       "\n",
       "    .dataframe tbody tr th {\n",
       "        vertical-align: top;\n",
       "    }\n",
       "\n",
       "    .dataframe thead th {\n",
       "        text-align: right;\n",
       "    }\n",
       "</style>\n",
       "<table border=\"1\" class=\"dataframe\">\n",
       "  <thead>\n",
       "    <tr style=\"text-align: right;\">\n",
       "      <th></th>\n",
       "      <th>genre_ids</th>\n",
       "      <th>id</th>\n",
       "      <th>original_language</th>\n",
       "      <th>original_title</th>\n",
       "      <th>popularity</th>\n",
       "      <th>release_date</th>\n",
       "      <th>title</th>\n",
       "      <th>vote_average</th>\n",
       "      <th>vote_count</th>\n",
       "      <th>genres</th>\n",
       "    </tr>\n",
       "  </thead>\n",
       "  <tbody>\n",
       "    <tr>\n",
       "      <th>0</th>\n",
       "      <td>[12, 14, 10751]</td>\n",
       "      <td>12444</td>\n",
       "      <td>en</td>\n",
       "      <td>Harry Potter and the Deathly Hallows: Part 1</td>\n",
       "      <td>33.533</td>\n",
       "      <td>2010-11-19</td>\n",
       "      <td>Harry Potter and the Deathly Hallows: Part 1</td>\n",
       "      <td>7.7</td>\n",
       "      <td>10788</td>\n",
       "      <td>[Adventure, Fantasy, Family]</td>\n",
       "    </tr>\n",
       "    <tr>\n",
       "      <th>1</th>\n",
       "      <td>[14, 12, 16, 10751]</td>\n",
       "      <td>10191</td>\n",
       "      <td>en</td>\n",
       "      <td>How to Train Your Dragon</td>\n",
       "      <td>28.734</td>\n",
       "      <td>2010-03-26</td>\n",
       "      <td>How to Train Your Dragon</td>\n",
       "      <td>7.7</td>\n",
       "      <td>7610</td>\n",
       "      <td>[Fantasy, Adventure, Animation, Family]</td>\n",
       "    </tr>\n",
       "    <tr>\n",
       "      <th>2</th>\n",
       "      <td>[12, 28, 878]</td>\n",
       "      <td>10138</td>\n",
       "      <td>en</td>\n",
       "      <td>Iron Man 2</td>\n",
       "      <td>28.515</td>\n",
       "      <td>2010-05-07</td>\n",
       "      <td>Iron Man 2</td>\n",
       "      <td>6.8</td>\n",
       "      <td>12368</td>\n",
       "      <td>[Adventure, Action, Science Fiction]</td>\n",
       "    </tr>\n",
       "    <tr>\n",
       "      <th>3</th>\n",
       "      <td>[16, 35, 10751]</td>\n",
       "      <td>862</td>\n",
       "      <td>en</td>\n",
       "      <td>Toy Story</td>\n",
       "      <td>28.005</td>\n",
       "      <td>1995-11-22</td>\n",
       "      <td>Toy Story</td>\n",
       "      <td>7.9</td>\n",
       "      <td>10174</td>\n",
       "      <td>[Animation, Comedy, Family]</td>\n",
       "    </tr>\n",
       "    <tr>\n",
       "      <th>4</th>\n",
       "      <td>[28, 878, 12]</td>\n",
       "      <td>27205</td>\n",
       "      <td>en</td>\n",
       "      <td>Inception</td>\n",
       "      <td>27.920</td>\n",
       "      <td>2010-07-16</td>\n",
       "      <td>Inception</td>\n",
       "      <td>8.3</td>\n",
       "      <td>22186</td>\n",
       "      <td>[Action, Science Fiction, Adventure]</td>\n",
       "    </tr>\n",
       "  </tbody>\n",
       "</table>\n",
       "</div>"
      ],
      "text/plain": [
       "             genre_ids     id original_language  \\\n",
       "0      [12, 14, 10751]  12444                en   \n",
       "1  [14, 12, 16, 10751]  10191                en   \n",
       "2        [12, 28, 878]  10138                en   \n",
       "3      [16, 35, 10751]    862                en   \n",
       "4        [28, 878, 12]  27205                en   \n",
       "\n",
       "                                 original_title  popularity release_date  \\\n",
       "0  Harry Potter and the Deathly Hallows: Part 1      33.533   2010-11-19   \n",
       "1                      How to Train Your Dragon      28.734   2010-03-26   \n",
       "2                                    Iron Man 2      28.515   2010-05-07   \n",
       "3                                     Toy Story      28.005   1995-11-22   \n",
       "4                                     Inception      27.920   2010-07-16   \n",
       "\n",
       "                                          title  vote_average  vote_count  \\\n",
       "0  Harry Potter and the Deathly Hallows: Part 1           7.7       10788   \n",
       "1                      How to Train Your Dragon           7.7        7610   \n",
       "2                                    Iron Man 2           6.8       12368   \n",
       "3                                     Toy Story           7.9       10174   \n",
       "4                                     Inception           8.3       22186   \n",
       "\n",
       "                                    genres  \n",
       "0             [Adventure, Fantasy, Family]  \n",
       "1  [Fantasy, Adventure, Animation, Family]  \n",
       "2     [Adventure, Action, Science Fiction]  \n",
       "3              [Animation, Comedy, Family]  \n",
       "4     [Action, Science Fiction, Adventure]  "
      ]
     },
     "execution_count": 13,
     "metadata": {},
     "output_type": "execute_result"
    }
   ],
   "source": [
    "df_movies['genres'] = df_movies['genre_ids'].str.split(',')\n",
    "new_list_2 = []\n",
    "for item in df_movies['genres']:\n",
    "    new_list = []\n",
    "    for string in item:\n",
    "        l = int(''.join(c for c in string if c.isalnum()))\n",
    "        new_list.append(genre_dict[l])\n",
    "    new_list_2.append(new_list)\n",
    "    \n",
    "df_movies['genres'] = new_list_2\n",
    "    \n",
    "\n",
    "df_movies.head()"
   ]
  },
  {
   "cell_type": "code",
   "execution_count": 14,
   "metadata": {},
   "outputs": [
    {
     "data": {
      "text/plain": [
       "{'Adventure': 1334,\n",
       " 'Fantasy': 1082,\n",
       " 'Family': 1523,\n",
       " 'Animation': 1436,\n",
       " 'Action': 2534,\n",
       " 'Science Fiction': 1687,\n",
       " 'Comedy': 5431,\n",
       " 'Thriller': 3989,\n",
       " 'Horror': 3547,\n",
       " 'Crime': 1425,\n",
       " 'Drama': 7765,\n",
       " 'Romance': 2223,\n",
       " 'Music': 1228,\n",
       " 'Mystery': 1171,\n",
       " 'History': 569,\n",
       " 'Western': 193,\n",
       " 'TV Movie': 1067,\n",
       " 'War': 318,\n",
       " 'Documentary': 4776}"
      ]
     },
     "execution_count": 14,
     "metadata": {},
     "output_type": "execute_result"
    }
   ],
   "source": [
    "def get_genre_count(movies_dict):\n",
    "    genre_count = {}\n",
    "\n",
    "    for movie in movies_dict['genres']:\n",
    "        for genre in movie:\n",
    "            if genre in genre_count.keys():\n",
    "                genre_count[genre] += 1\n",
    "            else:\n",
    "                genre_count[genre] = 1\n",
    "    return genre_count\n",
    "\n",
    "get_genre_count(df_movies)"
   ]
  },
  {
   "cell_type": "code",
   "execution_count": 15,
   "metadata": {
    "scrolled": true
   },
   "outputs": [
    {
     "data": {
      "image/png": "[encoded data removed]",
      "text/plain": [
       "<Figure size 432x288 with 1 Axes>"
      ]
     },
     "metadata": {
      "needs_background": "light"
     },
     "output_type": "display_data"
    }
   ],
   "source": [
    "fig, ax = plt.subplots()\n",
    "\n",
    "ax.bar(x = list(genre_count.keys()), height = list(genre_count.values()));\n",
    "ax.tick_params(axis='x', labelrotation = 90);\n",
    "ax.set_ylabel('Number of Movies');\n",
    "ax.set_xlabel('Genre of Movie');\n",
    "ax.set_title('Distribution of Movie Genres');"
   ]
  },
  {
   "cell_type": "code",
   "execution_count": 15,
   "metadata": {
    "scrolled": false
   },
   "outputs": [
    {
     "data": {
      "text/html": [
       "<div>\n",
       "<style scoped>\n",
       "    .dataframe tbody tr th:only-of-type {\n",
       "        vertical-align: middle;\n",
       "    }\n",
       "\n",
       "    .dataframe tbody tr th {\n",
       "        vertical-align: top;\n",
       "    }\n",
       "\n",
       "    .dataframe thead th {\n",
       "        text-align: right;\n",
       "    }\n",
       "</style>\n",
       "<table border=\"1\" class=\"dataframe\">\n",
       "  <thead>\n",
       "    <tr style=\"text-align: right;\">\n",
       "      <th></th>\n",
       "      <th>genre_ids</th>\n",
       "      <th>id</th>\n",
       "      <th>original_language</th>\n",
       "      <th>original_title</th>\n",
       "      <th>popularity</th>\n",
       "      <th>release_date</th>\n",
       "      <th>title</th>\n",
       "      <th>vote_average</th>\n",
       "      <th>vote_count</th>\n",
       "      <th>genres</th>\n",
       "    </tr>\n",
       "  </thead>\n",
       "  <tbody>\n",
       "    <tr>\n",
       "      <th>0</th>\n",
       "      <td>[12, 14, 10751]</td>\n",
       "      <td>12444</td>\n",
       "      <td>en</td>\n",
       "      <td>Harry Potter and the Deathly Hallows: Part 1</td>\n",
       "      <td>33.533</td>\n",
       "      <td>2010-11-19</td>\n",
       "      <td>Harry Potter and the Deathly Hallows: Part 1</td>\n",
       "      <td>7.7</td>\n",
       "      <td>10788</td>\n",
       "      <td>[Adventure, Fantasy, Family]</td>\n",
       "    </tr>\n",
       "    <tr>\n",
       "      <th>1</th>\n",
       "      <td>[14, 12, 16, 10751]</td>\n",
       "      <td>10191</td>\n",
       "      <td>en</td>\n",
       "      <td>How to Train Your Dragon</td>\n",
       "      <td>28.734</td>\n",
       "      <td>2010-03-26</td>\n",
       "      <td>How to Train Your Dragon</td>\n",
       "      <td>7.7</td>\n",
       "      <td>7610</td>\n",
       "      <td>[Fantasy, Adventure, Animation, Family]</td>\n",
       "    </tr>\n",
       "    <tr>\n",
       "      <th>2</th>\n",
       "      <td>[12, 28, 878]</td>\n",
       "      <td>10138</td>\n",
       "      <td>en</td>\n",
       "      <td>Iron Man 2</td>\n",
       "      <td>28.515</td>\n",
       "      <td>2010-05-07</td>\n",
       "      <td>Iron Man 2</td>\n",
       "      <td>6.8</td>\n",
       "      <td>12368</td>\n",
       "      <td>[Adventure, Action, Science Fiction]</td>\n",
       "    </tr>\n",
       "    <tr>\n",
       "      <th>3</th>\n",
       "      <td>[16, 35, 10751]</td>\n",
       "      <td>862</td>\n",
       "      <td>en</td>\n",
       "      <td>Toy Story</td>\n",
       "      <td>28.005</td>\n",
       "      <td>1995-11-22</td>\n",
       "      <td>Toy Story</td>\n",
       "      <td>7.9</td>\n",
       "      <td>10174</td>\n",
       "      <td>[Animation, Comedy, Family]</td>\n",
       "    </tr>\n",
       "    <tr>\n",
       "      <th>4</th>\n",
       "      <td>[28, 878, 12]</td>\n",
       "      <td>27205</td>\n",
       "      <td>en</td>\n",
       "      <td>Inception</td>\n",
       "      <td>27.920</td>\n",
       "      <td>2010-07-16</td>\n",
       "      <td>Inception</td>\n",
       "      <td>8.3</td>\n",
       "      <td>22186</td>\n",
       "      <td>[Action, Science Fiction, Adventure]</td>\n",
       "    </tr>\n",
       "  </tbody>\n",
       "</table>\n",
       "</div>"
      ],
      "text/plain": [
       "             genre_ids     id original_language  \\\n",
       "0      [12, 14, 10751]  12444                en   \n",
       "1  [14, 12, 16, 10751]  10191                en   \n",
       "2        [12, 28, 878]  10138                en   \n",
       "3      [16, 35, 10751]    862                en   \n",
       "4        [28, 878, 12]  27205                en   \n",
       "\n",
       "                                 original_title  popularity release_date  \\\n",
       "0  Harry Potter and the Deathly Hallows: Part 1      33.533   2010-11-19   \n",
       "1                      How to Train Your Dragon      28.734   2010-03-26   \n",
       "2                                    Iron Man 2      28.515   2010-05-07   \n",
       "3                                     Toy Story      28.005   1995-11-22   \n",
       "4                                     Inception      27.920   2010-07-16   \n",
       "\n",
       "                                          title  vote_average  vote_count  \\\n",
       "0  Harry Potter and the Deathly Hallows: Part 1           7.7       10788   \n",
       "1                      How to Train Your Dragon           7.7        7610   \n",
       "2                                    Iron Man 2           6.8       12368   \n",
       "3                                     Toy Story           7.9       10174   \n",
       "4                                     Inception           8.3       22186   \n",
       "\n",
       "                                    genres  \n",
       "0             [Adventure, Fantasy, Family]  \n",
       "1  [Fantasy, Adventure, Animation, Family]  \n",
       "2     [Adventure, Action, Science Fiction]  \n",
       "3              [Animation, Comedy, Family]  \n",
       "4     [Action, Science Fiction, Adventure]  "
      ]
     },
     "execution_count": 15,
     "metadata": {},
     "output_type": "execute_result"
    }
   ],
   "source": [
    "df_movies.head()"
   ]
  },
  {
   "cell_type": "code",
   "execution_count": 93,
   "metadata": {},
   "outputs": [],
   "source": [
    "df_movies.drop_duplicates(subset='original_title', inplace=True)"
   ]
  },
  {
   "cell_type": "code",
   "execution_count": 17,
   "metadata": {},
   "outputs": [
    {
     "data": {
      "text/html": [
       "<div>\n",
       "<style scoped>\n",
       "    .dataframe tbody tr th:only-of-type {\n",
       "        vertical-align: middle;\n",
       "    }\n",
       "\n",
       "    .dataframe tbody tr th {\n",
       "        vertical-align: top;\n",
       "    }\n",
       "\n",
       "    .dataframe thead th {\n",
       "        text-align: right;\n",
       "    }\n",
       "</style>\n",
       "<table border=\"1\" class=\"dataframe\">\n",
       "  <thead>\n",
       "    <tr style=\"text-align: right;\">\n",
       "      <th></th>\n",
       "      <th>id</th>\n",
       "      <th>popularity</th>\n",
       "      <th>vote_average</th>\n",
       "      <th>vote_count</th>\n",
       "    </tr>\n",
       "  </thead>\n",
       "  <tbody>\n",
       "    <tr>\n",
       "      <th>count</th>\n",
       "      <td>23032.000000</td>\n",
       "      <td>23032.000000</td>\n",
       "      <td>23032.000000</td>\n",
       "      <td>23032.000000</td>\n",
       "    </tr>\n",
       "    <tr>\n",
       "      <th>mean</th>\n",
       "      <td>291514.949418</td>\n",
       "      <td>3.287726</td>\n",
       "      <td>5.970376</td>\n",
       "      <td>197.716221</td>\n",
       "    </tr>\n",
       "    <tr>\n",
       "      <th>std</th>\n",
       "      <td>156598.776480</td>\n",
       "      <td>4.411814</td>\n",
       "      <td>1.792639</td>\n",
       "      <td>959.900284</td>\n",
       "    </tr>\n",
       "    <tr>\n",
       "      <th>min</th>\n",
       "      <td>27.000000</td>\n",
       "      <td>0.600000</td>\n",
       "      <td>0.000000</td>\n",
       "      <td>1.000000</td>\n",
       "    </tr>\n",
       "    <tr>\n",
       "      <th>25%</th>\n",
       "      <td>144582.250000</td>\n",
       "      <td>0.631000</td>\n",
       "      <td>5.000000</td>\n",
       "      <td>2.000000</td>\n",
       "    </tr>\n",
       "    <tr>\n",
       "      <th>50%</th>\n",
       "      <td>304035.500000</td>\n",
       "      <td>1.443000</td>\n",
       "      <td>6.000000</td>\n",
       "      <td>6.000000</td>\n",
       "    </tr>\n",
       "    <tr>\n",
       "      <th>75%</th>\n",
       "      <td>421264.250000</td>\n",
       "      <td>4.188750</td>\n",
       "      <td>7.000000</td>\n",
       "      <td>32.000000</td>\n",
       "    </tr>\n",
       "    <tr>\n",
       "      <th>max</th>\n",
       "      <td>608079.000000</td>\n",
       "      <td>80.773000</td>\n",
       "      <td>10.000000</td>\n",
       "      <td>22186.000000</td>\n",
       "    </tr>\n",
       "  </tbody>\n",
       "</table>\n",
       "</div>"
      ],
      "text/plain": [
       "                  id    popularity  vote_average    vote_count\n",
       "count   23032.000000  23032.000000  23032.000000  23032.000000\n",
       "mean   291514.949418      3.287726      5.970376    197.716221\n",
       "std    156598.776480      4.411814      1.792639    959.900284\n",
       "min        27.000000      0.600000      0.000000      1.000000\n",
       "25%    144582.250000      0.631000      5.000000      2.000000\n",
       "50%    304035.500000      1.443000      6.000000      6.000000\n",
       "75%    421264.250000      4.188750      7.000000     32.000000\n",
       "max    608079.000000     80.773000     10.000000  22186.000000"
      ]
     },
     "execution_count": 17,
     "metadata": {},
     "output_type": "execute_result"
    }
   ],
   "source": [
    "df_movies.describe()"
   ]
  },
  {
   "cell_type": "code",
   "execution_count": 16,
   "metadata": {},
   "outputs": [],
   "source": [
    "def get_avg_rating(movies_dict, genres_dict):  \n",
    "    cumulative_rating = []\n",
    "    genres = list(genres_dict.values())\n",
    "        \n",
    "    for genre in genres:\n",
    "        rating = movies_dict.loc[movies_dict['genres'].astype(str).str.contains(genre), 'vote_average']\n",
    "        rating = rating.cumsum().iloc[-1]\n",
    "        average_rating = round(rating / get_genre_count(movies_dict)[genre], 2)\n",
    "        cumulative_rating.append(average_rating)\n",
    "\n",
    "    genre_ratings = dict(zip(genres, cumulative_rating))\n",
    "    return genre_ratings\n",
    "\n",
    "avg_full = get_avg_rating(df_movies, genre_dict)"
   ]
  },
  {
   "cell_type": "code",
   "execution_count": 24,
   "metadata": {},
   "outputs": [
    {
     "data": {
      "image/png": "[encoded data removed]",
      "text/plain": [
       "<Figure size 432x288 with 1 Axes>"
      ]
     },
     "metadata": {
      "needs_background": "light"
     },
     "output_type": "display_data"
    }
   ],
   "source": [
    "fig, ax = plt.subplots()\n",
    "\n",
    "ax.bar(x = list(avg_full.keys()), height = list(avg_full.values()));\n",
    "ax.tick_params(axis='x', rotation=90);\n",
    "ax.set_title('Average Rating by Movie Genre');\n",
    "ax.set_ylabel('Average Rating');\n",
    "ax.set_xlabel('Movie Genre');"
   ]
  },
  {
   "cell_type": "markdown",
   "metadata": {},
   "source": [
    "### Determine if the number of votes for each movie affects the average rating. First, we will ignore the bottom 25% of vote counts, then 50%, and finally 75%."
   ]
  },
  {
   "cell_type": "markdown",
   "metadata": {},
   "source": [
    "Create movies dataframe with movies that received more than 2 votes."
   ]
  },
  {
   "cell_type": "code",
   "execution_count": 18,
   "metadata": {},
   "outputs": [],
   "source": [
    "df_movies_25 = df_movies[df_movies['vote_count'] > 2]"
   ]
  },
  {
   "cell_type": "code",
   "execution_count": 19,
   "metadata": {},
   "outputs": [],
   "source": [
    "avg_25th = get_avg_rating(df_movies_25, genre_dict)"
   ]
  },
  {
   "cell_type": "markdown",
   "metadata": {},
   "source": [
    "Create movies dataframe with movies that received more than 6 votes."
   ]
  },
  {
   "cell_type": "code",
   "execution_count": 20,
   "metadata": {},
   "outputs": [],
   "source": [
    "df_movies_50 = df_movies[df_movies['vote_count'] > 6]"
   ]
  },
  {
   "cell_type": "code",
   "execution_count": 21,
   "metadata": {},
   "outputs": [],
   "source": [
    "avg_50th = get_avg_rating(df_movies_50, genre_dict)"
   ]
  },
  {
   "cell_type": "markdown",
   "metadata": {},
   "source": [
    "Create movies dataframe with movies that received more than 32 votes."
   ]
  },
  {
   "cell_type": "code",
   "execution_count": 22,
   "metadata": {},
   "outputs": [],
   "source": [
    "df_movies_75 = df_movies[df_movies['vote_count'] > 32]"
   ]
  },
  {
   "cell_type": "code",
   "execution_count": 23,
   "metadata": {},
   "outputs": [],
   "source": [
    "avg_75th = get_avg_rating(df_movies_75, genre_dict)"
   ]
  },
  {
   "cell_type": "code",
   "execution_count": 72,
   "metadata": {},
   "outputs": [
    {
     "data": {
      "image/png": "[encoded data removed]",
      "text/plain": [
       "<Figure size 1080x1080 with 4 Axes>"
      ]
     },
     "metadata": {
      "needs_background": "light"
     },
     "output_type": "display_data"
    }
   ],
   "source": [
    "fig, ax = plt.subplots(figsize=(15,15), ncols=2, nrows=2)\n",
    "\n",
    "ax[0,0].bar(x=list(avg_full.keys()), height=list(avg_full.values()));\n",
    "ax[0,0].tick_params(axis='x', rotation=90);\n",
    "ax[0,0].set_title('Average Rating by Movie Genre (Full)');\n",
    "\n",
    "ax[0,1].bar(x=list(avg_25th.keys()), height=list(avg_25th.values()));\n",
    "ax[0,1].tick_params(axis='x', rotation=90);\n",
    "ax[0,1].set_title('Average Rating by Movie Genre (Exclude 25th)');\n",
    "\n",
    "ax[1,0].bar(x=list(avg_50th.keys()), height=list(avg_50th.values()));\n",
    "ax[1,0].tick_params(axis='x', rotation=90);\n",
    "ax[1,0].set_title('Average Rating by Movie Genre (Exclude 50th)');\n",
    "\n",
    "ax[1,1].bar(x=list(avg_75th.keys()), height=list(avg_75th.values()));\n",
    "ax[1,1].tick_params(axis='x', rotation=90);\n",
    "ax[1,1].set_title('Average Rating by Movie Genre (Exclude 75th)');\n",
    "\n",
    "fig.tight_layout()"
   ]
  },
  {
   "cell_type": "markdown",
   "metadata": {},
   "source": [
    "### Based on the four above graphs, the number of votes a movie received does not appear to influence the average rating by movie genre. Next, we will check to see if only sorting by movies since 2015 will show a clearer trend in popular genres."
   ]
  },
  {
   "cell_type": "code",
   "execution_count": 48,
   "metadata": {},
   "outputs": [],
   "source": [
    "# Add a release_year column\n",
    "df_movies['release_year'] = df_movies['release_date'].str[:4].astype(int)\n",
    "df_movies_2015 = df_movies[df_movies['release_year'] >= 2015]\n"
   ]
  },
  {
   "cell_type": "code",
   "execution_count": 50,
   "metadata": {},
   "outputs": [],
   "source": [
    "# Get average rating by genre for movies released in 2015 and onward\n",
    "avg_2015 = get_avg_rating(df_movies_2015, genre_dict)"
   ]
  },
  {
   "cell_type": "code",
   "execution_count": 51,
   "metadata": {},
   "outputs": [
    {
     "data": {
      "image/png": "[encoded data removed]",
      "text/plain": [
       "<Figure size 576x432 with 1 Axes>"
      ]
     },
     "metadata": {
      "needs_background": "light"
     },
     "output_type": "display_data"
    }
   ],
   "source": [
    "# Plot average rating by genre for movies released in 2015 onward\n",
    "fig, ax = plt.subplots(figsize=(8,6))\n",
    "\n",
    "ax.bar(x=list(avg_2015.keys()), height=list(avg_2015.values()));\n",
    "ax.tick_params(axis='x', rotation=90);\n",
    "ax.set_title('Average Rating by Movie Genre for Movies Released in 2015 Onwards');\n",
    "ax.set_ylabel('Average Rating');\n",
    "ax.set_xlabel('Movie Genre');"
   ]
  },
  {
   "cell_type": "markdown",
   "metadata": {},
   "source": [
    "### More recent movies do not show any new trends regarding average rating related to movie genre. Next, we will merge this orginal cleaned dataframe with the budget dataframe to see if movies with higher production budgets have higher average ratings."
   ]
  },
  {
   "cell_type": "code",
   "execution_count": 182,
   "metadata": {},
   "outputs": [
    {
     "name": "stderr",
     "output_type": "stream",
     "text": [
      "<ipython-input-182-e4efbdc5c76d>:1: SettingWithCopyWarning: \n",
      "A value is trying to be set on a copy of a slice from a DataFrame.\n",
      "Try using .loc[row_indexer,col_indexer] = value instead\n",
      "\n",
      "See the caveats in the documentation: https://pandas.pydata.org/pandas-docs/stable/user_guide/indexing.html#returning-a-view-versus-a-copy\n",
      "  df_movies_75['release_year'] = df_movies_75['release_date'].str[:4].astype(int)\n"
     ]
    }
   ],
   "source": [
    "df_movies_75['release_year'] = df_movies_75['release_date'].str[:4].astype(int)"
   ]
  },
  {
   "cell_type": "code",
   "execution_count": 184,
   "metadata": {},
   "outputs": [
    {
     "data": {
      "text/html": [
       "<div>\n",
       "<style scoped>\n",
       "    .dataframe tbody tr th:only-of-type {\n",
       "        vertical-align: middle;\n",
       "    }\n",
       "\n",
       "    .dataframe tbody tr th {\n",
       "        vertical-align: top;\n",
       "    }\n",
       "\n",
       "    .dataframe thead th {\n",
       "        text-align: right;\n",
       "    }\n",
       "</style>\n",
       "<table border=\"1\" class=\"dataframe\">\n",
       "  <thead>\n",
       "    <tr style=\"text-align: right;\">\n",
       "      <th></th>\n",
       "      <th>release_date_x</th>\n",
       "      <th>movie</th>\n",
       "      <th>production_budget</th>\n",
       "      <th>domestic_gross</th>\n",
       "      <th>worldwide_gross</th>\n",
       "      <th>genre_ids</th>\n",
       "      <th>id</th>\n",
       "      <th>original_language</th>\n",
       "      <th>original_title</th>\n",
       "      <th>popularity</th>\n",
       "      <th>release_date_y</th>\n",
       "      <th>title</th>\n",
       "      <th>vote_average</th>\n",
       "      <th>vote_count</th>\n",
       "      <th>genres</th>\n",
       "      <th>release_year</th>\n",
       "    </tr>\n",
       "  </thead>\n",
       "  <tbody>\n",
       "    <tr>\n",
       "      <th>0</th>\n",
       "      <td>2009</td>\n",
       "      <td>Avatar</td>\n",
       "      <td>425000000</td>\n",
       "      <td>$760,507,625</td>\n",
       "      <td>$2,776,345,279</td>\n",
       "      <td>[28, 12, 14, 878]</td>\n",
       "      <td>19995</td>\n",
       "      <td>en</td>\n",
       "      <td>Avatar</td>\n",
       "      <td>26.526</td>\n",
       "      <td>2009-12-18</td>\n",
       "      <td>Avatar</td>\n",
       "      <td>7.4</td>\n",
       "      <td>18676</td>\n",
       "      <td>[Action, Adventure, Fantasy, Science Fiction]</td>\n",
       "      <td>2009</td>\n",
       "    </tr>\n",
       "    <tr>\n",
       "      <th>1</th>\n",
       "      <td>2011</td>\n",
       "      <td>Pirates of the Caribbean: On Stranger Tides</td>\n",
       "      <td>410600000</td>\n",
       "      <td>$241,063,875</td>\n",
       "      <td>$1,045,663,875</td>\n",
       "      <td>[12, 28, 14]</td>\n",
       "      <td>1865</td>\n",
       "      <td>en</td>\n",
       "      <td>Pirates of the Caribbean: On Stranger Tides</td>\n",
       "      <td>30.579</td>\n",
       "      <td>2011-05-20</td>\n",
       "      <td>Pirates of the Caribbean: On Stranger Tides</td>\n",
       "      <td>6.4</td>\n",
       "      <td>8571</td>\n",
       "      <td>[Adventure, Action, Fantasy]</td>\n",
       "      <td>2011</td>\n",
       "    </tr>\n",
       "    <tr>\n",
       "      <th>2</th>\n",
       "      <td>2015</td>\n",
       "      <td>Avengers: Age of Ultron</td>\n",
       "      <td>330600000</td>\n",
       "      <td>$459,005,868</td>\n",
       "      <td>$1,403,013,963</td>\n",
       "      <td>[28, 12, 878]</td>\n",
       "      <td>99861</td>\n",
       "      <td>en</td>\n",
       "      <td>Avengers: Age of Ultron</td>\n",
       "      <td>44.383</td>\n",
       "      <td>2015-05-01</td>\n",
       "      <td>Avengers: Age of Ultron</td>\n",
       "      <td>7.3</td>\n",
       "      <td>13457</td>\n",
       "      <td>[Action, Adventure, Science Fiction]</td>\n",
       "      <td>2015</td>\n",
       "    </tr>\n",
       "    <tr>\n",
       "      <th>3</th>\n",
       "      <td>2018</td>\n",
       "      <td>Avengers: Infinity War</td>\n",
       "      <td>300000000</td>\n",
       "      <td>$678,815,482</td>\n",
       "      <td>$2,048,134,200</td>\n",
       "      <td>[12, 28, 14]</td>\n",
       "      <td>299536</td>\n",
       "      <td>en</td>\n",
       "      <td>Avengers: Infinity War</td>\n",
       "      <td>80.773</td>\n",
       "      <td>2018-04-27</td>\n",
       "      <td>Avengers: Infinity War</td>\n",
       "      <td>8.3</td>\n",
       "      <td>13948</td>\n",
       "      <td>[Adventure, Action, Fantasy]</td>\n",
       "      <td>2018</td>\n",
       "    </tr>\n",
       "    <tr>\n",
       "      <th>4</th>\n",
       "      <td>2017</td>\n",
       "      <td>Justice League</td>\n",
       "      <td>300000000</td>\n",
       "      <td>$229,024,295</td>\n",
       "      <td>$655,945,209</td>\n",
       "      <td>[28, 12, 14, 878]</td>\n",
       "      <td>141052</td>\n",
       "      <td>en</td>\n",
       "      <td>Justice League</td>\n",
       "      <td>34.953</td>\n",
       "      <td>2017-11-17</td>\n",
       "      <td>Justice League</td>\n",
       "      <td>6.2</td>\n",
       "      <td>7510</td>\n",
       "      <td>[Action, Adventure, Fantasy, Science Fiction]</td>\n",
       "      <td>2017</td>\n",
       "    </tr>\n",
       "  </tbody>\n",
       "</table>\n",
       "</div>"
      ],
      "text/plain": [
       "   release_date_x                                        movie  \\\n",
       "0            2009                                       Avatar   \n",
       "1            2011  Pirates of the Caribbean: On Stranger Tides   \n",
       "2            2015                      Avengers: Age of Ultron   \n",
       "3            2018                       Avengers: Infinity War   \n",
       "4            2017                               Justice League   \n",
       "\n",
       "   production_budget domestic_gross worldwide_gross          genre_ids  \\\n",
       "0          425000000   $760,507,625  $2,776,345,279  [28, 12, 14, 878]   \n",
       "1          410600000   $241,063,875  $1,045,663,875       [12, 28, 14]   \n",
       "2          330600000   $459,005,868  $1,403,013,963      [28, 12, 878]   \n",
       "3          300000000   $678,815,482  $2,048,134,200       [12, 28, 14]   \n",
       "4          300000000   $229,024,295    $655,945,209  [28, 12, 14, 878]   \n",
       "\n",
       "       id original_language                               original_title  \\\n",
       "0   19995                en                                       Avatar   \n",
       "1    1865                en  Pirates of the Caribbean: On Stranger Tides   \n",
       "2   99861                en                      Avengers: Age of Ultron   \n",
       "3  299536                en                       Avengers: Infinity War   \n",
       "4  141052                en                               Justice League   \n",
       "\n",
       "   popularity release_date_y                                        title  \\\n",
       "0      26.526     2009-12-18                                       Avatar   \n",
       "1      30.579     2011-05-20  Pirates of the Caribbean: On Stranger Tides   \n",
       "2      44.383     2015-05-01                      Avengers: Age of Ultron   \n",
       "3      80.773     2018-04-27                       Avengers: Infinity War   \n",
       "4      34.953     2017-11-17                               Justice League   \n",
       "\n",
       "   vote_average  vote_count                                         genres  \\\n",
       "0           7.4       18676  [Action, Adventure, Fantasy, Science Fiction]   \n",
       "1           6.4        8571                   [Adventure, Action, Fantasy]   \n",
       "2           7.3       13457           [Action, Adventure, Science Fiction]   \n",
       "3           8.3       13948                   [Adventure, Action, Fantasy]   \n",
       "4           6.2        7510  [Action, Adventure, Fantasy, Science Fiction]   \n",
       "\n",
       "   release_year  \n",
       "0          2009  \n",
       "1          2011  \n",
       "2          2015  \n",
       "3          2018  \n",
       "4          2017  "
      ]
     },
     "execution_count": 184,
     "metadata": {},
     "output_type": "execute_result"
    }
   ],
   "source": [
    "budget_movies_75 = df_budget.merge(df_movies_75, how='inner', left_on=['release_date', 'movie'], right_on=['release_year', 'original_title'])\n",
    "budget_movies_75.head()"
   ]
  },
  {
   "cell_type": "code",
   "execution_count": 132,
   "metadata": {
    "scrolled": true
   },
   "outputs": [
    {
     "data": {
      "text/html": [
       "<div>\n",
       "<style scoped>\n",
       "    .dataframe tbody tr th:only-of-type {\n",
       "        vertical-align: middle;\n",
       "    }\n",
       "\n",
       "    .dataframe tbody tr th {\n",
       "        vertical-align: top;\n",
       "    }\n",
       "\n",
       "    .dataframe thead th {\n",
       "        text-align: right;\n",
       "    }\n",
       "</style>\n",
       "<table border=\"1\" class=\"dataframe\">\n",
       "  <thead>\n",
       "    <tr style=\"text-align: right;\">\n",
       "      <th></th>\n",
       "      <th>release_date_x</th>\n",
       "      <th>movie</th>\n",
       "      <th>production_budget</th>\n",
       "      <th>domestic_gross</th>\n",
       "      <th>worldwide_gross</th>\n",
       "      <th>genre_ids</th>\n",
       "      <th>id</th>\n",
       "      <th>original_language</th>\n",
       "      <th>original_title</th>\n",
       "      <th>popularity</th>\n",
       "      <th>release_date_y</th>\n",
       "      <th>title</th>\n",
       "      <th>vote_average</th>\n",
       "      <th>vote_count</th>\n",
       "      <th>genres</th>\n",
       "      <th>release_year</th>\n",
       "    </tr>\n",
       "  </thead>\n",
       "  <tbody>\n",
       "    <tr>\n",
       "      <th>0</th>\n",
       "      <td>2009</td>\n",
       "      <td>Avatar</td>\n",
       "      <td>425000000</td>\n",
       "      <td>$760,507,625</td>\n",
       "      <td>$2,776,345,279</td>\n",
       "      <td>[28, 12, 14, 878]</td>\n",
       "      <td>19995</td>\n",
       "      <td>en</td>\n",
       "      <td>Avatar</td>\n",
       "      <td>26.526</td>\n",
       "      <td>2009-12-18</td>\n",
       "      <td>Avatar</td>\n",
       "      <td>7.4</td>\n",
       "      <td>18676</td>\n",
       "      <td>[Action, Adventure, Fantasy, Science Fiction]</td>\n",
       "      <td>2009</td>\n",
       "    </tr>\n",
       "    <tr>\n",
       "      <th>1</th>\n",
       "      <td>2011</td>\n",
       "      <td>Pirates of the Caribbean: On Stranger Tides</td>\n",
       "      <td>410600000</td>\n",
       "      <td>$241,063,875</td>\n",
       "      <td>$1,045,663,875</td>\n",
       "      <td>[12, 28, 14]</td>\n",
       "      <td>1865</td>\n",
       "      <td>en</td>\n",
       "      <td>Pirates of the Caribbean: On Stranger Tides</td>\n",
       "      <td>30.579</td>\n",
       "      <td>2011-05-20</td>\n",
       "      <td>Pirates of the Caribbean: On Stranger Tides</td>\n",
       "      <td>6.4</td>\n",
       "      <td>8571</td>\n",
       "      <td>[Adventure, Action, Fantasy]</td>\n",
       "      <td>2011</td>\n",
       "    </tr>\n",
       "    <tr>\n",
       "      <th>2</th>\n",
       "      <td>2015</td>\n",
       "      <td>Avengers: Age of Ultron</td>\n",
       "      <td>330600000</td>\n",
       "      <td>$459,005,868</td>\n",
       "      <td>$1,403,013,963</td>\n",
       "      <td>[28, 12, 878]</td>\n",
       "      <td>99861</td>\n",
       "      <td>en</td>\n",
       "      <td>Avengers: Age of Ultron</td>\n",
       "      <td>44.383</td>\n",
       "      <td>2015-05-01</td>\n",
       "      <td>Avengers: Age of Ultron</td>\n",
       "      <td>7.3</td>\n",
       "      <td>13457</td>\n",
       "      <td>[Action, Adventure, Science Fiction]</td>\n",
       "      <td>2015</td>\n",
       "    </tr>\n",
       "    <tr>\n",
       "      <th>3</th>\n",
       "      <td>2018</td>\n",
       "      <td>Avengers: Infinity War</td>\n",
       "      <td>300000000</td>\n",
       "      <td>$678,815,482</td>\n",
       "      <td>$2,048,134,200</td>\n",
       "      <td>[12, 28, 14]</td>\n",
       "      <td>299536</td>\n",
       "      <td>en</td>\n",
       "      <td>Avengers: Infinity War</td>\n",
       "      <td>80.773</td>\n",
       "      <td>2018-04-27</td>\n",
       "      <td>Avengers: Infinity War</td>\n",
       "      <td>8.3</td>\n",
       "      <td>13948</td>\n",
       "      <td>[Adventure, Action, Fantasy]</td>\n",
       "      <td>2018</td>\n",
       "    </tr>\n",
       "    <tr>\n",
       "      <th>4</th>\n",
       "      <td>2017</td>\n",
       "      <td>Justice League</td>\n",
       "      <td>300000000</td>\n",
       "      <td>$229,024,295</td>\n",
       "      <td>$655,945,209</td>\n",
       "      <td>[28, 12, 14, 878]</td>\n",
       "      <td>141052</td>\n",
       "      <td>en</td>\n",
       "      <td>Justice League</td>\n",
       "      <td>34.953</td>\n",
       "      <td>2017-11-17</td>\n",
       "      <td>Justice League</td>\n",
       "      <td>6.2</td>\n",
       "      <td>7510</td>\n",
       "      <td>[Action, Adventure, Fantasy, Science Fiction]</td>\n",
       "      <td>2017</td>\n",
       "    </tr>\n",
       "  </tbody>\n",
       "</table>\n",
       "</div>"
      ],
      "text/plain": [
       "   release_date_x                                        movie  \\\n",
       "0            2009                                       Avatar   \n",
       "1            2011  Pirates of the Caribbean: On Stranger Tides   \n",
       "2            2015                      Avengers: Age of Ultron   \n",
       "3            2018                       Avengers: Infinity War   \n",
       "4            2017                               Justice League   \n",
       "\n",
       "   production_budget domestic_gross worldwide_gross          genre_ids  \\\n",
       "0          425000000   $760,507,625  $2,776,345,279  [28, 12, 14, 878]   \n",
       "1          410600000   $241,063,875  $1,045,663,875       [12, 28, 14]   \n",
       "2          330600000   $459,005,868  $1,403,013,963      [28, 12, 878]   \n",
       "3          300000000   $678,815,482  $2,048,134,200       [12, 28, 14]   \n",
       "4          300000000   $229,024,295    $655,945,209  [28, 12, 14, 878]   \n",
       "\n",
       "       id original_language                               original_title  \\\n",
       "0   19995                en                                       Avatar   \n",
       "1    1865                en  Pirates of the Caribbean: On Stranger Tides   \n",
       "2   99861                en                      Avengers: Age of Ultron   \n",
       "3  299536                en                       Avengers: Infinity War   \n",
       "4  141052                en                               Justice League   \n",
       "\n",
       "   popularity release_date_y                                        title  \\\n",
       "0      26.526     2009-12-18                                       Avatar   \n",
       "1      30.579     2011-05-20  Pirates of the Caribbean: On Stranger Tides   \n",
       "2      44.383     2015-05-01                      Avengers: Age of Ultron   \n",
       "3      80.773     2018-04-27                       Avengers: Infinity War   \n",
       "4      34.953     2017-11-17                               Justice League   \n",
       "\n",
       "   vote_average  vote_count                                         genres  \\\n",
       "0           7.4       18676  [Action, Adventure, Fantasy, Science Fiction]   \n",
       "1           6.4        8571                   [Adventure, Action, Fantasy]   \n",
       "2           7.3       13457           [Action, Adventure, Science Fiction]   \n",
       "3           8.3       13948                   [Adventure, Action, Fantasy]   \n",
       "4           6.2        7510  [Action, Adventure, Fantasy, Science Fiction]   \n",
       "\n",
       "   release_year  \n",
       "0          2009  \n",
       "1          2011  \n",
       "2          2015  \n",
       "3          2018  \n",
       "4          2017  "
      ]
     },
     "execution_count": 132,
     "metadata": {},
     "output_type": "execute_result"
    }
   ],
   "source": [
    "budget_movies = df_budget.merge(df_movies, how='inner', left_on=['release_date', 'movie'], right_on=['release_year', 'original_title'])\n",
    "budget_movies.head()"
   ]
  },
  {
   "cell_type": "code",
   "execution_count": 188,
   "metadata": {},
   "outputs": [
    {
     "data": {
      "image/png": "[encoded data removed]",
      "text/plain": [
       "<Figure size 576x432 with 1 Axes>"
      ]
     },
     "metadata": {
      "needs_background": "light"
     },
     "output_type": "display_data"
    }
   ],
   "source": [
    "# Create scatter plot to determine if average rating relates to production_budget\n",
    "fig, ax = plt.subplots(figsize=(8,6))\n",
    "\n",
    "ax.scatter(x='production_budget', y='vote_average', data=budget_movies);\n",
    "ax.set_title('Average Rating vs. Production Budget');\n",
    "ax.set_ylabel('Average Rating');\n",
    "ax.set_xlabel('Production Budget');"
   ]
  },
  {
   "cell_type": "markdown",
   "metadata": {},
   "source": [
    "### From this plot we can see that there are a large number of movies with very small production budgets. Clearly, budget does not influence rating when it is significantly low. However, once the production budget surpasses 100 million dollars, the average rating appears to have a slightly positive trend. We can confirm this with a correlation coefficient."
   ]
  },
  {
   "cell_type": "code",
   "execution_count": 189,
   "metadata": {},
   "outputs": [
    {
     "data": {
      "text/plain": [
       "0.15600219879126428"
      ]
     },
     "execution_count": 189,
     "metadata": {},
     "output_type": "execute_result"
    }
   ],
   "source": [
    "r = np.corrcoef(budget_movies['production_budget'], budget_movies['vote_average'])[0,1]\n",
    "r"
   ]
  },
  {
   "cell_type": "code",
   "execution_count": 177,
   "metadata": {},
   "outputs": [],
   "source": [
    "# Remove all movies with a budget less than 100 million dollars\n",
    "budget_movies_100 = budget_movies[budget_movies['production_budget'] >= 100000000]"
   ]
  },
  {
   "cell_type": "code",
   "execution_count": 178,
   "metadata": {},
   "outputs": [
    {
     "data": {
      "image/png": "[encoded data removed]",
      "text/plain": [
       "<Figure size 576x432 with 1 Axes>"
      ]
     },
     "metadata": {
      "needs_background": "light"
     },
     "output_type": "display_data"
    }
   ],
   "source": [
    "# Create scatter plot to determine if average rating relates to production_budget over 100,000,000\n",
    "fig, ax = plt.subplots(figsize=(8,6))\n",
    "\n",
    "ax.scatter(x='production_budget', y='vote_average', data=budget_movies_100);\n",
    "ax.set_title('Average Rating vs. Production Budget (Greater than $100M)');\n",
    "ax.set_ylabel('Average Rating');\n",
    "ax.set_xlabel('Production Budget');"
   ]
  },
  {
   "cell_type": "code",
   "execution_count": 179,
   "metadata": {},
   "outputs": [
    {
     "data": {
      "text/plain": [
       "0.21474277084819307"
      ]
     },
     "execution_count": 179,
     "metadata": {},
     "output_type": "execute_result"
    }
   ],
   "source": [
    "r_100 = np.corrcoef(budget_movies_100['production_budget'], budget_movies_100['vote_average'])[0,1]\n",
    "r_100"
   ]
  },
  {
   "cell_type": "code",
   "execution_count": 180,
   "metadata": {},
   "outputs": [],
   "source": [
    "budget_movies_sub100 = budget_movies[budget_movies['production_budget'] < 100000000]"
   ]
  },
  {
   "cell_type": "code",
   "execution_count": 181,
   "metadata": {},
   "outputs": [
    {
     "data": {
      "image/png": "[encoded data removed]",
      "text/plain": [
       "<Figure size 576x432 with 1 Axes>"
      ]
     },
     "metadata": {
      "needs_background": "light"
     },
     "output_type": "display_data"
    }
   ],
   "source": [
    "# Create scatter plot to determine if average rating relates to production_budget\n",
    "fig, ax = plt.subplots(figsize=(8,6))\n",
    "\n",
    "ax.scatter(x='production_budget', y='vote_average', data=budget_movies_sub100);\n",
    "ax.set_title('Average Rating vs. Production Budget (Less than $100M)');\n",
    "ax.set_ylabel('Average Rating');\n",
    "ax.set_xlabel('Production Budget');"
   ]
  },
  {
   "cell_type": "code",
   "execution_count": 167,
   "metadata": {},
   "outputs": [
    {
     "data": {
      "text/plain": [
       "0.08362046587153227"
      ]
     },
     "execution_count": 167,
     "metadata": {},
     "output_type": "execute_result"
    }
   ],
   "source": [
    "r_sub100 = np.corrcoef(budget_movies_sub100['production_budget'], budget_movies_sub100['vote_average'])[0,1]\n",
    "r_sub100"
   ]
  },
  {
   "cell_type": "code",
   "execution_count": 242,
   "metadata": {},
   "outputs": [
    {
     "data": {
      "image/png": "[encoded data removed]",
      "text/plain": [
       "<Figure size 432x288 with 1 Axes>"
      ]
     },
     "metadata": {
      "needs_background": "light"
     },
     "output_type": "display_data"
    }
   ],
   "source": [
    "fig, ax = plt.subplots()\n",
    "\n",
    "ax.scatter(x='production_budget', y='popularity', data=budget_movies);\n",
    "ax.set_title('Movie Popularity vs. Production Budget');\n",
    "ax.set_ylabel('Popularity');\n",
    "ax.set_xlabel('Production Budget ($)');"
   ]
  },
  {
   "cell_type": "code",
   "execution_count": 240,
   "metadata": {},
   "outputs": [
    {
     "data": {
      "text/plain": [
       "0.6142105133877861"
      ]
     },
     "execution_count": 240,
     "metadata": {},
     "output_type": "execute_result"
    }
   ],
   "source": [
    "np.corrcoef(budget_movies['production_budget'], budget_movies['popularity'])[0,1]"
   ]
  },
  {
   "cell_type": "markdown",
   "metadata": {},
   "source": [
    "# Rotten Tomatoes (rt.movie_info.tsv)"
   ]
  },
  {
   "cell_type": "code",
   "execution_count": 70,
   "metadata": {},
   "outputs": [],
   "source": [
    "df_info = pd.read_csv('./data/rt.movie_info.tsv.gz', delimiter='\\t')"
   ]
  },
  {
   "cell_type": "code",
   "execution_count": 71,
   "metadata": {},
   "outputs": [
    {
     "data": {
      "text/html": [
       "<div>\n",
       "<style scoped>\n",
       "    .dataframe tbody tr th:only-of-type {\n",
       "        vertical-align: middle;\n",
       "    }\n",
       "\n",
       "    .dataframe tbody tr th {\n",
       "        vertical-align: top;\n",
       "    }\n",
       "\n",
       "    .dataframe thead th {\n",
       "        text-align: right;\n",
       "    }\n",
       "</style>\n",
       "<table border=\"1\" class=\"dataframe\">\n",
       "  <thead>\n",
       "    <tr style=\"text-align: right;\">\n",
       "      <th></th>\n",
       "      <th>id</th>\n",
       "      <th>synopsis</th>\n",
       "      <th>rating</th>\n",
       "      <th>genre</th>\n",
       "      <th>director</th>\n",
       "      <th>writer</th>\n",
       "      <th>theater_date</th>\n",
       "      <th>dvd_date</th>\n",
       "      <th>currency</th>\n",
       "      <th>box_office</th>\n",
       "      <th>runtime</th>\n",
       "      <th>studio</th>\n",
       "    </tr>\n",
       "  </thead>\n",
       "  <tbody>\n",
       "    <tr>\n",
       "      <th>0</th>\n",
       "      <td>1</td>\n",
       "      <td>This gritty, fast-paced, and innovative police...</td>\n",
       "      <td>R</td>\n",
       "      <td>Action and Adventure|Classics|Drama</td>\n",
       "      <td>William Friedkin</td>\n",
       "      <td>Ernest Tidyman</td>\n",
       "      <td>Oct 9, 1971</td>\n",
       "      <td>Sep 25, 2001</td>\n",
       "      <td>NaN</td>\n",
       "      <td>NaN</td>\n",
       "      <td>104 minutes</td>\n",
       "      <td>NaN</td>\n",
       "    </tr>\n",
       "    <tr>\n",
       "      <th>1</th>\n",
       "      <td>3</td>\n",
       "      <td>New York City, not-too-distant-future: Eric Pa...</td>\n",
       "      <td>R</td>\n",
       "      <td>Drama|Science Fiction and Fantasy</td>\n",
       "      <td>David Cronenberg</td>\n",
       "      <td>David Cronenberg|Don DeLillo</td>\n",
       "      <td>Aug 17, 2012</td>\n",
       "      <td>Jan 1, 2013</td>\n",
       "      <td>$</td>\n",
       "      <td>600,000</td>\n",
       "      <td>108 minutes</td>\n",
       "      <td>Entertainment One</td>\n",
       "    </tr>\n",
       "    <tr>\n",
       "      <th>2</th>\n",
       "      <td>5</td>\n",
       "      <td>Illeana Douglas delivers a superb performance ...</td>\n",
       "      <td>R</td>\n",
       "      <td>Drama|Musical and Performing Arts</td>\n",
       "      <td>Allison Anders</td>\n",
       "      <td>Allison Anders</td>\n",
       "      <td>Sep 13, 1996</td>\n",
       "      <td>Apr 18, 2000</td>\n",
       "      <td>NaN</td>\n",
       "      <td>NaN</td>\n",
       "      <td>116 minutes</td>\n",
       "      <td>NaN</td>\n",
       "    </tr>\n",
       "    <tr>\n",
       "      <th>3</th>\n",
       "      <td>6</td>\n",
       "      <td>Michael Douglas runs afoul of a treacherous su...</td>\n",
       "      <td>R</td>\n",
       "      <td>Drama|Mystery and Suspense</td>\n",
       "      <td>Barry Levinson</td>\n",
       "      <td>Paul Attanasio|Michael Crichton</td>\n",
       "      <td>Dec 9, 1994</td>\n",
       "      <td>Aug 27, 1997</td>\n",
       "      <td>NaN</td>\n",
       "      <td>NaN</td>\n",
       "      <td>128 minutes</td>\n",
       "      <td>NaN</td>\n",
       "    </tr>\n",
       "    <tr>\n",
       "      <th>4</th>\n",
       "      <td>7</td>\n",
       "      <td>NaN</td>\n",
       "      <td>NR</td>\n",
       "      <td>Drama|Romance</td>\n",
       "      <td>Rodney Bennett</td>\n",
       "      <td>Giles Cooper</td>\n",
       "      <td>NaN</td>\n",
       "      <td>NaN</td>\n",
       "      <td>NaN</td>\n",
       "      <td>NaN</td>\n",
       "      <td>200 minutes</td>\n",
       "      <td>NaN</td>\n",
       "    </tr>\n",
       "  </tbody>\n",
       "</table>\n",
       "</div>"
      ],
      "text/plain": [
       "   id                                           synopsis rating  \\\n",
       "0   1  This gritty, fast-paced, and innovative police...      R   \n",
       "1   3  New York City, not-too-distant-future: Eric Pa...      R   \n",
       "2   5  Illeana Douglas delivers a superb performance ...      R   \n",
       "3   6  Michael Douglas runs afoul of a treacherous su...      R   \n",
       "4   7                                                NaN     NR   \n",
       "\n",
       "                                 genre          director  \\\n",
       "0  Action and Adventure|Classics|Drama  William Friedkin   \n",
       "1    Drama|Science Fiction and Fantasy  David Cronenberg   \n",
       "2    Drama|Musical and Performing Arts    Allison Anders   \n",
       "3           Drama|Mystery and Suspense    Barry Levinson   \n",
       "4                        Drama|Romance    Rodney Bennett   \n",
       "\n",
       "                            writer  theater_date      dvd_date currency  \\\n",
       "0                   Ernest Tidyman   Oct 9, 1971  Sep 25, 2001      NaN   \n",
       "1     David Cronenberg|Don DeLillo  Aug 17, 2012   Jan 1, 2013        $   \n",
       "2                   Allison Anders  Sep 13, 1996  Apr 18, 2000      NaN   \n",
       "3  Paul Attanasio|Michael Crichton   Dec 9, 1994  Aug 27, 1997      NaN   \n",
       "4                     Giles Cooper           NaN           NaN      NaN   \n",
       "\n",
       "  box_office      runtime             studio  \n",
       "0        NaN  104 minutes                NaN  \n",
       "1    600,000  108 minutes  Entertainment One  \n",
       "2        NaN  116 minutes                NaN  \n",
       "3        NaN  128 minutes                NaN  \n",
       "4        NaN  200 minutes                NaN  "
      ]
     },
     "execution_count": 71,
     "metadata": {},
     "output_type": "execute_result"
    }
   ],
   "source": [
    "df_info.head()"
   ]
  },
  {
   "cell_type": "code",
   "execution_count": 72,
   "metadata": {},
   "outputs": [
    {
     "data": {
      "text/html": [
       "<div>\n",
       "<style scoped>\n",
       "    .dataframe tbody tr th:only-of-type {\n",
       "        vertical-align: middle;\n",
       "    }\n",
       "\n",
       "    .dataframe tbody tr th {\n",
       "        vertical-align: top;\n",
       "    }\n",
       "\n",
       "    .dataframe thead th {\n",
       "        text-align: right;\n",
       "    }\n",
       "</style>\n",
       "<table border=\"1\" class=\"dataframe\">\n",
       "  <thead>\n",
       "    <tr style=\"text-align: right;\">\n",
       "      <th></th>\n",
       "      <th>id</th>\n",
       "      <th>synopsis</th>\n",
       "      <th>rating</th>\n",
       "      <th>genre</th>\n",
       "      <th>director</th>\n",
       "      <th>writer</th>\n",
       "      <th>theater_date</th>\n",
       "      <th>dvd_date</th>\n",
       "      <th>currency</th>\n",
       "      <th>box_office</th>\n",
       "      <th>runtime</th>\n",
       "      <th>studio</th>\n",
       "    </tr>\n",
       "  </thead>\n",
       "  <tbody>\n",
       "    <tr>\n",
       "      <th>973</th>\n",
       "      <td>1264</td>\n",
       "      <td>The Super centers on the mysterious disappeara...</td>\n",
       "      <td>R</td>\n",
       "      <td>Mystery and Suspense</td>\n",
       "      <td>Stephan Rick</td>\n",
       "      <td>NaN</td>\n",
       "      <td>2018-10-19</td>\n",
       "      <td>Dec 18, 2018</td>\n",
       "      <td>NaN</td>\n",
       "      <td>NaN</td>\n",
       "      <td>90 minutes</td>\n",
       "      <td>NaN</td>\n",
       "    </tr>\n",
       "    <tr>\n",
       "      <th>813</th>\n",
       "      <td>1050</td>\n",
       "      <td>In the tradition of Amblin classics where fant...</td>\n",
       "      <td>PG</td>\n",
       "      <td>Comedy|Kids and Family|Science Fiction and Fan...</td>\n",
       "      <td>Eli Roth</td>\n",
       "      <td>Eric Kripke</td>\n",
       "      <td>2018-09-21</td>\n",
       "      <td>Nov 27, 2018</td>\n",
       "      <td>NaN</td>\n",
       "      <td>NaN</td>\n",
       "      <td>104 minutes</td>\n",
       "      <td>Universal Pictures</td>\n",
       "    </tr>\n",
       "    <tr>\n",
       "      <th>1023</th>\n",
       "      <td>1325</td>\n",
       "      <td>From the outer reaches of space to the small-t...</td>\n",
       "      <td>R</td>\n",
       "      <td>Action and Adventure|Horror|Science Fiction an...</td>\n",
       "      <td>Shane Black</td>\n",
       "      <td>Shane Black|Fred Dekker</td>\n",
       "      <td>2018-09-14</td>\n",
       "      <td>Nov 27, 2018</td>\n",
       "      <td>NaN</td>\n",
       "      <td>NaN</td>\n",
       "      <td>NaN</td>\n",
       "      <td>NaN</td>\n",
       "    </tr>\n",
       "    <tr>\n",
       "      <th>102</th>\n",
       "      <td>131</td>\n",
       "      <td>No Sesame. All Street. THE HAPPYTIME MURDERS i...</td>\n",
       "      <td>R</td>\n",
       "      <td>Action and Adventure|Comedy</td>\n",
       "      <td>Brian Henson</td>\n",
       "      <td>Todd Berger|Dee Austin Robertson</td>\n",
       "      <td>2018-08-24</td>\n",
       "      <td>Dec 4, 2018</td>\n",
       "      <td>NaN</td>\n",
       "      <td>NaN</td>\n",
       "      <td>NaN</td>\n",
       "      <td>STXfilms</td>\n",
       "    </tr>\n",
       "    <tr>\n",
       "      <th>1430</th>\n",
       "      <td>1845</td>\n",
       "      <td>A group of wealthy boys in Los Angeles during ...</td>\n",
       "      <td>R</td>\n",
       "      <td>Drama|Mystery and Suspense</td>\n",
       "      <td>James Cox</td>\n",
       "      <td>Captain Mauzner|James Cox</td>\n",
       "      <td>2018-08-17</td>\n",
       "      <td>Sep 18, 2018</td>\n",
       "      <td>NaN</td>\n",
       "      <td>NaN</td>\n",
       "      <td>100 minutes</td>\n",
       "      <td>NaN</td>\n",
       "    </tr>\n",
       "    <tr>\n",
       "      <th>1064</th>\n",
       "      <td>1374</td>\n",
       "      <td>Cameron Post (Chlo</td>\n",
       "      <td>NR</td>\n",
       "      <td>Drama</td>\n",
       "      <td>Desiree Akhavan</td>\n",
       "      <td>Desiree Akhavan|Cecilia Frugiuele</td>\n",
       "      <td>2018-08-03</td>\n",
       "      <td>Dec 3, 2018</td>\n",
       "      <td>NaN</td>\n",
       "      <td>NaN</td>\n",
       "      <td>90 minutes</td>\n",
       "      <td>FilmRise</td>\n",
       "    </tr>\n",
       "    <tr>\n",
       "      <th>1201</th>\n",
       "      <td>1541</td>\n",
       "      <td>In the heatwarming live action adventure \"Disn...</td>\n",
       "      <td>PG</td>\n",
       "      <td>Action and Adventure|Comedy|Kids and Family</td>\n",
       "      <td>Marc Forster</td>\n",
       "      <td>Alex Ross Perry</td>\n",
       "      <td>2018-08-03</td>\n",
       "      <td>Nov 6, 2018</td>\n",
       "      <td>NaN</td>\n",
       "      <td>NaN</td>\n",
       "      <td>NaN</td>\n",
       "      <td>Walt Disney Pictures</td>\n",
       "    </tr>\n",
       "    <tr>\n",
       "      <th>319</th>\n",
       "      <td>419</td>\n",
       "      <td>When teens mysteriously develop powerful new a...</td>\n",
       "      <td>PG-13</td>\n",
       "      <td>Mystery and Suspense|Science Fiction and Fantasy</td>\n",
       "      <td>Jennifer Yuh Nelson</td>\n",
       "      <td>Chad Hodge</td>\n",
       "      <td>2018-08-03</td>\n",
       "      <td>Oct 30, 2018</td>\n",
       "      <td>NaN</td>\n",
       "      <td>NaN</td>\n",
       "      <td>105 minutes</td>\n",
       "      <td>20th Century Fox</td>\n",
       "    </tr>\n",
       "    <tr>\n",
       "      <th>446</th>\n",
       "      <td>585</td>\n",
       "      <td>Denzel Washington returns to one of his signat...</td>\n",
       "      <td>R</td>\n",
       "      <td>Action and Adventure|Mystery and Suspense</td>\n",
       "      <td>Antoine Fuqua</td>\n",
       "      <td>Richard Wenk</td>\n",
       "      <td>2018-07-20</td>\n",
       "      <td>Dec 11, 2018</td>\n",
       "      <td>NaN</td>\n",
       "      <td>NaN</td>\n",
       "      <td>129 minutes</td>\n",
       "      <td>Columbia Pictures</td>\n",
       "    </tr>\n",
       "    <tr>\n",
       "      <th>1003</th>\n",
       "      <td>1297</td>\n",
       "      <td>Based on true events, WOMAN WALKS AHEAD tells ...</td>\n",
       "      <td>R</td>\n",
       "      <td>Drama</td>\n",
       "      <td>Susanna White</td>\n",
       "      <td>Steven Knight</td>\n",
       "      <td>2018-06-29</td>\n",
       "      <td>Aug 28, 2018</td>\n",
       "      <td>NaN</td>\n",
       "      <td>NaN</td>\n",
       "      <td>102 minutes</td>\n",
       "      <td>NaN</td>\n",
       "    </tr>\n",
       "  </tbody>\n",
       "</table>\n",
       "</div>"
      ],
      "text/plain": [
       "        id                                           synopsis rating  \\\n",
       "973   1264  The Super centers on the mysterious disappeara...      R   \n",
       "813   1050  In the tradition of Amblin classics where fant...     PG   \n",
       "1023  1325  From the outer reaches of space to the small-t...      R   \n",
       "102    131  No Sesame. All Street. THE HAPPYTIME MURDERS i...      R   \n",
       "1430  1845  A group of wealthy boys in Los Angeles during ...      R   \n",
       "1064  1374                                 Cameron Post (Chlo     NR   \n",
       "1201  1541  In the heatwarming live action adventure \"Disn...     PG   \n",
       "319    419  When teens mysteriously develop powerful new a...  PG-13   \n",
       "446    585  Denzel Washington returns to one of his signat...      R   \n",
       "1003  1297  Based on true events, WOMAN WALKS AHEAD tells ...      R   \n",
       "\n",
       "                                                  genre             director  \\\n",
       "973                                Mystery and Suspense         Stephan Rick   \n",
       "813   Comedy|Kids and Family|Science Fiction and Fan...             Eli Roth   \n",
       "1023  Action and Adventure|Horror|Science Fiction an...          Shane Black   \n",
       "102                         Action and Adventure|Comedy         Brian Henson   \n",
       "1430                         Drama|Mystery and Suspense            James Cox   \n",
       "1064                                              Drama      Desiree Akhavan   \n",
       "1201        Action and Adventure|Comedy|Kids and Family         Marc Forster   \n",
       "319    Mystery and Suspense|Science Fiction and Fantasy  Jennifer Yuh Nelson   \n",
       "446           Action and Adventure|Mystery and Suspense        Antoine Fuqua   \n",
       "1003                                              Drama        Susanna White   \n",
       "\n",
       "                                 writer theater_date      dvd_date currency  \\\n",
       "973                                 NaN   2018-10-19  Dec 18, 2018      NaN   \n",
       "813                         Eric Kripke   2018-09-21  Nov 27, 2018      NaN   \n",
       "1023            Shane Black|Fred Dekker   2018-09-14  Nov 27, 2018      NaN   \n",
       "102    Todd Berger|Dee Austin Robertson   2018-08-24   Dec 4, 2018      NaN   \n",
       "1430          Captain Mauzner|James Cox   2018-08-17  Sep 18, 2018      NaN   \n",
       "1064  Desiree Akhavan|Cecilia Frugiuele   2018-08-03   Dec 3, 2018      NaN   \n",
       "1201                    Alex Ross Perry   2018-08-03   Nov 6, 2018      NaN   \n",
       "319                          Chad Hodge   2018-08-03  Oct 30, 2018      NaN   \n",
       "446                        Richard Wenk   2018-07-20  Dec 11, 2018      NaN   \n",
       "1003                      Steven Knight   2018-06-29  Aug 28, 2018      NaN   \n",
       "\n",
       "     box_office      runtime                studio  \n",
       "973         NaN   90 minutes                   NaN  \n",
       "813         NaN  104 minutes    Universal Pictures  \n",
       "1023        NaN          NaN                   NaN  \n",
       "102         NaN          NaN              STXfilms  \n",
       "1430        NaN  100 minutes                   NaN  \n",
       "1064        NaN   90 minutes              FilmRise  \n",
       "1201        NaN          NaN  Walt Disney Pictures  \n",
       "319         NaN  105 minutes      20th Century Fox  \n",
       "446         NaN  129 minutes     Columbia Pictures  \n",
       "1003        NaN  102 minutes                   NaN  "
      ]
     },
     "execution_count": 72,
     "metadata": {},
     "output_type": "execute_result"
    }
   ],
   "source": [
    "df_info['theater_date'] = pd.to_datetime(df_info['theater_date'])\n",
    "\n",
    "df_info.sort_values(by='theater_date', ascending = False).head(10)"
   ]
  },
  {
   "cell_type": "code",
   "execution_count": 73,
   "metadata": {},
   "outputs": [
    {
     "data": {
      "text/plain": [
       "(1560, 12)"
      ]
     },
     "execution_count": 73,
     "metadata": {},
     "output_type": "execute_result"
    }
   ],
   "source": [
    "df_info.shape"
   ]
  },
  {
   "cell_type": "code",
   "execution_count": 74,
   "metadata": {
    "scrolled": true
   },
   "outputs": [
    {
     "data": {
      "text/plain": [
       "Index(['id', 'synopsis', 'rating', 'genre', 'director', 'writer',\n",
       "       'theater_date', 'dvd_date', 'currency', 'box_office', 'runtime',\n",
       "       'studio'],\n",
       "      dtype='object')"
      ]
     },
     "execution_count": 74,
     "metadata": {},
     "output_type": "execute_result"
    }
   ],
   "source": [
    "df_info.columns"
   ]
  },
  {
   "cell_type": "code",
   "execution_count": 75,
   "metadata": {},
   "outputs": [
    {
     "name": "stdout",
     "output_type": "stream",
     "text": [
      "<class 'pandas.core.frame.DataFrame'>\n",
      "RangeIndex: 1560 entries, 0 to 1559\n",
      "Data columns (total 12 columns):\n",
      " #   Column        Non-Null Count  Dtype         \n",
      "---  ------        --------------  -----         \n",
      " 0   id            1560 non-null   int64         \n",
      " 1   synopsis      1498 non-null   object        \n",
      " 2   rating        1557 non-null   object        \n",
      " 3   genre         1552 non-null   object        \n",
      " 4   director      1361 non-null   object        \n",
      " 5   writer        1111 non-null   object        \n",
      " 6   theater_date  1201 non-null   datetime64[ns]\n",
      " 7   dvd_date      1201 non-null   object        \n",
      " 8   currency      340 non-null    object        \n",
      " 9   box_office    340 non-null    object        \n",
      " 10  runtime       1530 non-null   object        \n",
      " 11  studio        494 non-null    object        \n",
      "dtypes: datetime64[ns](1), int64(1), object(10)\n",
      "memory usage: 146.4+ KB\n"
     ]
    }
   ],
   "source": [
    "df_info.info()"
   ]
  },
  {
   "cell_type": "markdown",
   "metadata": {},
   "source": [
    "# The Numbers (tn.movie_budgets.csv)"
   ]
  },
  {
   "cell_type": "code",
   "execution_count": 192,
   "metadata": {},
   "outputs": [],
   "source": [
    "df_budget = pd.read_csv('./data/tn.movie_budgets.csv.gz', index_col=0)"
   ]
  },
  {
   "cell_type": "code",
   "execution_count": 193,
   "metadata": {},
   "outputs": [],
   "source": [
    "df_budget['release_date'] = pd.to_datetime(df_budget['release_date'])"
   ]
  },
  {
   "cell_type": "code",
   "execution_count": 194,
   "metadata": {},
   "outputs": [
    {
     "data": {
      "text/html": [
       "<div>\n",
       "<style scoped>\n",
       "    .dataframe tbody tr th:only-of-type {\n",
       "        vertical-align: middle;\n",
       "    }\n",
       "\n",
       "    .dataframe tbody tr th {\n",
       "        vertical-align: top;\n",
       "    }\n",
       "\n",
       "    .dataframe thead th {\n",
       "        text-align: right;\n",
       "    }\n",
       "</style>\n",
       "<table border=\"1\" class=\"dataframe\">\n",
       "  <thead>\n",
       "    <tr style=\"text-align: right;\">\n",
       "      <th></th>\n",
       "      <th>release_date</th>\n",
       "      <th>movie</th>\n",
       "      <th>production_budget</th>\n",
       "      <th>domestic_gross</th>\n",
       "      <th>worldwide_gross</th>\n",
       "    </tr>\n",
       "    <tr>\n",
       "      <th>id</th>\n",
       "      <th></th>\n",
       "      <th></th>\n",
       "      <th></th>\n",
       "      <th></th>\n",
       "      <th></th>\n",
       "    </tr>\n",
       "  </thead>\n",
       "  <tbody>\n",
       "    <tr>\n",
       "      <th>7</th>\n",
       "      <td>2015-11-06</td>\n",
       "      <td>The Peanuts Movie</td>\n",
       "      <td>$99,000,000</td>\n",
       "      <td>$130,178,411</td>\n",
       "      <td>$250,091,610</td>\n",
       "    </tr>\n",
       "    <tr>\n",
       "      <th>8</th>\n",
       "      <td>2019-02-08</td>\n",
       "      <td>The LEGO Movie 2: The Second Part</td>\n",
       "      <td>$99,000,000</td>\n",
       "      <td>$105,806,508</td>\n",
       "      <td>$190,325,698</td>\n",
       "    </tr>\n",
       "    <tr>\n",
       "      <th>9</th>\n",
       "      <td>2018-11-21</td>\n",
       "      <td>Robin Hood</td>\n",
       "      <td>$99,000,000</td>\n",
       "      <td>$30,824,628</td>\n",
       "      <td>$84,747,441</td>\n",
       "    </tr>\n",
       "    <tr>\n",
       "      <th>27</th>\n",
       "      <td>2007-06-01</td>\n",
       "      <td>And Then Came Love</td>\n",
       "      <td>$989,000</td>\n",
       "      <td>$8,158</td>\n",
       "      <td>$8,158</td>\n",
       "    </tr>\n",
       "    <tr>\n",
       "      <th>10</th>\n",
       "      <td>2001-05-04</td>\n",
       "      <td>The Mummy Returns</td>\n",
       "      <td>$98,000,000</td>\n",
       "      <td>$202,007,640</td>\n",
       "      <td>$435,040,395</td>\n",
       "    </tr>\n",
       "    <tr>\n",
       "      <th>11</th>\n",
       "      <td>2002-12-20</td>\n",
       "      <td>Gangs of New York</td>\n",
       "      <td>$97,000,000</td>\n",
       "      <td>$77,730,500</td>\n",
       "      <td>$183,124,621</td>\n",
       "    </tr>\n",
       "    <tr>\n",
       "      <th>12</th>\n",
       "      <td>2017-05-19</td>\n",
       "      <td>Alien: Covenant</td>\n",
       "      <td>$97,000,000</td>\n",
       "      <td>$74,262,031</td>\n",
       "      <td>$238,521,247</td>\n",
       "    </tr>\n",
       "    <tr>\n",
       "      <th>33</th>\n",
       "      <td>2015-03-03</td>\n",
       "      <td>Ask Me Anything</td>\n",
       "      <td>$950,000</td>\n",
       "      <td>$0</td>\n",
       "      <td>$0</td>\n",
       "    </tr>\n",
       "    <tr>\n",
       "      <th>32</th>\n",
       "      <td>2014-08-12</td>\n",
       "      <td>Jesse</td>\n",
       "      <td>$950,000</td>\n",
       "      <td>$0</td>\n",
       "      <td>$0</td>\n",
       "    </tr>\n",
       "    <tr>\n",
       "      <th>28</th>\n",
       "      <td>2006-04-14</td>\n",
       "      <td>Hard Candy</td>\n",
       "      <td>$950,000</td>\n",
       "      <td>$1,024,640</td>\n",
       "      <td>$8,267,066</td>\n",
       "    </tr>\n",
       "  </tbody>\n",
       "</table>\n",
       "</div>"
      ],
      "text/plain": [
       "   release_date                              movie production_budget  \\\n",
       "id                                                                     \n",
       "7    2015-11-06                  The Peanuts Movie       $99,000,000   \n",
       "8    2019-02-08  The LEGO Movie 2: The Second Part       $99,000,000   \n",
       "9    2018-11-21                         Robin Hood       $99,000,000   \n",
       "27   2007-06-01                 And Then Came Love          $989,000   \n",
       "10   2001-05-04                  The Mummy Returns       $98,000,000   \n",
       "11   2002-12-20                  Gangs of New York       $97,000,000   \n",
       "12   2017-05-19                    Alien: Covenant       $97,000,000   \n",
       "33   2015-03-03                    Ask Me Anything          $950,000   \n",
       "32   2014-08-12                              Jesse          $950,000   \n",
       "28   2006-04-14                         Hard Candy          $950,000   \n",
       "\n",
       "   domestic_gross worldwide_gross  \n",
       "id                                 \n",
       "7    $130,178,411    $250,091,610  \n",
       "8    $105,806,508    $190,325,698  \n",
       "9     $30,824,628     $84,747,441  \n",
       "27         $8,158          $8,158  \n",
       "10   $202,007,640    $435,040,395  \n",
       "11    $77,730,500    $183,124,621  \n",
       "12    $74,262,031    $238,521,247  \n",
       "33             $0              $0  \n",
       "32             $0              $0  \n",
       "28     $1,024,640      $8,267,066  "
      ]
     },
     "execution_count": 194,
     "metadata": {},
     "output_type": "execute_result"
    }
   ],
   "source": [
    "df_budget.sort_values(by='production_budget', ascending=False).head(10)"
   ]
  },
  {
   "cell_type": "code",
   "execution_count": 195,
   "metadata": {},
   "outputs": [
    {
     "data": {
      "text/html": [
       "<div>\n",
       "<style scoped>\n",
       "    .dataframe tbody tr th:only-of-type {\n",
       "        vertical-align: middle;\n",
       "    }\n",
       "\n",
       "    .dataframe tbody tr th {\n",
       "        vertical-align: top;\n",
       "    }\n",
       "\n",
       "    .dataframe thead th {\n",
       "        text-align: right;\n",
       "    }\n",
       "</style>\n",
       "<table border=\"1\" class=\"dataframe\">\n",
       "  <thead>\n",
       "    <tr style=\"text-align: right;\">\n",
       "      <th></th>\n",
       "      <th>release_date</th>\n",
       "      <th>movie</th>\n",
       "      <th>production_budget</th>\n",
       "      <th>domestic_gross</th>\n",
       "      <th>worldwide_gross</th>\n",
       "    </tr>\n",
       "    <tr>\n",
       "      <th>id</th>\n",
       "      <th></th>\n",
       "      <th></th>\n",
       "      <th></th>\n",
       "      <th></th>\n",
       "      <th></th>\n",
       "    </tr>\n",
       "  </thead>\n",
       "  <tbody>\n",
       "    <tr>\n",
       "      <th>1</th>\n",
       "      <td>2009-12-18</td>\n",
       "      <td>Avatar</td>\n",
       "      <td>$425,000,000</td>\n",
       "      <td>$760,507,625</td>\n",
       "      <td>$2,776,345,279</td>\n",
       "    </tr>\n",
       "    <tr>\n",
       "      <th>2</th>\n",
       "      <td>2011-05-20</td>\n",
       "      <td>Pirates of the Caribbean: On Stranger Tides</td>\n",
       "      <td>$410,600,000</td>\n",
       "      <td>$241,063,875</td>\n",
       "      <td>$1,045,663,875</td>\n",
       "    </tr>\n",
       "    <tr>\n",
       "      <th>3</th>\n",
       "      <td>2019-06-07</td>\n",
       "      <td>Dark Phoenix</td>\n",
       "      <td>$350,000,000</td>\n",
       "      <td>$42,762,350</td>\n",
       "      <td>$149,762,350</td>\n",
       "    </tr>\n",
       "    <tr>\n",
       "      <th>4</th>\n",
       "      <td>2015-05-01</td>\n",
       "      <td>Avengers: Age of Ultron</td>\n",
       "      <td>$330,600,000</td>\n",
       "      <td>$459,005,868</td>\n",
       "      <td>$1,403,013,963</td>\n",
       "    </tr>\n",
       "    <tr>\n",
       "      <th>5</th>\n",
       "      <td>2017-12-15</td>\n",
       "      <td>Star Wars Ep. VIII: The Last Jedi</td>\n",
       "      <td>$317,000,000</td>\n",
       "      <td>$620,181,382</td>\n",
       "      <td>$1,316,721,747</td>\n",
       "    </tr>\n",
       "  </tbody>\n",
       "</table>\n",
       "</div>"
      ],
      "text/plain": [
       "   release_date                                        movie  \\\n",
       "id                                                             \n",
       "1    2009-12-18                                       Avatar   \n",
       "2    2011-05-20  Pirates of the Caribbean: On Stranger Tides   \n",
       "3    2019-06-07                                 Dark Phoenix   \n",
       "4    2015-05-01                      Avengers: Age of Ultron   \n",
       "5    2017-12-15            Star Wars Ep. VIII: The Last Jedi   \n",
       "\n",
       "   production_budget domestic_gross worldwide_gross  \n",
       "id                                                   \n",
       "1       $425,000,000   $760,507,625  $2,776,345,279  \n",
       "2       $410,600,000   $241,063,875  $1,045,663,875  \n",
       "3       $350,000,000    $42,762,350    $149,762,350  \n",
       "4       $330,600,000   $459,005,868  $1,403,013,963  \n",
       "5       $317,000,000   $620,181,382  $1,316,721,747  "
      ]
     },
     "execution_count": 195,
     "metadata": {},
     "output_type": "execute_result"
    }
   ],
   "source": [
    "df_budget.head()"
   ]
  },
  {
   "cell_type": "code",
   "execution_count": 126,
   "metadata": {},
   "outputs": [
    {
     "data": {
      "text/plain": [
       "(5782, 5)"
      ]
     },
     "execution_count": 126,
     "metadata": {},
     "output_type": "execute_result"
    }
   ],
   "source": [
    "df_budget.shape"
   ]
  },
  {
   "cell_type": "code",
   "execution_count": 196,
   "metadata": {},
   "outputs": [
    {
     "data": {
      "text/plain": [
       "Index(['release_date', 'movie', 'production_budget', 'domestic_gross',\n",
       "       'worldwide_gross'],\n",
       "      dtype='object')"
      ]
     },
     "execution_count": 196,
     "metadata": {},
     "output_type": "execute_result"
    }
   ],
   "source": [
    "df_budget.columns"
   ]
  },
  {
   "cell_type": "code",
   "execution_count": 197,
   "metadata": {
    "scrolled": true
   },
   "outputs": [
    {
     "name": "stdout",
     "output_type": "stream",
     "text": [
      "<class 'pandas.core.frame.DataFrame'>\n",
      "Int64Index: 5782 entries, 1 to 82\n",
      "Data columns (total 5 columns):\n",
      " #   Column             Non-Null Count  Dtype         \n",
      "---  ------             --------------  -----         \n",
      " 0   release_date       5782 non-null   datetime64[ns]\n",
      " 1   movie              5782 non-null   object        \n",
      " 2   production_budget  5782 non-null   object        \n",
      " 3   domestic_gross     5782 non-null   object        \n",
      " 4   worldwide_gross    5782 non-null   object        \n",
      "dtypes: datetime64[ns](1), object(4)\n",
      "memory usage: 271.0+ KB\n"
     ]
    }
   ],
   "source": [
    "df_budget.info()"
   ]
  },
  {
   "cell_type": "code",
   "execution_count": 202,
   "metadata": {},
   "outputs": [
    {
     "data": {
      "text/html": [
       "<div>\n",
       "<style scoped>\n",
       "    .dataframe tbody tr th:only-of-type {\n",
       "        vertical-align: middle;\n",
       "    }\n",
       "\n",
       "    .dataframe tbody tr th {\n",
       "        vertical-align: top;\n",
       "    }\n",
       "\n",
       "    .dataframe thead th {\n",
       "        text-align: right;\n",
       "    }\n",
       "</style>\n",
       "<table border=\"1\" class=\"dataframe\">\n",
       "  <thead>\n",
       "    <tr style=\"text-align: right;\">\n",
       "      <th></th>\n",
       "      <th>release_date</th>\n",
       "      <th>movie</th>\n",
       "      <th>production_budget</th>\n",
       "      <th>domestic_gross</th>\n",
       "      <th>worldwide_gross</th>\n",
       "      <th>release_year</th>\n",
       "      <th>release_month</th>\n",
       "    </tr>\n",
       "    <tr>\n",
       "      <th>id</th>\n",
       "      <th></th>\n",
       "      <th></th>\n",
       "      <th></th>\n",
       "      <th></th>\n",
       "      <th></th>\n",
       "      <th></th>\n",
       "      <th></th>\n",
       "    </tr>\n",
       "  </thead>\n",
       "  <tbody>\n",
       "    <tr>\n",
       "      <th>1</th>\n",
       "      <td>2009-12-18</td>\n",
       "      <td>Avatar</td>\n",
       "      <td>$425,000,000</td>\n",
       "      <td>$760,507,625</td>\n",
       "      <td>$2,776,345,279</td>\n",
       "      <td>2009</td>\n",
       "      <td>12</td>\n",
       "    </tr>\n",
       "    <tr>\n",
       "      <th>2</th>\n",
       "      <td>2011-05-20</td>\n",
       "      <td>Pirates of the Caribbean: On Stranger Tides</td>\n",
       "      <td>$410,600,000</td>\n",
       "      <td>$241,063,875</td>\n",
       "      <td>$1,045,663,875</td>\n",
       "      <td>2011</td>\n",
       "      <td>5</td>\n",
       "    </tr>\n",
       "    <tr>\n",
       "      <th>3</th>\n",
       "      <td>2019-06-07</td>\n",
       "      <td>Dark Phoenix</td>\n",
       "      <td>$350,000,000</td>\n",
       "      <td>$42,762,350</td>\n",
       "      <td>$149,762,350</td>\n",
       "      <td>2019</td>\n",
       "      <td>6</td>\n",
       "    </tr>\n",
       "    <tr>\n",
       "      <th>4</th>\n",
       "      <td>2015-05-01</td>\n",
       "      <td>Avengers: Age of Ultron</td>\n",
       "      <td>$330,600,000</td>\n",
       "      <td>$459,005,868</td>\n",
       "      <td>$1,403,013,963</td>\n",
       "      <td>2015</td>\n",
       "      <td>5</td>\n",
       "    </tr>\n",
       "    <tr>\n",
       "      <th>5</th>\n",
       "      <td>2017-12-15</td>\n",
       "      <td>Star Wars Ep. VIII: The Last Jedi</td>\n",
       "      <td>$317,000,000</td>\n",
       "      <td>$620,181,382</td>\n",
       "      <td>$1,316,721,747</td>\n",
       "      <td>2017</td>\n",
       "      <td>12</td>\n",
       "    </tr>\n",
       "  </tbody>\n",
       "</table>\n",
       "</div>"
      ],
      "text/plain": [
       "   release_date                                        movie  \\\n",
       "id                                                             \n",
       "1    2009-12-18                                       Avatar   \n",
       "2    2011-05-20  Pirates of the Caribbean: On Stranger Tides   \n",
       "3    2019-06-07                                 Dark Phoenix   \n",
       "4    2015-05-01                      Avengers: Age of Ultron   \n",
       "5    2017-12-15            Star Wars Ep. VIII: The Last Jedi   \n",
       "\n",
       "   production_budget domestic_gross worldwide_gross  release_year  \\\n",
       "id                                                                  \n",
       "1       $425,000,000   $760,507,625  $2,776,345,279          2009   \n",
       "2       $410,600,000   $241,063,875  $1,045,663,875          2011   \n",
       "3       $350,000,000    $42,762,350    $149,762,350          2019   \n",
       "4       $330,600,000   $459,005,868  $1,403,013,963          2015   \n",
       "5       $317,000,000   $620,181,382  $1,316,721,747          2017   \n",
       "\n",
       "    release_month  \n",
       "id                 \n",
       "1              12  \n",
       "2               5  \n",
       "3               6  \n",
       "4               5  \n",
       "5              12  "
      ]
     },
     "execution_count": 202,
     "metadata": {},
     "output_type": "execute_result"
    }
   ],
   "source": [
    "# Clean data to convert release_date to a string and production_budget to an integer.\n",
    "df_budget['release_year'] = df_budget['release_date'].dt.strftime(\"%Y%m%d\").str[:4].astype(int)\n",
    "df_budget['release_month'] = df_budget['release_date'].dt.strftime(\"%Y%m%d\").str[4:6].astype(int)\n",
    "df_budget.head()"
   ]
  },
  {
   "cell_type": "code",
   "execution_count": 215,
   "metadata": {},
   "outputs": [],
   "source": [
    "df_budget.drop_duplicates(subset='movie', inplace=True)"
   ]
  },
  {
   "cell_type": "code",
   "execution_count": 216,
   "metadata": {
    "scrolled": true
   },
   "outputs": [],
   "source": [
    "df_budget['production_budget'] = df_budget['production_budget'].str.replace(',','')\n",
    "df_budget['production_budget'] = df_budget['production_budget'].str.replace('$', '')\n",
    "df_budget['production_budget'] = df_budget['production_budget'].astype(int)"
   ]
  },
  {
   "cell_type": "code",
   "execution_count": 217,
   "metadata": {},
   "outputs": [],
   "source": [
    "df_budget['worldwide_gross'] = df_budget['worldwide_gross'].str.replace(',','')\n",
    "df_budget['worldwide_gross'] = df_budget['worldwide_gross'].str.replace('$', '')\n",
    "df_budget['worldwide_gross'] = df_budget['worldwide_gross'].astype(int)"
   ]
  },
  {
   "cell_type": "code",
   "execution_count": 219,
   "metadata": {},
   "outputs": [
    {
     "data": {
      "text/html": [
       "<div>\n",
       "<style scoped>\n",
       "    .dataframe tbody tr th:only-of-type {\n",
       "        vertical-align: middle;\n",
       "    }\n",
       "\n",
       "    .dataframe tbody tr th {\n",
       "        vertical-align: top;\n",
       "    }\n",
       "\n",
       "    .dataframe thead th {\n",
       "        text-align: right;\n",
       "    }\n",
       "</style>\n",
       "<table border=\"1\" class=\"dataframe\">\n",
       "  <thead>\n",
       "    <tr style=\"text-align: right;\">\n",
       "      <th></th>\n",
       "      <th>release_date</th>\n",
       "      <th>movie</th>\n",
       "      <th>production_budget</th>\n",
       "      <th>domestic_gross</th>\n",
       "      <th>worldwide_gross</th>\n",
       "      <th>release_year</th>\n",
       "      <th>release_month</th>\n",
       "      <th>profit</th>\n",
       "    </tr>\n",
       "    <tr>\n",
       "      <th>id</th>\n",
       "      <th></th>\n",
       "      <th></th>\n",
       "      <th></th>\n",
       "      <th></th>\n",
       "      <th></th>\n",
       "      <th></th>\n",
       "      <th></th>\n",
       "      <th></th>\n",
       "    </tr>\n",
       "  </thead>\n",
       "  <tbody>\n",
       "    <tr>\n",
       "      <th>1</th>\n",
       "      <td>2009-12-18</td>\n",
       "      <td>Avatar</td>\n",
       "      <td>425000000</td>\n",
       "      <td>$760,507,625</td>\n",
       "      <td>2776345279</td>\n",
       "      <td>2009</td>\n",
       "      <td>12</td>\n",
       "      <td>2351345279</td>\n",
       "    </tr>\n",
       "    <tr>\n",
       "      <th>2</th>\n",
       "      <td>2011-05-20</td>\n",
       "      <td>Pirates of the Caribbean: On Stranger Tides</td>\n",
       "      <td>410600000</td>\n",
       "      <td>$241,063,875</td>\n",
       "      <td>1045663875</td>\n",
       "      <td>2011</td>\n",
       "      <td>5</td>\n",
       "      <td>635063875</td>\n",
       "    </tr>\n",
       "    <tr>\n",
       "      <th>3</th>\n",
       "      <td>2019-06-07</td>\n",
       "      <td>Dark Phoenix</td>\n",
       "      <td>350000000</td>\n",
       "      <td>$42,762,350</td>\n",
       "      <td>149762350</td>\n",
       "      <td>2019</td>\n",
       "      <td>6</td>\n",
       "      <td>-200237650</td>\n",
       "    </tr>\n",
       "    <tr>\n",
       "      <th>4</th>\n",
       "      <td>2015-05-01</td>\n",
       "      <td>Avengers: Age of Ultron</td>\n",
       "      <td>330600000</td>\n",
       "      <td>$459,005,868</td>\n",
       "      <td>1403013963</td>\n",
       "      <td>2015</td>\n",
       "      <td>5</td>\n",
       "      <td>1072413963</td>\n",
       "    </tr>\n",
       "    <tr>\n",
       "      <th>5</th>\n",
       "      <td>2017-12-15</td>\n",
       "      <td>Star Wars Ep. VIII: The Last Jedi</td>\n",
       "      <td>317000000</td>\n",
       "      <td>$620,181,382</td>\n",
       "      <td>1316721747</td>\n",
       "      <td>2017</td>\n",
       "      <td>12</td>\n",
       "      <td>999721747</td>\n",
       "    </tr>\n",
       "  </tbody>\n",
       "</table>\n",
       "</div>"
      ],
      "text/plain": [
       "   release_date                                        movie  \\\n",
       "id                                                             \n",
       "1    2009-12-18                                       Avatar   \n",
       "2    2011-05-20  Pirates of the Caribbean: On Stranger Tides   \n",
       "3    2019-06-07                                 Dark Phoenix   \n",
       "4    2015-05-01                      Avengers: Age of Ultron   \n",
       "5    2017-12-15            Star Wars Ep. VIII: The Last Jedi   \n",
       "\n",
       "    production_budget domestic_gross  worldwide_gross  release_year  \\\n",
       "id                                                                    \n",
       "1           425000000   $760,507,625       2776345279          2009   \n",
       "2           410600000   $241,063,875       1045663875          2011   \n",
       "3           350000000    $42,762,350        149762350          2019   \n",
       "4           330600000   $459,005,868       1403013963          2015   \n",
       "5           317000000   $620,181,382       1316721747          2017   \n",
       "\n",
       "    release_month      profit  \n",
       "id                             \n",
       "1              12  2351345279  \n",
       "2               5   635063875  \n",
       "3               6  -200237650  \n",
       "4               5  1072413963  \n",
       "5              12   999721747  "
      ]
     },
     "execution_count": 219,
     "metadata": {},
     "output_type": "execute_result"
    }
   ],
   "source": [
    "df_budget['profit'] = df_budget['worldwide_gross'] - df_budget['production_budget']\n",
    "df_budget.drop(columns='release_season', inplace=True)\n",
    "df_budget.head()"
   ]
  },
  {
   "cell_type": "code",
   "execution_count": 223,
   "metadata": {},
   "outputs": [],
   "source": [
    "# Calculate mean profit by release_month\n",
    "df_profit_mean = df_budget.groupby('release_month')['profit'].mean()"
   ]
  },
  {
   "cell_type": "code",
   "execution_count": 224,
   "metadata": {},
   "outputs": [],
   "source": [
    "df_profit_median = df_budget.groupby('release_month')['profit'].median()"
   ]
  },
  {
   "cell_type": "code",
   "execution_count": 226,
   "metadata": {},
   "outputs": [
    {
     "data": {
      "text/html": [
       "<div>\n",
       "<style scoped>\n",
       "    .dataframe tbody tr th:only-of-type {\n",
       "        vertical-align: middle;\n",
       "    }\n",
       "\n",
       "    .dataframe tbody tr th {\n",
       "        vertical-align: top;\n",
       "    }\n",
       "\n",
       "    .dataframe thead th {\n",
       "        text-align: right;\n",
       "    }\n",
       "</style>\n",
       "<table border=\"1\" class=\"dataframe\">\n",
       "  <thead>\n",
       "    <tr style=\"text-align: right;\">\n",
       "      <th></th>\n",
       "      <th>production_budget</th>\n",
       "      <th>worldwide_gross</th>\n",
       "      <th>release_year</th>\n",
       "      <th>release_month</th>\n",
       "      <th>profit</th>\n",
       "    </tr>\n",
       "  </thead>\n",
       "  <tbody>\n",
       "    <tr>\n",
       "      <th>count</th>\n",
       "      <td>5.698000e+03</td>\n",
       "      <td>5.698000e+03</td>\n",
       "      <td>5698.000000</td>\n",
       "      <td>5698.000000</td>\n",
       "      <td>5.698000e+03</td>\n",
       "    </tr>\n",
       "    <tr>\n",
       "      <th>mean</th>\n",
       "      <td>3.181423e+07</td>\n",
       "      <td>9.174801e+07</td>\n",
       "      <td>2004.211302</td>\n",
       "      <td>7.051773</td>\n",
       "      <td>5.993378e+07</td>\n",
       "    </tr>\n",
       "    <tr>\n",
       "      <th>std</th>\n",
       "      <td>4.197735e+07</td>\n",
       "      <td>1.754208e+08</td>\n",
       "      <td>12.292994</td>\n",
       "      <td>3.483801</td>\n",
       "      <td>1.466020e+08</td>\n",
       "    </tr>\n",
       "    <tr>\n",
       "      <th>min</th>\n",
       "      <td>1.100000e+03</td>\n",
       "      <td>0.000000e+00</td>\n",
       "      <td>1916.000000</td>\n",
       "      <td>1.000000</td>\n",
       "      <td>-2.002376e+08</td>\n",
       "    </tr>\n",
       "    <tr>\n",
       "      <th>25%</th>\n",
       "      <td>5.000000e+06</td>\n",
       "      <td>4.112890e+06</td>\n",
       "      <td>2000.000000</td>\n",
       "      <td>4.000000</td>\n",
       "      <td>-2.229934e+06</td>\n",
       "    </tr>\n",
       "    <tr>\n",
       "      <th>50%</th>\n",
       "      <td>1.700000e+07</td>\n",
       "      <td>2.792412e+07</td>\n",
       "      <td>2007.000000</td>\n",
       "      <td>7.000000</td>\n",
       "      <td>8.460828e+06</td>\n",
       "    </tr>\n",
       "    <tr>\n",
       "      <th>75%</th>\n",
       "      <td>4.000000e+07</td>\n",
       "      <td>9.808585e+07</td>\n",
       "      <td>2012.000000</td>\n",
       "      <td>10.000000</td>\n",
       "      <td>6.114558e+07</td>\n",
       "    </tr>\n",
       "    <tr>\n",
       "      <th>max</th>\n",
       "      <td>4.250000e+08</td>\n",
       "      <td>2.776345e+09</td>\n",
       "      <td>2020.000000</td>\n",
       "      <td>12.000000</td>\n",
       "      <td>2.351345e+09</td>\n",
       "    </tr>\n",
       "  </tbody>\n",
       "</table>\n",
       "</div>"
      ],
      "text/plain": [
       "       production_budget  worldwide_gross  release_year  release_month  \\\n",
       "count       5.698000e+03     5.698000e+03   5698.000000    5698.000000   \n",
       "mean        3.181423e+07     9.174801e+07   2004.211302       7.051773   \n",
       "std         4.197735e+07     1.754208e+08     12.292994       3.483801   \n",
       "min         1.100000e+03     0.000000e+00   1916.000000       1.000000   \n",
       "25%         5.000000e+06     4.112890e+06   2000.000000       4.000000   \n",
       "50%         1.700000e+07     2.792412e+07   2007.000000       7.000000   \n",
       "75%         4.000000e+07     9.808585e+07   2012.000000      10.000000   \n",
       "max         4.250000e+08     2.776345e+09   2020.000000      12.000000   \n",
       "\n",
       "             profit  \n",
       "count  5.698000e+03  \n",
       "mean   5.993378e+07  \n",
       "std    1.466020e+08  \n",
       "min   -2.002376e+08  \n",
       "25%   -2.229934e+06  \n",
       "50%    8.460828e+06  \n",
       "75%    6.114558e+07  \n",
       "max    2.351345e+09  "
      ]
     },
     "execution_count": 226,
     "metadata": {},
     "output_type": "execute_result"
    }
   ],
   "source": [
    "df_budget.describe()"
   ]
  },
  {
   "cell_type": "markdown",
   "metadata": {},
   "source": [
    "### Because the mean profit is significantly larger than the median profit, large outliars appear to skew the mean. For this reason, we will use the median profit for our analysis."
   ]
  },
  {
   "cell_type": "code",
   "execution_count": 247,
   "metadata": {},
   "outputs": [
    {
     "data": {
      "image/png": "[encoded data removed]",
      "text/plain": [
       "<Figure size 576x432 with 1 Axes>"
      ]
     },
     "metadata": {
      "needs_background": "light"
     },
     "output_type": "display_data"
    }
   ],
   "source": [
    "fig, ax = plt.subplots(figsize=(8,6))\n",
    "\n",
    "ax.bar(x=list(df_profit_median.index), height=list(df_profit_median.values));\n",
    "ax.set_ylabel('Profit ($)');\n",
    "ax.set_xlabel('Release Month');\n",
    "ax.set_title('Median Profit for Movies by Release Month');\n",
    "ax.set_xticks(list(range(13)));\n",
    "ax.ticklabel_format(axis='y',style='plain')"
   ]
  },
  {
   "cell_type": "code",
   "execution_count": null,
   "metadata": {},
   "outputs": [],
   "source": []
  },
  {
   "cell_type": "markdown",
   "metadata": {},
   "source": [
    "# Box Office Mojo (bom.movie_gross.csv)\n",
    "\n"
   ]
  },
  {
   "cell_type": "code",
   "execution_count": 28,
   "metadata": {},
   "outputs": [],
   "source": [
    "df_gross = pd.read_csv('./data/bom.movie_gross.csv.gz')"
   ]
  },
  {
   "cell_type": "code",
   "execution_count": 29,
   "metadata": {},
   "outputs": [
    {
     "data": {
      "text/html": [
       "<div>\n",
       "<style scoped>\n",
       "    .dataframe tbody tr th:only-of-type {\n",
       "        vertical-align: middle;\n",
       "    }\n",
       "\n",
       "    .dataframe tbody tr th {\n",
       "        vertical-align: top;\n",
       "    }\n",
       "\n",
       "    .dataframe thead th {\n",
       "        text-align: right;\n",
       "    }\n",
       "</style>\n",
       "<table border=\"1\" class=\"dataframe\">\n",
       "  <thead>\n",
       "    <tr style=\"text-align: right;\">\n",
       "      <th></th>\n",
       "      <th>title</th>\n",
       "      <th>studio</th>\n",
       "      <th>domestic_gross</th>\n",
       "      <th>foreign_gross</th>\n",
       "      <th>year</th>\n",
       "    </tr>\n",
       "  </thead>\n",
       "  <tbody>\n",
       "    <tr>\n",
       "      <th>0</th>\n",
       "      <td>Toy Story 3</td>\n",
       "      <td>BV</td>\n",
       "      <td>415000000.0</td>\n",
       "      <td>652000000</td>\n",
       "      <td>2010</td>\n",
       "    </tr>\n",
       "    <tr>\n",
       "      <th>1</th>\n",
       "      <td>Alice in Wonderland (2010)</td>\n",
       "      <td>BV</td>\n",
       "      <td>334200000.0</td>\n",
       "      <td>691300000</td>\n",
       "      <td>2010</td>\n",
       "    </tr>\n",
       "    <tr>\n",
       "      <th>2</th>\n",
       "      <td>Harry Potter and the Deathly Hallows Part 1</td>\n",
       "      <td>WB</td>\n",
       "      <td>296000000.0</td>\n",
       "      <td>664300000</td>\n",
       "      <td>2010</td>\n",
       "    </tr>\n",
       "    <tr>\n",
       "      <th>3</th>\n",
       "      <td>Inception</td>\n",
       "      <td>WB</td>\n",
       "      <td>292600000.0</td>\n",
       "      <td>535700000</td>\n",
       "      <td>2010</td>\n",
       "    </tr>\n",
       "    <tr>\n",
       "      <th>4</th>\n",
       "      <td>Shrek Forever After</td>\n",
       "      <td>P/DW</td>\n",
       "      <td>238700000.0</td>\n",
       "      <td>513900000</td>\n",
       "      <td>2010</td>\n",
       "    </tr>\n",
       "  </tbody>\n",
       "</table>\n",
       "</div>"
      ],
      "text/plain": [
       "                                         title studio  domestic_gross  \\\n",
       "0                                  Toy Story 3     BV     415000000.0   \n",
       "1                   Alice in Wonderland (2010)     BV     334200000.0   \n",
       "2  Harry Potter and the Deathly Hallows Part 1     WB     296000000.0   \n",
       "3                                    Inception     WB     292600000.0   \n",
       "4                          Shrek Forever After   P/DW     238700000.0   \n",
       "\n",
       "  foreign_gross  year  \n",
       "0     652000000  2010  \n",
       "1     691300000  2010  \n",
       "2     664300000  2010  \n",
       "3     535700000  2010  \n",
       "4     513900000  2010  "
      ]
     },
     "execution_count": 29,
     "metadata": {},
     "output_type": "execute_result"
    }
   ],
   "source": [
    "df_gross.head()"
   ]
  },
  {
   "cell_type": "code",
   "execution_count": 30,
   "metadata": {},
   "outputs": [
    {
     "data": {
      "text/html": [
       "<div>\n",
       "<style scoped>\n",
       "    .dataframe tbody tr th:only-of-type {\n",
       "        vertical-align: middle;\n",
       "    }\n",
       "\n",
       "    .dataframe tbody tr th {\n",
       "        vertical-align: top;\n",
       "    }\n",
       "\n",
       "    .dataframe thead th {\n",
       "        text-align: right;\n",
       "    }\n",
       "</style>\n",
       "<table border=\"1\" class=\"dataframe\">\n",
       "  <thead>\n",
       "    <tr style=\"text-align: right;\">\n",
       "      <th></th>\n",
       "      <th>title</th>\n",
       "      <th>studio</th>\n",
       "      <th>domestic_gross</th>\n",
       "      <th>foreign_gross</th>\n",
       "      <th>year</th>\n",
       "    </tr>\n",
       "  </thead>\n",
       "  <tbody>\n",
       "    <tr>\n",
       "      <th>3386</th>\n",
       "      <td>An Actor Prepares</td>\n",
       "      <td>Grav.</td>\n",
       "      <td>1700.0</td>\n",
       "      <td>NaN</td>\n",
       "      <td>2018</td>\n",
       "    </tr>\n",
       "    <tr>\n",
       "      <th>3183</th>\n",
       "      <td>On the Basis of Sex</td>\n",
       "      <td>Focus</td>\n",
       "      <td>24600000.0</td>\n",
       "      <td>13600000</td>\n",
       "      <td>2018</td>\n",
       "    </tr>\n",
       "    <tr>\n",
       "      <th>3176</th>\n",
       "      <td>Tyler Perry's Acrimony</td>\n",
       "      <td>LGF</td>\n",
       "      <td>43500000.0</td>\n",
       "      <td>2900000</td>\n",
       "      <td>2018</td>\n",
       "    </tr>\n",
       "    <tr>\n",
       "      <th>3177</th>\n",
       "      <td>Mary Queen of Scots</td>\n",
       "      <td>Focus</td>\n",
       "      <td>16500000.0</td>\n",
       "      <td>29900000</td>\n",
       "      <td>2018</td>\n",
       "    </tr>\n",
       "    <tr>\n",
       "      <th>3178</th>\n",
       "      <td>The Possession of Hannah Grace</td>\n",
       "      <td>SGem</td>\n",
       "      <td>14800000.0</td>\n",
       "      <td>28200000</td>\n",
       "      <td>2018</td>\n",
       "    </tr>\n",
       "    <tr>\n",
       "      <th>...</th>\n",
       "      <td>...</td>\n",
       "      <td>...</td>\n",
       "      <td>...</td>\n",
       "      <td>...</td>\n",
       "      <td>...</td>\n",
       "    </tr>\n",
       "    <tr>\n",
       "      <th>220</th>\n",
       "      <td>After.Life</td>\n",
       "      <td>Anch.</td>\n",
       "      <td>109000.0</td>\n",
       "      <td>1900000</td>\n",
       "      <td>2010</td>\n",
       "    </tr>\n",
       "    <tr>\n",
       "      <th>221</th>\n",
       "      <td>Cairo Time</td>\n",
       "      <td>IFC</td>\n",
       "      <td>1600000.0</td>\n",
       "      <td>391000</td>\n",
       "      <td>2010</td>\n",
       "    </tr>\n",
       "    <tr>\n",
       "      <th>222</th>\n",
       "      <td>Flipped</td>\n",
       "      <td>WB</td>\n",
       "      <td>1800000.0</td>\n",
       "      <td>NaN</td>\n",
       "      <td>2010</td>\n",
       "    </tr>\n",
       "    <tr>\n",
       "      <th>223</th>\n",
       "      <td>Guzaarish</td>\n",
       "      <td>UTV</td>\n",
       "      <td>1000000.0</td>\n",
       "      <td>695000</td>\n",
       "      <td>2010</td>\n",
       "    </tr>\n",
       "    <tr>\n",
       "      <th>0</th>\n",
       "      <td>Toy Story 3</td>\n",
       "      <td>BV</td>\n",
       "      <td>415000000.0</td>\n",
       "      <td>652000000</td>\n",
       "      <td>2010</td>\n",
       "    </tr>\n",
       "  </tbody>\n",
       "</table>\n",
       "<p>3387 rows × 5 columns</p>\n",
       "</div>"
      ],
      "text/plain": [
       "                               title studio  domestic_gross foreign_gross  \\\n",
       "3386               An Actor Prepares  Grav.          1700.0           NaN   \n",
       "3183             On the Basis of Sex  Focus      24600000.0      13600000   \n",
       "3176          Tyler Perry's Acrimony    LGF      43500000.0       2900000   \n",
       "3177             Mary Queen of Scots  Focus      16500000.0      29900000   \n",
       "3178  The Possession of Hannah Grace   SGem      14800000.0      28200000   \n",
       "...                              ...    ...             ...           ...   \n",
       "220                       After.Life  Anch.        109000.0       1900000   \n",
       "221                       Cairo Time    IFC       1600000.0        391000   \n",
       "222                          Flipped     WB       1800000.0           NaN   \n",
       "223                        Guzaarish    UTV       1000000.0        695000   \n",
       "0                        Toy Story 3     BV     415000000.0     652000000   \n",
       "\n",
       "      year  \n",
       "3386  2018  \n",
       "3183  2018  \n",
       "3176  2018  \n",
       "3177  2018  \n",
       "3178  2018  \n",
       "...    ...  \n",
       "220   2010  \n",
       "221   2010  \n",
       "222   2010  \n",
       "223   2010  \n",
       "0     2010  \n",
       "\n",
       "[3387 rows x 5 columns]"
      ]
     },
     "execution_count": 30,
     "metadata": {},
     "output_type": "execute_result"
    }
   ],
   "source": [
    "df_gross.sort_values(by='year', ascending=False)"
   ]
  },
  {
   "cell_type": "code",
   "execution_count": 33,
   "metadata": {},
   "outputs": [
    {
     "data": {
      "text/plain": [
       "(3387, 5)"
      ]
     },
     "execution_count": 33,
     "metadata": {},
     "output_type": "execute_result"
    }
   ],
   "source": [
    "df_gross.shape"
   ]
  },
  {
   "cell_type": "code",
   "execution_count": 31,
   "metadata": {},
   "outputs": [
    {
     "data": {
      "text/plain": [
       "Index(['title', 'studio', 'domestic_gross', 'foreign_gross', 'year'], dtype='object')"
      ]
     },
     "execution_count": 31,
     "metadata": {},
     "output_type": "execute_result"
    }
   ],
   "source": [
    "df_gross.columns"
   ]
  },
  {
   "cell_type": "code",
   "execution_count": 32,
   "metadata": {},
   "outputs": [
    {
     "name": "stdout",
     "output_type": "stream",
     "text": [
      "<class 'pandas.core.frame.DataFrame'>\n",
      "RangeIndex: 3387 entries, 0 to 3386\n",
      "Data columns (total 5 columns):\n",
      " #   Column          Non-Null Count  Dtype  \n",
      "---  ------          --------------  -----  \n",
      " 0   title           3387 non-null   object \n",
      " 1   studio          3382 non-null   object \n",
      " 2   domestic_gross  3359 non-null   float64\n",
      " 3   foreign_gross   2037 non-null   object \n",
      " 4   year            3387 non-null   int64  \n",
      "dtypes: float64(1), int64(1), object(3)\n",
      "memory usage: 132.4+ KB\n"
     ]
    }
   ],
   "source": [
    "df_gross.info()"
   ]
  },
  {
   "cell_type": "markdown",
   "metadata": {},
   "source": [
    "# IM.DB"
   ]
  },
  {
   "cell_type": "code",
   "execution_count": 51,
   "metadata": {},
   "outputs": [],
   "source": [
    "conn = sqlite3.Connection(\"./data/im.db\")"
   ]
  },
  {
   "cell_type": "code",
   "execution_count": 52,
   "metadata": {},
   "outputs": [],
   "source": [
    "q0 = \"\"\"\n",
    "SELECT *\n",
    "FROM movie_ratings\n",
    ";\n",
    "\"\"\"\n",
    "\n",
    "df_ratings = pd.read_sql(q0, conn)"
   ]
  },
  {
   "cell_type": "code",
   "execution_count": 53,
   "metadata": {},
   "outputs": [
    {
     "data": {
      "text/plain": [
       "(73856, 3)"
      ]
     },
     "execution_count": 53,
     "metadata": {},
     "output_type": "execute_result"
    }
   ],
   "source": [
    "df_ratings.shape"
   ]
  },
  {
   "cell_type": "code",
   "execution_count": 54,
   "metadata": {},
   "outputs": [
    {
     "data": {
      "text/html": [
       "<div>\n",
       "<style scoped>\n",
       "    .dataframe tbody tr th:only-of-type {\n",
       "        vertical-align: middle;\n",
       "    }\n",
       "\n",
       "    .dataframe tbody tr th {\n",
       "        vertical-align: top;\n",
       "    }\n",
       "\n",
       "    .dataframe thead th {\n",
       "        text-align: right;\n",
       "    }\n",
       "</style>\n",
       "<table border=\"1\" class=\"dataframe\">\n",
       "  <thead>\n",
       "    <tr style=\"text-align: right;\">\n",
       "      <th></th>\n",
       "      <th>movie_id</th>\n",
       "      <th>averagerating</th>\n",
       "      <th>numvotes</th>\n",
       "    </tr>\n",
       "  </thead>\n",
       "  <tbody>\n",
       "    <tr>\n",
       "      <th>0</th>\n",
       "      <td>tt10356526</td>\n",
       "      <td>8.3</td>\n",
       "      <td>31</td>\n",
       "    </tr>\n",
       "    <tr>\n",
       "      <th>1</th>\n",
       "      <td>tt10384606</td>\n",
       "      <td>8.9</td>\n",
       "      <td>559</td>\n",
       "    </tr>\n",
       "    <tr>\n",
       "      <th>2</th>\n",
       "      <td>tt1042974</td>\n",
       "      <td>6.4</td>\n",
       "      <td>20</td>\n",
       "    </tr>\n",
       "    <tr>\n",
       "      <th>3</th>\n",
       "      <td>tt1043726</td>\n",
       "      <td>4.2</td>\n",
       "      <td>50352</td>\n",
       "    </tr>\n",
       "    <tr>\n",
       "      <th>4</th>\n",
       "      <td>tt1060240</td>\n",
       "      <td>6.5</td>\n",
       "      <td>21</td>\n",
       "    </tr>\n",
       "  </tbody>\n",
       "</table>\n",
       "</div>"
      ],
      "text/plain": [
       "     movie_id  averagerating  numvotes\n",
       "0  tt10356526            8.3        31\n",
       "1  tt10384606            8.9       559\n",
       "2   tt1042974            6.4        20\n",
       "3   tt1043726            4.2     50352\n",
       "4   tt1060240            6.5        21"
      ]
     },
     "execution_count": 54,
     "metadata": {},
     "output_type": "execute_result"
    }
   ],
   "source": [
    "df_ratings.head()"
   ]
  },
  {
   "cell_type": "code",
   "execution_count": 55,
   "metadata": {},
   "outputs": [],
   "source": [
    "q1 = \"\"\"\n",
    "SELECT *\n",
    "FROM movie_akas\n",
    ";\n",
    "\"\"\"\n",
    "\n",
    "df_movie_akas = pd.read_sql(q1, conn)"
   ]
  },
  {
   "cell_type": "code",
   "execution_count": 56,
   "metadata": {},
   "outputs": [
    {
     "data": {
      "text/plain": [
       "(331703, 8)"
      ]
     },
     "execution_count": 56,
     "metadata": {},
     "output_type": "execute_result"
    }
   ],
   "source": [
    "df_movie_akas.shape"
   ]
  },
  {
   "cell_type": "code",
   "execution_count": 57,
   "metadata": {
    "scrolled": true
   },
   "outputs": [
    {
     "data": {
      "text/html": [
       "<div>\n",
       "<style scoped>\n",
       "    .dataframe tbody tr th:only-of-type {\n",
       "        vertical-align: middle;\n",
       "    }\n",
       "\n",
       "    .dataframe tbody tr th {\n",
       "        vertical-align: top;\n",
       "    }\n",
       "\n",
       "    .dataframe thead th {\n",
       "        text-align: right;\n",
       "    }\n",
       "</style>\n",
       "<table border=\"1\" class=\"dataframe\">\n",
       "  <thead>\n",
       "    <tr style=\"text-align: right;\">\n",
       "      <th></th>\n",
       "      <th>movie_id</th>\n",
       "      <th>ordering</th>\n",
       "      <th>title</th>\n",
       "      <th>region</th>\n",
       "      <th>language</th>\n",
       "      <th>types</th>\n",
       "      <th>attributes</th>\n",
       "      <th>is_original_title</th>\n",
       "    </tr>\n",
       "  </thead>\n",
       "  <tbody>\n",
       "    <tr>\n",
       "      <th>0</th>\n",
       "      <td>tt0369610</td>\n",
       "      <td>10</td>\n",
       "      <td>Джурасик свят</td>\n",
       "      <td>BG</td>\n",
       "      <td>bg</td>\n",
       "      <td>None</td>\n",
       "      <td>None</td>\n",
       "      <td>0.0</td>\n",
       "    </tr>\n",
       "    <tr>\n",
       "      <th>1</th>\n",
       "      <td>tt0369610</td>\n",
       "      <td>11</td>\n",
       "      <td>Jurashikku warudo</td>\n",
       "      <td>JP</td>\n",
       "      <td>None</td>\n",
       "      <td>imdbDisplay</td>\n",
       "      <td>None</td>\n",
       "      <td>0.0</td>\n",
       "    </tr>\n",
       "    <tr>\n",
       "      <th>2</th>\n",
       "      <td>tt0369610</td>\n",
       "      <td>12</td>\n",
       "      <td>Jurassic World: O Mundo dos Dinossauros</td>\n",
       "      <td>BR</td>\n",
       "      <td>None</td>\n",
       "      <td>imdbDisplay</td>\n",
       "      <td>None</td>\n",
       "      <td>0.0</td>\n",
       "    </tr>\n",
       "    <tr>\n",
       "      <th>3</th>\n",
       "      <td>tt0369610</td>\n",
       "      <td>13</td>\n",
       "      <td>O Mundo dos Dinossauros</td>\n",
       "      <td>BR</td>\n",
       "      <td>None</td>\n",
       "      <td>None</td>\n",
       "      <td>short title</td>\n",
       "      <td>0.0</td>\n",
       "    </tr>\n",
       "    <tr>\n",
       "      <th>4</th>\n",
       "      <td>tt0369610</td>\n",
       "      <td>14</td>\n",
       "      <td>Jurassic World</td>\n",
       "      <td>FR</td>\n",
       "      <td>None</td>\n",
       "      <td>imdbDisplay</td>\n",
       "      <td>None</td>\n",
       "      <td>0.0</td>\n",
       "    </tr>\n",
       "  </tbody>\n",
       "</table>\n",
       "</div>"
      ],
      "text/plain": [
       "    movie_id  ordering                                    title region  \\\n",
       "0  tt0369610        10                            Джурасик свят     BG   \n",
       "1  tt0369610        11                        Jurashikku warudo     JP   \n",
       "2  tt0369610        12  Jurassic World: O Mundo dos Dinossauros     BR   \n",
       "3  tt0369610        13                  O Mundo dos Dinossauros     BR   \n",
       "4  tt0369610        14                           Jurassic World     FR   \n",
       "\n",
       "  language        types   attributes  is_original_title  \n",
       "0       bg         None         None                0.0  \n",
       "1     None  imdbDisplay         None                0.0  \n",
       "2     None  imdbDisplay         None                0.0  \n",
       "3     None         None  short title                0.0  \n",
       "4     None  imdbDisplay         None                0.0  "
      ]
     },
     "execution_count": 57,
     "metadata": {},
     "output_type": "execute_result"
    }
   ],
   "source": [
    "df_movie_akas.head()"
   ]
  },
  {
   "cell_type": "code",
   "execution_count": 40,
   "metadata": {},
   "outputs": [],
   "source": [
    "q2 = \"\"\"\n",
    "SELECT *\n",
    "FROM movie_basics\n",
    ";\n",
    "\"\"\"\n",
    "\n",
    "df_movie_basics = pd.read_sql(q2, conn)\n"
   ]
  },
  {
   "cell_type": "code",
   "execution_count": 41,
   "metadata": {},
   "outputs": [
    {
     "data": {
      "text/plain": [
       "(146144, 6)"
      ]
     },
     "execution_count": 41,
     "metadata": {},
     "output_type": "execute_result"
    }
   ],
   "source": [
    "df_movie_basics.shape"
   ]
  },
  {
   "cell_type": "code",
   "execution_count": 42,
   "metadata": {},
   "outputs": [
    {
     "data": {
      "text/html": [
       "<div>\n",
       "<style scoped>\n",
       "    .dataframe tbody tr th:only-of-type {\n",
       "        vertical-align: middle;\n",
       "    }\n",
       "\n",
       "    .dataframe tbody tr th {\n",
       "        vertical-align: top;\n",
       "    }\n",
       "\n",
       "    .dataframe thead th {\n",
       "        text-align: right;\n",
       "    }\n",
       "</style>\n",
       "<table border=\"1\" class=\"dataframe\">\n",
       "  <thead>\n",
       "    <tr style=\"text-align: right;\">\n",
       "      <th></th>\n",
       "      <th>movie_id</th>\n",
       "      <th>primary_title</th>\n",
       "      <th>original_title</th>\n",
       "      <th>start_year</th>\n",
       "      <th>runtime_minutes</th>\n",
       "      <th>genres</th>\n",
       "    </tr>\n",
       "  </thead>\n",
       "  <tbody>\n",
       "    <tr>\n",
       "      <th>0</th>\n",
       "      <td>tt0063540</td>\n",
       "      <td>Sunghursh</td>\n",
       "      <td>Sunghursh</td>\n",
       "      <td>2013</td>\n",
       "      <td>175.0</td>\n",
       "      <td>Action,Crime,Drama</td>\n",
       "    </tr>\n",
       "    <tr>\n",
       "      <th>1</th>\n",
       "      <td>tt0066787</td>\n",
       "      <td>One Day Before the Rainy Season</td>\n",
       "      <td>Ashad Ka Ek Din</td>\n",
       "      <td>2019</td>\n",
       "      <td>114.0</td>\n",
       "      <td>Biography,Drama</td>\n",
       "    </tr>\n",
       "    <tr>\n",
       "      <th>2</th>\n",
       "      <td>tt0069049</td>\n",
       "      <td>The Other Side of the Wind</td>\n",
       "      <td>The Other Side of the Wind</td>\n",
       "      <td>2018</td>\n",
       "      <td>122.0</td>\n",
       "      <td>Drama</td>\n",
       "    </tr>\n",
       "    <tr>\n",
       "      <th>3</th>\n",
       "      <td>tt0069204</td>\n",
       "      <td>Sabse Bada Sukh</td>\n",
       "      <td>Sabse Bada Sukh</td>\n",
       "      <td>2018</td>\n",
       "      <td>NaN</td>\n",
       "      <td>Comedy,Drama</td>\n",
       "    </tr>\n",
       "    <tr>\n",
       "      <th>4</th>\n",
       "      <td>tt0100275</td>\n",
       "      <td>The Wandering Soap Opera</td>\n",
       "      <td>La Telenovela Errante</td>\n",
       "      <td>2017</td>\n",
       "      <td>80.0</td>\n",
       "      <td>Comedy,Drama,Fantasy</td>\n",
       "    </tr>\n",
       "  </tbody>\n",
       "</table>\n",
       "</div>"
      ],
      "text/plain": [
       "    movie_id                    primary_title              original_title  \\\n",
       "0  tt0063540                        Sunghursh                   Sunghursh   \n",
       "1  tt0066787  One Day Before the Rainy Season             Ashad Ka Ek Din   \n",
       "2  tt0069049       The Other Side of the Wind  The Other Side of the Wind   \n",
       "3  tt0069204                  Sabse Bada Sukh             Sabse Bada Sukh   \n",
       "4  tt0100275         The Wandering Soap Opera       La Telenovela Errante   \n",
       "\n",
       "   start_year  runtime_minutes                genres  \n",
       "0        2013            175.0    Action,Crime,Drama  \n",
       "1        2019            114.0       Biography,Drama  \n",
       "2        2018            122.0                 Drama  \n",
       "3        2018              NaN          Comedy,Drama  \n",
       "4        2017             80.0  Comedy,Drama,Fantasy  "
      ]
     },
     "execution_count": 42,
     "metadata": {},
     "output_type": "execute_result"
    }
   ],
   "source": [
    "df_movie_basics.head()"
   ]
  },
  {
   "cell_type": "code",
   "execution_count": 43,
   "metadata": {
    "scrolled": true
   },
   "outputs": [
    {
     "data": {
      "text/html": [
       "<div>\n",
       "<style scoped>\n",
       "    .dataframe tbody tr th:only-of-type {\n",
       "        vertical-align: middle;\n",
       "    }\n",
       "\n",
       "    .dataframe tbody tr th {\n",
       "        vertical-align: top;\n",
       "    }\n",
       "\n",
       "    .dataframe thead th {\n",
       "        text-align: right;\n",
       "    }\n",
       "</style>\n",
       "<table border=\"1\" class=\"dataframe\">\n",
       "  <thead>\n",
       "    <tr style=\"text-align: right;\">\n",
       "      <th></th>\n",
       "      <th>movie_id</th>\n",
       "      <th>primary_title</th>\n",
       "      <th>original_title</th>\n",
       "      <th>start_year</th>\n",
       "      <th>runtime_minutes</th>\n",
       "      <th>genres</th>\n",
       "    </tr>\n",
       "  </thead>\n",
       "  <tbody>\n",
       "    <tr>\n",
       "      <th>0</th>\n",
       "      <td>tt10042446</td>\n",
       "      <td>Untitled Disney Marvel Film</td>\n",
       "      <td>Untitled Disney Marvel Film</td>\n",
       "      <td>2022</td>\n",
       "      <td>NaN</td>\n",
       "      <td>Action</td>\n",
       "    </tr>\n",
       "    <tr>\n",
       "      <th>1</th>\n",
       "      <td>tt10064536</td>\n",
       "      <td>Untitled Disney Marvel Film</td>\n",
       "      <td>Untitled Disney Marvel Film</td>\n",
       "      <td>2022</td>\n",
       "      <td>NaN</td>\n",
       "      <td>Action</td>\n",
       "    </tr>\n",
       "    <tr>\n",
       "      <th>2</th>\n",
       "      <td>tt10108854</td>\n",
       "      <td>The Hunchback of the Lighthouse</td>\n",
       "      <td>The Hunchback of the Lighthouse</td>\n",
       "      <td>2022</td>\n",
       "      <td>120.0</td>\n",
       "      <td>Drama</td>\n",
       "    </tr>\n",
       "    <tr>\n",
       "      <th>3</th>\n",
       "      <td>tt10251718</td>\n",
       "      <td>Corazones en Llamas 5</td>\n",
       "      <td>Corazones en Llamas 5</td>\n",
       "      <td>2022</td>\n",
       "      <td>NaN</td>\n",
       "      <td>Action</td>\n",
       "    </tr>\n",
       "    <tr>\n",
       "      <th>4</th>\n",
       "      <td>tt10288908</td>\n",
       "      <td>The Weary Traveler</td>\n",
       "      <td>The Weary Traveler</td>\n",
       "      <td>2022</td>\n",
       "      <td>NaN</td>\n",
       "      <td>Horror</td>\n",
       "    </tr>\n",
       "    <tr>\n",
       "      <th>...</th>\n",
       "      <td>...</td>\n",
       "      <td>...</td>\n",
       "      <td>...</td>\n",
       "      <td>...</td>\n",
       "      <td>...</td>\n",
       "      <td>...</td>\n",
       "    </tr>\n",
       "    <tr>\n",
       "      <th>134279</th>\n",
       "      <td>tt9844420</td>\n",
       "      <td>Star High</td>\n",
       "      <td>Star High</td>\n",
       "      <td>2011</td>\n",
       "      <td>66.0</td>\n",
       "      <td>Sci-Fi</td>\n",
       "    </tr>\n",
       "    <tr>\n",
       "      <th>134280</th>\n",
       "      <td>tt9856614</td>\n",
       "      <td>Kanun il sangue e l'onore</td>\n",
       "      <td>Kanun il sangue e l'onore</td>\n",
       "      <td>2011</td>\n",
       "      <td>NaN</td>\n",
       "      <td>Documentary</td>\n",
       "    </tr>\n",
       "    <tr>\n",
       "      <th>134281</th>\n",
       "      <td>tt9878416</td>\n",
       "      <td>Xing Fu De Xiang Ri Kui</td>\n",
       "      <td>Xing Fu De Xiang Ri Kui</td>\n",
       "      <td>2011</td>\n",
       "      <td>NaN</td>\n",
       "      <td>Drama</td>\n",
       "    </tr>\n",
       "    <tr>\n",
       "      <th>134282</th>\n",
       "      <td>tt9896506</td>\n",
       "      <td>Six Hours With Terrorists</td>\n",
       "      <td>Six Hours With Terrorists</td>\n",
       "      <td>2011</td>\n",
       "      <td>NaN</td>\n",
       "      <td>Drama</td>\n",
       "    </tr>\n",
       "    <tr>\n",
       "      <th>134283</th>\n",
       "      <td>tt9898682</td>\n",
       "      <td>Vengeance Douloureuse 1: la colère est née</td>\n",
       "      <td>Vengeance Douloureuse 1: la colère est née</td>\n",
       "      <td>2011</td>\n",
       "      <td>76.0</td>\n",
       "      <td>Horror</td>\n",
       "    </tr>\n",
       "  </tbody>\n",
       "</table>\n",
       "<p>134284 rows × 6 columns</p>\n",
       "</div>"
      ],
      "text/plain": [
       "          movie_id                               primary_title  \\\n",
       "0       tt10042446                 Untitled Disney Marvel Film   \n",
       "1       tt10064536                 Untitled Disney Marvel Film   \n",
       "2       tt10108854             The Hunchback of the Lighthouse   \n",
       "3       tt10251718                       Corazones en Llamas 5   \n",
       "4       tt10288908                          The Weary Traveler   \n",
       "...            ...                                         ...   \n",
       "134279   tt9844420                                   Star High   \n",
       "134280   tt9856614                   Kanun il sangue e l'onore   \n",
       "134281   tt9878416                     Xing Fu De Xiang Ri Kui   \n",
       "134282   tt9896506                   Six Hours With Terrorists   \n",
       "134283   tt9898682  Vengeance Douloureuse 1: la colère est née   \n",
       "\n",
       "                                    original_title  start_year  \\\n",
       "0                      Untitled Disney Marvel Film        2022   \n",
       "1                      Untitled Disney Marvel Film        2022   \n",
       "2                  The Hunchback of the Lighthouse        2022   \n",
       "3                            Corazones en Llamas 5        2022   \n",
       "4                               The Weary Traveler        2022   \n",
       "...                                            ...         ...   \n",
       "134279                                   Star High        2011   \n",
       "134280                   Kanun il sangue e l'onore        2011   \n",
       "134281                     Xing Fu De Xiang Ri Kui        2011   \n",
       "134282                   Six Hours With Terrorists        2011   \n",
       "134283  Vengeance Douloureuse 1: la colère est née        2011   \n",
       "\n",
       "        runtime_minutes       genres  \n",
       "0                   NaN       Action  \n",
       "1                   NaN       Action  \n",
       "2                 120.0        Drama  \n",
       "3                   NaN       Action  \n",
       "4                   NaN       Horror  \n",
       "...                 ...          ...  \n",
       "134279             66.0       Sci-Fi  \n",
       "134280              NaN  Documentary  \n",
       "134281              NaN        Drama  \n",
       "134282              NaN        Drama  \n",
       "134283             76.0       Horror  \n",
       "\n",
       "[134284 rows x 6 columns]"
      ]
     },
     "execution_count": 43,
     "metadata": {},
     "output_type": "execute_result"
    }
   ],
   "source": [
    "pd.read_sql(\"\"\"\n",
    "SELECT *\n",
    "FROM movie_basics\n",
    "WHERE\n",
    "    start_year > 2010 AND\n",
    "    start_year <= 2022\n",
    "ORDER BY\n",
    "    start_year DESC\n",
    ";\n",
    "\"\"\"\n",
    "\n",
    ",conn)\n"
   ]
  },
  {
   "cell_type": "code",
   "execution_count": 73,
   "metadata": {
    "scrolled": true
   },
   "outputs": [
    {
     "data": {
      "text/html": [
       "<div>\n",
       "<style scoped>\n",
       "    .dataframe tbody tr th:only-of-type {\n",
       "        vertical-align: middle;\n",
       "    }\n",
       "\n",
       "    .dataframe tbody tr th {\n",
       "        vertical-align: top;\n",
       "    }\n",
       "\n",
       "    .dataframe thead th {\n",
       "        text-align: right;\n",
       "    }\n",
       "</style>\n",
       "<table border=\"1\" class=\"dataframe\">\n",
       "  <thead>\n",
       "    <tr style=\"text-align: right;\">\n",
       "      <th></th>\n",
       "      <th>movie_id</th>\n",
       "      <th>ordering</th>\n",
       "      <th>person_id</th>\n",
       "      <th>category</th>\n",
       "      <th>job</th>\n",
       "      <th>characters</th>\n",
       "    </tr>\n",
       "  </thead>\n",
       "  <tbody>\n",
       "    <tr>\n",
       "      <th>0</th>\n",
       "      <td>tt0111414</td>\n",
       "      <td>1</td>\n",
       "      <td>nm0246005</td>\n",
       "      <td>actor</td>\n",
       "      <td>None</td>\n",
       "      <td>[\"The Man\"]</td>\n",
       "    </tr>\n",
       "    <tr>\n",
       "      <th>1</th>\n",
       "      <td>tt0111414</td>\n",
       "      <td>2</td>\n",
       "      <td>nm0398271</td>\n",
       "      <td>director</td>\n",
       "      <td>None</td>\n",
       "      <td>None</td>\n",
       "    </tr>\n",
       "    <tr>\n",
       "      <th>2</th>\n",
       "      <td>tt0111414</td>\n",
       "      <td>3</td>\n",
       "      <td>nm3739909</td>\n",
       "      <td>producer</td>\n",
       "      <td>producer</td>\n",
       "      <td>None</td>\n",
       "    </tr>\n",
       "    <tr>\n",
       "      <th>3</th>\n",
       "      <td>tt0323808</td>\n",
       "      <td>10</td>\n",
       "      <td>nm0059247</td>\n",
       "      <td>editor</td>\n",
       "      <td>None</td>\n",
       "      <td>None</td>\n",
       "    </tr>\n",
       "    <tr>\n",
       "      <th>4</th>\n",
       "      <td>tt0323808</td>\n",
       "      <td>1</td>\n",
       "      <td>nm3579312</td>\n",
       "      <td>actress</td>\n",
       "      <td>None</td>\n",
       "      <td>[\"Beth Boothby\"]</td>\n",
       "    </tr>\n",
       "  </tbody>\n",
       "</table>\n",
       "</div>"
      ],
      "text/plain": [
       "    movie_id  ordering  person_id  category       job        characters\n",
       "0  tt0111414         1  nm0246005     actor      None       [\"The Man\"]\n",
       "1  tt0111414         2  nm0398271  director      None              None\n",
       "2  tt0111414         3  nm3739909  producer  producer              None\n",
       "3  tt0323808        10  nm0059247    editor      None              None\n",
       "4  tt0323808         1  nm3579312   actress      None  [\"Beth Boothby\"]"
      ]
     },
     "execution_count": 73,
     "metadata": {},
     "output_type": "execute_result"
    }
   ],
   "source": [
    "pd.read_sql(\"\"\"\n",
    "SELECT *\n",
    "FROM principals\n",
    "\"\"\", conn).head()"
   ]
  },
  {
   "cell_type": "code",
   "execution_count": 74,
   "metadata": {},
   "outputs": [
    {
     "data": {
      "text/html": [
       "<div>\n",
       "<style scoped>\n",
       "    .dataframe tbody tr th:only-of-type {\n",
       "        vertical-align: middle;\n",
       "    }\n",
       "\n",
       "    .dataframe tbody tr th {\n",
       "        vertical-align: top;\n",
       "    }\n",
       "\n",
       "    .dataframe thead th {\n",
       "        text-align: right;\n",
       "    }\n",
       "</style>\n",
       "<table border=\"1\" class=\"dataframe\">\n",
       "  <thead>\n",
       "    <tr style=\"text-align: right;\">\n",
       "      <th></th>\n",
       "      <th>person_id</th>\n",
       "      <th>primary_name</th>\n",
       "      <th>birth_year</th>\n",
       "      <th>death_year</th>\n",
       "      <th>primary_profession</th>\n",
       "    </tr>\n",
       "  </thead>\n",
       "  <tbody>\n",
       "    <tr>\n",
       "      <th>0</th>\n",
       "      <td>nm0061671</td>\n",
       "      <td>Mary Ellen Bauder</td>\n",
       "      <td>NaN</td>\n",
       "      <td>NaN</td>\n",
       "      <td>miscellaneous,production_manager,producer</td>\n",
       "    </tr>\n",
       "    <tr>\n",
       "      <th>1</th>\n",
       "      <td>nm0061865</td>\n",
       "      <td>Joseph Bauer</td>\n",
       "      <td>NaN</td>\n",
       "      <td>NaN</td>\n",
       "      <td>composer,music_department,sound_department</td>\n",
       "    </tr>\n",
       "    <tr>\n",
       "      <th>2</th>\n",
       "      <td>nm0062070</td>\n",
       "      <td>Bruce Baum</td>\n",
       "      <td>NaN</td>\n",
       "      <td>NaN</td>\n",
       "      <td>miscellaneous,actor,writer</td>\n",
       "    </tr>\n",
       "    <tr>\n",
       "      <th>3</th>\n",
       "      <td>nm0062195</td>\n",
       "      <td>Axel Baumann</td>\n",
       "      <td>NaN</td>\n",
       "      <td>NaN</td>\n",
       "      <td>camera_department,cinematographer,art_department</td>\n",
       "    </tr>\n",
       "    <tr>\n",
       "      <th>4</th>\n",
       "      <td>nm0062798</td>\n",
       "      <td>Pete Baxter</td>\n",
       "      <td>NaN</td>\n",
       "      <td>NaN</td>\n",
       "      <td>production_designer,art_department,set_decorator</td>\n",
       "    </tr>\n",
       "  </tbody>\n",
       "</table>\n",
       "</div>"
      ],
      "text/plain": [
       "   person_id       primary_name  birth_year  death_year  \\\n",
       "0  nm0061671  Mary Ellen Bauder         NaN         NaN   \n",
       "1  nm0061865       Joseph Bauer         NaN         NaN   \n",
       "2  nm0062070         Bruce Baum         NaN         NaN   \n",
       "3  nm0062195       Axel Baumann         NaN         NaN   \n",
       "4  nm0062798        Pete Baxter         NaN         NaN   \n",
       "\n",
       "                                 primary_profession  \n",
       "0         miscellaneous,production_manager,producer  \n",
       "1        composer,music_department,sound_department  \n",
       "2                        miscellaneous,actor,writer  \n",
       "3  camera_department,cinematographer,art_department  \n",
       "4  production_designer,art_department,set_decorator  "
      ]
     },
     "execution_count": 74,
     "metadata": {},
     "output_type": "execute_result"
    }
   ],
   "source": [
    "pd.read_sql(\"\"\"\n",
    "SELECT *\n",
    "FROM persons\n",
    "\"\"\", conn).head()"
   ]
  },
  {
   "cell_type": "code",
   "execution_count": 44,
   "metadata": {},
   "outputs": [],
   "source": [
    "conn.close()"
   ]
  },
  {
   "cell_type": "markdown",
   "metadata": {},
   "source": [
    "# Problem & Questions"
   ]
  },
  {
   "cell_type": "markdown",
   "metadata": {},
   "source": [
    "Business Problem:\n",
    "\n",
    "You are charged with exploring what types of films are currently doing the best at the box office. You must then translate those findings into actionable insights that the head of Microsoft's new movie studio can use to help decide what type of films to create.\n",
    "\n",
    "Questions:\n",
    "\n",
    "- What genre of movies are doing well currently? \n",
    "    - are movie franchises, i.e. star wars, marvel, harry potter, etc. any better than one-offs when measuring success\n",
    "- what does \"doing well\" mean?\n",
    "    - presumably, total gross > production budget. The Numbers (data source) includes domestic & international in Worldwide Gross.   \n",
    "    - based on the data we have, we could measure by worldwide gross, imdb rating, The Movie Database popularity\n",
    "    - both are important for a new studio, probably lean toward measuring success monetarily. need some easy wins \n",
    "        - maybe measure against MSFT financial position?\n",
    "- what actors are in those successful movies?\n",
    "- what writers/directors are responsible for the movies?\n",
    "- is rating significant?\n",
    "- does movie length have any impact?\n",
    "\n",
    "\n"
   ]
  },
  {
   "cell_type": "markdown",
   "metadata": {},
   "source": [
    "Data Clearning Thoughts:\n",
    "\n",
    "- We'll need to decide what \"doing well currently\" means. We'll be able to eliminate a lot of bloat by ignoring things that were released too long ago to be relevant. Maybe we start at movies released in the last 10-15 years?\n",
    "\n",
    "- probably want to identify the categories we want from each csv/db and then create one dataframe to work with. In addition to making comparisons easier, I think that's our most realistic path to solving the file size issue git has with im.db.\n",
    "\n",
    "- the im.db file has the most records by far of any of our data sources. I think maybe we could make our starting position the movie_basics table (146k rows), and then add columns from the other sources to it and drop records for which we don't have enough info.\n",
    "\n",
    "- remember we don't have to use all data sources--don't want to create problems with unknown values if a data file is super short (rotten tomatoes). Will see what happens with that.\n"
   ]
  },
  {
   "cell_type": "markdown",
   "metadata": {},
   "source": [
    "Taking a stab at the columns in our ideal dataframe:\n",
    "   - Movie Title\n",
    "   - Genre(s)\n",
    "   - Release Year\n",
    "   - Rating (R/PG-13/etc)\n",
    "   - Total Gross\n",
    "   - Production Budget\n",
    "   - Associated Actors/Star/TBD\n",
    "   - Writer\n",
    "   - Director\n",
    "   - Run Time\n",
    "   - IMDB Rating\n",
    "   - The Movie Database Popularity (still need to understand what this is)\n",
    "   - The Movie Database Vote Count"
   ]
  },
  {
   "cell_type": "code",
   "execution_count": null,
   "metadata": {},
   "outputs": [],
   "source": []
  }
 ],
 "metadata": {
  "kernelspec": {
   "display_name": "Python 3",
   "language": "python",
   "name": "python3"
  },
  "language_info": {
   "codemirror_mode": {
    "name": "ipython",
    "version": 3
   },
   "file_extension": ".py",
   "mimetype": "text/x-python",
   "name": "python",
   "nbconvert_exporter": "python",
   "pygments_lexer": "ipython3",
   "version": "3.8.5"
  }
 },
 "nbformat": 4,
 "nbformat_minor": 4
}
